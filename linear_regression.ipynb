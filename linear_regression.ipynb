{
 "cells": [
  {
   "cell_type": "markdown",
   "metadata": {},
   "source": [
    "#Linear regression on TATA global dataset"
   ]
  },
  {
   "cell_type": "code",
   "execution_count": 13,
   "metadata": {},
   "outputs": [
    {
     "data": {
      "text/html": [
       "<div>\n",
       "<style scoped>\n",
       "    .dataframe tbody tr th:only-of-type {\n",
       "        vertical-align: middle;\n",
       "    }\n",
       "\n",
       "    .dataframe tbody tr th {\n",
       "        vertical-align: top;\n",
       "    }\n",
       "\n",
       "    .dataframe thead th {\n",
       "        text-align: right;\n",
       "    }\n",
       "</style>\n",
       "<table border=\"1\" class=\"dataframe\">\n",
       "  <thead>\n",
       "    <tr style=\"text-align: right;\">\n",
       "      <th></th>\n",
       "      <th>Date</th>\n",
       "      <th>Open</th>\n",
       "      <th>High</th>\n",
       "      <th>Low</th>\n",
       "      <th>Last</th>\n",
       "      <th>Close</th>\n",
       "      <th>Total Trade Quantity</th>\n",
       "      <th>Turnover (Lacs)</th>\n",
       "    </tr>\n",
       "  </thead>\n",
       "  <tbody>\n",
       "    <tr>\n",
       "      <td>0</td>\n",
       "      <td>2018-10-08</td>\n",
       "      <td>208.00</td>\n",
       "      <td>222.25</td>\n",
       "      <td>206.85</td>\n",
       "      <td>216.00</td>\n",
       "      <td>215.15</td>\n",
       "      <td>4642146.0</td>\n",
       "      <td>10062.83</td>\n",
       "    </tr>\n",
       "    <tr>\n",
       "      <td>1</td>\n",
       "      <td>2018-10-05</td>\n",
       "      <td>217.00</td>\n",
       "      <td>218.60</td>\n",
       "      <td>205.90</td>\n",
       "      <td>210.25</td>\n",
       "      <td>209.20</td>\n",
       "      <td>3519515.0</td>\n",
       "      <td>7407.06</td>\n",
       "    </tr>\n",
       "    <tr>\n",
       "      <td>2</td>\n",
       "      <td>2018-10-04</td>\n",
       "      <td>223.50</td>\n",
       "      <td>227.80</td>\n",
       "      <td>216.15</td>\n",
       "      <td>217.25</td>\n",
       "      <td>218.20</td>\n",
       "      <td>1728786.0</td>\n",
       "      <td>3815.79</td>\n",
       "    </tr>\n",
       "    <tr>\n",
       "      <td>3</td>\n",
       "      <td>2018-10-03</td>\n",
       "      <td>230.00</td>\n",
       "      <td>237.50</td>\n",
       "      <td>225.75</td>\n",
       "      <td>226.45</td>\n",
       "      <td>227.60</td>\n",
       "      <td>1708590.0</td>\n",
       "      <td>3960.27</td>\n",
       "    </tr>\n",
       "    <tr>\n",
       "      <td>4</td>\n",
       "      <td>2018-10-01</td>\n",
       "      <td>234.55</td>\n",
       "      <td>234.60</td>\n",
       "      <td>221.05</td>\n",
       "      <td>230.30</td>\n",
       "      <td>230.90</td>\n",
       "      <td>1534749.0</td>\n",
       "      <td>3486.05</td>\n",
       "    </tr>\n",
       "    <tr>\n",
       "      <td>...</td>\n",
       "      <td>...</td>\n",
       "      <td>...</td>\n",
       "      <td>...</td>\n",
       "      <td>...</td>\n",
       "      <td>...</td>\n",
       "      <td>...</td>\n",
       "      <td>...</td>\n",
       "      <td>...</td>\n",
       "    </tr>\n",
       "    <tr>\n",
       "      <td>1230</td>\n",
       "      <td>2013-10-14</td>\n",
       "      <td>160.85</td>\n",
       "      <td>161.45</td>\n",
       "      <td>157.70</td>\n",
       "      <td>159.30</td>\n",
       "      <td>159.45</td>\n",
       "      <td>1281419.0</td>\n",
       "      <td>2039.09</td>\n",
       "    </tr>\n",
       "    <tr>\n",
       "      <td>1231</td>\n",
       "      <td>2013-10-11</td>\n",
       "      <td>161.15</td>\n",
       "      <td>163.45</td>\n",
       "      <td>159.00</td>\n",
       "      <td>159.80</td>\n",
       "      <td>160.05</td>\n",
       "      <td>1880046.0</td>\n",
       "      <td>3030.76</td>\n",
       "    </tr>\n",
       "    <tr>\n",
       "      <td>1232</td>\n",
       "      <td>2013-10-10</td>\n",
       "      <td>156.00</td>\n",
       "      <td>160.80</td>\n",
       "      <td>155.85</td>\n",
       "      <td>160.30</td>\n",
       "      <td>160.15</td>\n",
       "      <td>3124853.0</td>\n",
       "      <td>4978.80</td>\n",
       "    </tr>\n",
       "    <tr>\n",
       "      <td>1233</td>\n",
       "      <td>2013-10-09</td>\n",
       "      <td>155.70</td>\n",
       "      <td>158.20</td>\n",
       "      <td>154.15</td>\n",
       "      <td>155.30</td>\n",
       "      <td>155.55</td>\n",
       "      <td>2049580.0</td>\n",
       "      <td>3204.49</td>\n",
       "    </tr>\n",
       "    <tr>\n",
       "      <td>1234</td>\n",
       "      <td>2013-10-08</td>\n",
       "      <td>157.00</td>\n",
       "      <td>157.80</td>\n",
       "      <td>155.20</td>\n",
       "      <td>155.80</td>\n",
       "      <td>155.80</td>\n",
       "      <td>1720413.0</td>\n",
       "      <td>2688.94</td>\n",
       "    </tr>\n",
       "  </tbody>\n",
       "</table>\n",
       "<p>1235 rows × 8 columns</p>\n",
       "</div>"
      ],
      "text/plain": [
       "            Date    Open    High     Low    Last   Close  \\\n",
       "0     2018-10-08  208.00  222.25  206.85  216.00  215.15   \n",
       "1     2018-10-05  217.00  218.60  205.90  210.25  209.20   \n",
       "2     2018-10-04  223.50  227.80  216.15  217.25  218.20   \n",
       "3     2018-10-03  230.00  237.50  225.75  226.45  227.60   \n",
       "4     2018-10-01  234.55  234.60  221.05  230.30  230.90   \n",
       "...          ...     ...     ...     ...     ...     ...   \n",
       "1230  2013-10-14  160.85  161.45  157.70  159.30  159.45   \n",
       "1231  2013-10-11  161.15  163.45  159.00  159.80  160.05   \n",
       "1232  2013-10-10  156.00  160.80  155.85  160.30  160.15   \n",
       "1233  2013-10-09  155.70  158.20  154.15  155.30  155.55   \n",
       "1234  2013-10-08  157.00  157.80  155.20  155.80  155.80   \n",
       "\n",
       "      Total Trade Quantity  Turnover (Lacs)  \n",
       "0                4642146.0         10062.83  \n",
       "1                3519515.0          7407.06  \n",
       "2                1728786.0          3815.79  \n",
       "3                1708590.0          3960.27  \n",
       "4                1534749.0          3486.05  \n",
       "...                    ...              ...  \n",
       "1230             1281419.0          2039.09  \n",
       "1231             1880046.0          3030.76  \n",
       "1232             3124853.0          4978.80  \n",
       "1233             2049580.0          3204.49  \n",
       "1234             1720413.0          2688.94  \n",
       "\n",
       "[1235 rows x 8 columns]"
      ]
     },
     "execution_count": 13,
     "metadata": {},
     "output_type": "execute_result"
    }
   ],
   "source": [
    "import pandas as pd\n",
    "df=pd.read_csv(\"NSE-TATAGLOBAL11.csv\")\n",
    "df"
   ]
  },
  {
   "cell_type": "code",
   "execution_count": 14,
   "metadata": {},
   "outputs": [
    {
     "data": {
      "text/plain": [
       "Date                    0\n",
       "Open                    0\n",
       "High                    0\n",
       "Low                     0\n",
       "Last                    0\n",
       "Close                   0\n",
       "Total Trade Quantity    0\n",
       "Turnover (Lacs)         0\n",
       "dtype: int64"
      ]
     },
     "execution_count": 14,
     "metadata": {},
     "output_type": "execute_result"
    }
   ],
   "source": [
    "df.isna().sum()"
   ]
  },
  {
   "cell_type": "code",
   "execution_count": 15,
   "metadata": {},
   "outputs": [],
   "source": [
    "#df['Turnover (Lacs)'].astype(int)"
   ]
  },
  {
   "cell_type": "code",
   "execution_count": 16,
   "metadata": {},
   "outputs": [
    {
     "name": "stdout",
     "output_type": "stream",
     "text": [
      "[ 1.15726345e+03  4.07163220e+03  9.65996471e+03  9.21489077e+03\n",
      "  7.53631584e+03  5.91460404e+03  7.65235161e+03  5.35965170e+03\n",
      "  3.83264716e+03  4.65466297e+03  8.66047610e+03  8.87742230e+03\n",
      "  1.56266061e+04  1.42037649e+03  1.86941241e+03  5.86958944e+03\n",
      " -5.64368038e+01  7.20276134e+02  8.23806136e+03  1.48268081e+03\n",
      "  1.83307051e+01  3.00011979e+03  1.46427284e+03  3.55055868e+03\n",
      "  1.65684807e+03  3.17096637e+03  2.18681087e+03  5.97593726e+03\n",
      "  4.35323836e+03  9.50985411e+03  3.71077903e+03  4.44954693e+03\n",
      "  6.06756200e+03  9.51046701e+02  2.35382783e+03  4.97329079e+03\n",
      "  7.81377362e+03  1.92122399e+04  3.28641967e+03  6.67540596e+03\n",
      "  1.13548562e+04  1.43971131e+04  7.81275458e+03  1.12250683e+04\n",
      "  1.20936020e+04  3.48846551e+04  2.36908407e+03  7.17280969e+03\n",
      "  8.80441807e+03  5.65651431e+03  7.08075839e+03  1.62332518e+04\n",
      "  4.93933088e+03  3.06340684e+03  1.11307346e+03  1.96306698e+02\n",
      "  1.39527502e+03  8.71542274e+03  7.16495379e+03  3.20999079e+03\n",
      "  8.53712574e+03  1.59097201e+04  2.11877359e+03  4.87411794e+03\n",
      "  6.28741858e+03  5.83996778e+02  1.34039110e+03  1.23457211e+04\n",
      "  2.59994532e+03  1.89626828e+03  3.53947469e+03  5.20834272e+03\n",
      "  6.50182065e+01  1.47787372e+03  1.56466678e+03  6.82286000e+03\n",
      "  2.01943182e+03  7.29148237e+02  2.63360884e+03  6.06490922e+03\n",
      "  8.97658811e+03  3.88074759e+03  2.48228403e+03  1.79011584e+03\n",
      "  2.37936985e+03  7.52055384e+03  1.01735355e+03  4.60200749e+03\n",
      "  1.64663105e+03  1.00304955e+03  1.33813491e+03  2.07775045e+03\n",
      "  1.98228773e+03  8.25080441e+03  5.70949347e+03  8.83917281e+03\n",
      "  4.27796064e+03  2.20320020e+03  1.83900119e+03  2.30147263e+03\n",
      "  2.54490453e+03  5.56509153e+03  5.37190592e+03  3.47379789e+02\n",
      "  1.79994285e+03  9.03167353e+02  3.66763715e+03 -4.86203926e+01\n",
      "  3.28514487e+03  1.59023053e+03  5.84405764e+03  2.04540462e+04\n",
      "  1.55689070e+02 -3.15828526e+02  1.60909501e+03  7.41951573e+03\n",
      " -5.77917021e+02  1.59403355e+03  6.16836306e+02  5.11330840e+02\n",
      "  1.35588632e+03  9.55056180e+02  2.44906079e+03  1.29390305e+04\n",
      "  6.67394638e+03  4.77280485e+03  1.42473176e+04  1.28543267e+03\n",
      " -2.60277831e+02  5.88827655e+03 -4.46785752e+01  3.17207041e+03\n",
      "  5.10373616e+03  7.61412129e+03 -3.01695912e+02  5.85118401e+02\n",
      "  8.61086864e+03  2.63570239e+03  7.63231069e+03  1.99455832e+03\n",
      "  4.25971898e+03  4.17662212e+03 -6.63929626e+02  2.27544798e+04\n",
      "  1.17952119e+03  5.47128581e+03  4.63222099e+03  7.49824180e+03\n",
      "  4.86931944e+03  1.14840070e+03  1.09994753e+04  9.58775415e+03\n",
      "  2.37710526e+03  2.67325772e+03  8.55454192e+02  2.05284852e+03\n",
      "  1.63555446e+03  2.98894560e+03  4.57793201e+03  1.53624579e+04\n",
      "  1.99683249e+03  6.31399916e+03 -6.57493304e+00  2.28378568e+02\n",
      "  1.19535227e+04  2.93381194e+02  3.95902253e+03  1.53411671e+04\n",
      "  8.72501573e+02  9.48906390e+03 -4.68140081e+02  1.20855626e+03\n",
      "  6.52835445e+02  1.65568016e+03  4.43192254e+03  4.43012406e+03\n",
      "  3.07873250e+03  2.25919741e+03  1.91681273e+03  6.81667580e+03\n",
      "  2.15380576e+03  4.23831661e+03  1.19936164e+04  6.67175068e+03\n",
      "  1.89988529e+03  7.49091479e+03  5.76640351e+02 -2.92175626e+01\n",
      "  3.34320653e+03  6.92887371e+03  2.20887457e+04  5.74798880e+04\n",
      "  8.09667524e+02  3.27801378e+03  2.36120265e+03  4.01117053e+03\n",
      "  3.36045801e+03  1.05787988e+03  6.28834917e+03  3.54149537e+02\n",
      "  8.08050454e+03  2.54702894e+03  1.24436526e+04  9.80503395e+02\n",
      "  2.58108714e+03  4.47369399e+02  2.74634153e+03  1.22143897e+03\n",
      "  2.68622387e+03  1.45387460e+03  2.44924306e+03  1.05098560e+04\n",
      "  1.14037013e+04  2.99571206e+03 -5.34219492e+02  2.15333399e+03\n",
      "  2.51987896e+03  4.32336398e+03  1.94851464e+03  3.45919212e+03\n",
      "  1.21909306e+04  3.44646520e+03 -1.24618516e+02  1.01371097e+04\n",
      "  4.10145911e+03  3.37409243e+03  8.06526737e+03  6.17306125e+03\n",
      "  2.05643264e+03  2.74355428e+03  1.07290177e+03  2.73093410e+03\n",
      "  1.65725806e+03  6.17867061e+03  1.45965647e+03  1.53520870e+02\n",
      "  4.59891755e+03  6.89474474e+03  2.65850848e+03  5.42845857e+03\n",
      "  1.36059676e+03  2.27042243e+03  3.81980012e+02  1.04083401e+04\n",
      "  1.24721349e+04  1.97451016e+03  1.62025073e+03  3.60484381e+03\n",
      "  8.70162179e+03  5.14908662e+03  1.55832057e+04  1.13649256e+03\n",
      "  5.28028390e+03  3.93768912e+03  3.84629321e+03  1.58111779e+04\n",
      "  5.52117943e+03  4.23004844e+03  8.86638936e+03  2.81867016e+03\n",
      "  3.41982744e+03  6.65691799e+02  1.30798789e+04  7.09368933e+03\n",
      "  6.21568410e+03  9.84831649e+03  2.44108268e+03  1.04930044e+04\n",
      "  1.20016122e+03  1.14933706e+03  7.73277315e+03 -2.69917397e+02\n",
      "  6.40863439e+03  1.70792870e+04  1.72216251e+03  1.82596516e+03\n",
      "  1.03639045e+01  7.95431697e+03  1.91107564e+03  2.60808816e+04\n",
      "  2.56009576e+03  2.25855207e+03  8.97960229e+02  1.17041961e+03\n",
      "  8.56894092e+03  4.15301705e+03  8.44302592e+03  7.30497073e+03\n",
      "  2.74578616e+03  7.56901794e+03  5.70008767e+03  8.02692663e+03\n",
      "  5.71530204e+03  7.23254221e+03  5.64822051e+03  1.21553537e+03\n",
      "  3.63062485e+03  9.71890957e+02  1.61841479e+04  7.72830262e+03\n",
      "  2.63619756e+03  4.62659416e+03 -6.23660224e+01  2.34060700e+03\n",
      "  3.81800849e+03  1.58253511e+03  1.45296725e+04  3.41287525e+03\n",
      "  1.70008937e+04]\n"
     ]
    }
   ],
   "source": [
    "x=df.drop(columns=['Date','Turnover (Lacs)'])\n",
    "y=df['Turnover (Lacs)']\n",
    "from sklearn.model_selection import train_test_split\n",
    "X_train,X_test,Y_train,Y_test=train_test_split(x,y,test_size=0.25)\n",
    "from sklearn.linear_model import LinearRegression\n",
    "lr=LinearRegression()\n",
    "lr.fit(X_train,Y_train)\n",
    "pred=lr.predict(X_test)\n",
    "print(pred)"
   ]
  },
  {
   "cell_type": "code",
   "execution_count": 26,
   "metadata": {},
   "outputs": [
    {
     "data": {
      "text/plain": [
       "<matplotlib.collections.PathCollection at 0x1d9f7fd25f8>"
      ]
     },
     "execution_count": 26,
     "metadata": {},
     "output_type": "execute_result"
    },
    {
     "data": {
      "image/png": "[encoded data removed]",
      "text/plain": [
       "<Figure size 432x288 with 1 Axes>"
      ]
     },
     "metadata": {
      "needs_background": "dark"
     },
     "output_type": "display_data"
    }
   ],
   "source": [
    "import matplotlib.pyplot as plt\n",
    "import numpy as np\n",
    "plt.plot(X_test,pred)\n",
    "a=np.arange(len(X_test))\n",
    "#plt.scatter(a,pred)\n",
    "plt.scatter(a,Y_test)"
   ]
  },
  {
   "cell_type": "code",
   "execution_count": 27,
   "metadata": {},
   "outputs": [
    {
     "name": "stdout",
     "output_type": "stream",
     "text": [
      "Accuracy score:  0.9552680292187884\n"
     ]
    }
   ],
   "source": [
    "#from sklearn.metrics import accuracy_score\n",
    "#acc=accuracy_score(pred,Y_test)\n",
    "#print(acc)\n",
    "z=lr.score(x,y)\n",
    "print('Accuracy score: ',z)"
   ]
  },
  {
   "cell_type": "code",
   "execution_count": 3,
   "metadata": {},
   "outputs": [
    {
     "name": "stdout",
     "output_type": "stream",
     "text": [
      "[ 5.75996282e+03  1.69884012e+03  4.22266950e+03  4.52828039e+03\n",
      "  2.41559218e+04  1.91335459e+03  1.34357115e+03  7.37664246e+03\n",
      "  5.77825405e+03  8.49594421e+03  4.45873244e+03  5.62121773e+03\n",
      "  2.50292467e+04  5.95281557e+03  9.13343243e+02  5.16998977e+03\n",
      "  3.53072919e+03  4.80303289e+03  1.68487192e+03  1.11606322e+03\n",
      "  3.52991433e+03  3.32690793e+03  1.69299065e+04  3.13493221e+03\n",
      "  4.74134052e+03  2.73735896e+03  5.95631457e+02  1.02795274e+04\n",
      "  1.17700288e+03  2.23945929e+03  1.35379808e+03 -1.52017648e+01\n",
      "  8.00838220e+02  2.44405324e+03  6.51327354e+03  2.48301368e+03\n",
      "  5.33957549e+03  3.19039872e+03  3.55300594e+03  2.52397465e+03\n",
      "  1.57344154e+03  1.61480218e+03  2.85214650e+03  3.03860243e+03\n",
      "  5.13616721e+03  1.88198773e+03  3.03829158e+03  3.15826807e+03\n",
      "  2.51691395e+03  2.64431306e+03  2.21735128e+03  5.21858430e+03\n",
      "  3.57377036e+02 -1.21199220e+01  4.81752066e+03  6.14514654e+03\n",
      "  3.49394025e+03  8.29024675e+03  4.91661700e+03  2.65108512e+03\n",
      "  6.60043107e+03  9.61401810e+03  4.15780426e+03  1.74369337e+03\n",
      "  2.16781977e+03  3.21519557e+03  1.30902032e+03  1.88467657e+03\n",
      "  1.69530533e+03  2.69788562e+03  4.56172771e+03  1.88286477e+03\n",
      "  8.30704812e+03  1.90454869e+03  3.58632448e+03  5.21816243e+03\n",
      "  1.47470359e+04  2.78176369e+03  2.18307355e+03  1.86531070e+03\n",
      "  3.40724677e+03  3.71361702e+03  1.12207906e+04  2.50997980e+03\n",
      "  2.33431255e+03  1.62562860e+03  1.30052019e+04  6.00485830e+03\n",
      "  5.10420974e+03  4.74312790e+03  1.37250165e+04  3.12262108e+04\n",
      "  4.93117138e+03  4.92874232e+03  1.71684937e+03  7.04290837e+02\n",
      "  2.23954144e+03  2.15860532e+03  5.11637281e+03  6.27405771e+03\n",
      "  9.91421774e+02  6.59908305e+02  3.54649810e+03 -3.40369751e+01\n",
      "  3.83858041e+03  6.07607374e+03  2.62540236e+03  8.87194235e+03\n",
      "  6.12810315e+03  4.62879331e+03  1.56441497e+04  4.37380191e+03\n",
      "  5.30185400e+03  3.61737827e+03  1.61418492e+03  9.60352447e+02\n",
      "  1.38911052e+04  1.48759846e+03  1.75623167e+03  3.18535409e+03\n",
      "  1.14451833e+04  8.64646603e+03  5.83015024e+03  1.27110788e+03\n",
      "  1.15183302e+03  2.77518480e+03  6.54306839e+03  9.90780786e+03\n",
      "  3.69423782e+03  1.31259286e+03  3.03583587e+03  1.22229576e+03\n",
      "  1.66611220e+03  9.24285366e+03  6.62374028e+03  9.89516742e+03\n",
      "  4.03070489e+03  5.14209110e+03  3.62278925e+03  6.30246679e+02\n",
      "  3.73777885e+03  1.95262810e+03  4.47133069e+03  5.43231054e+03\n",
      "  3.68657763e+03  4.20728915e+03  9.25777218e+03  5.63373827e+03\n",
      "  9.31250348e+02  1.46046803e+03  1.10098753e+04  4.18996128e+02\n",
      "  7.40186783e+03  3.04577166e+02  1.85455425e+04  4.61045990e+03\n",
      "  8.62731331e+03  1.61591680e+03  4.28834295e+03  1.58117723e+03\n",
      "  2.07780465e+03  2.79968634e+03  1.62506019e+03  3.64831437e+03\n",
      "  4.84085429e+03  4.75859485e+03  2.88094885e+03  5.75102148e+03\n",
      "  3.52707450e+03  1.52638793e+03  3.69554186e+04  2.48931280e+03\n",
      "  3.47592657e+03  1.09040488e+03  1.77334167e+03  7.56002737e+02\n",
      "  1.24499507e+04  2.35977300e+02  3.82311569e+03  9.32460465e+03\n",
      "  3.64598523e+03  9.46636720e+03  1.43305519e+04  5.67857126e+02\n",
      "  7.23672253e+02  5.71766298e+03  1.59826503e+03  8.60817613e+03\n",
      "  3.53235671e+03  3.33456591e+03  3.49927797e+03  1.08660586e+03\n",
      "  4.65631008e+03  7.22051204e+03  2.92763832e+03  1.57695483e+04\n",
      "  1.94153302e+03  3.17831337e+03  3.44130024e+03  4.02405495e+03\n",
      "  3.98816525e+03  7.75302472e+03  1.92102145e+03  1.64573163e+03\n",
      "  1.49049601e+03  1.72485372e+03  4.16862845e+03  1.01022104e+04\n",
      "  2.51927418e+03  4.13201936e+03  2.34640234e+03  1.15901363e+03\n",
      "  1.13325273e+04  3.54169549e+03  2.93160609e+03  1.51649850e+03\n",
      "  1.02036537e+04  2.19331353e+02  7.31240336e+03  5.52836722e+03\n",
      "  1.91179368e+03  7.71689522e+03  1.04616115e+04  6.52104476e+03\n",
      "  2.04953296e+03  2.01565933e+03  1.15666164e+04  9.82909875e+03\n",
      "  5.62306062e+03  1.47590166e+03  2.17926344e+03  5.57951960e+03\n",
      "  2.31886337e+03  3.65319470e+03  4.05947394e+03  1.44906432e+03\n",
      "  2.27420551e+03  2.25969554e+03  3.34572759e+03  4.04688900e+03\n",
      "  1.25157548e+03  2.16529967e+03  1.27857269e+03  2.20680907e+03\n",
      "  3.68031846e+03  9.46393120e+02  3.18439268e+03  7.07900484e+03\n",
      "  9.63853074e+03  6.12770349e+03  3.72745645e+03  3.33109328e+03\n",
      "  8.36519210e+02  7.00871307e+03  5.79646978e+03  9.48536449e+03\n",
      "  5.88730865e+03  2.10273027e+03  1.00315631e+03  3.12394840e+04\n",
      "  5.74328357e+03  9.64572689e+03  3.30134950e+03  5.98398010e+02\n",
      "  3.79040109e+03  1.94624460e+03  2.48528509e+03  1.17244698e+04\n",
      "  1.20737946e+03  7.49914544e+02  5.72149308e+03  3.60305036e+03\n",
      "  1.23596866e+03  1.15942661e+03  3.86706082e+03  2.55278702e+04\n",
      "  3.17992090e+03  5.23979528e+03  1.31648383e+04  6.34312163e+03\n",
      "  5.51719443e+03  7.84811750e+02  5.00712726e+03  3.43451486e+03\n",
      "  1.42934433e+04  5.99861219e+02  1.30043202e+03  2.74671550e+03\n",
      "  2.63873111e+03  4.89021262e+03  3.55688045e+03  6.14632554e+03\n",
      "  6.01131285e+03  5.18620053e+03  6.99131220e+03  9.98184953e+02\n",
      "  6.34586820e+03  3.88582276e+03  3.52750525e+03  1.79944877e+04\n",
      "  4.98973305e+03  2.25988427e+03  2.23639743e+03  6.11125044e+02\n",
      "  1.21950303e+04  3.17102397e+03  2.85762188e+03  5.18909142e+03\n",
      "  8.18898529e+02]\n"
     ]
    }
   ],
   "source": [
    "# for plotting linear relation of 'total trade' and 'turnover'\n",
    "df1=pd.read_csv(\"NSE-TATAGLOBAL11.csv\")\n",
    "x1=df1[['Total Trade Quantity']]\n",
    "y1=df1['Turnover (Lacs)']\n",
    "from sklearn.model_selection import train_test_split\n",
    "X_train,X_test,Y_train,Y_test=train_test_split(x1,y1,test_size=0.25)\n",
    "from sklearn.linear_model import LinearRegression\n",
    "lr1=LinearRegression()\n",
    "lr1.fit(X_train,Y_train)\n",
    "pred1=lr1.predict(X_test)\n",
    "print(pred1)"
   ]
  },
  {
   "cell_type": "code",
   "execution_count": 4,
   "metadata": {},
   "outputs": [
    {
     "data": {
      "text/plain": [
       "<matplotlib.collections.PathCollection at 0x2265965aeb8>"
      ]
     },
     "execution_count": 4,
     "metadata": {},
     "output_type": "execute_result"
    },
    {
     "data": {
      "image/png": "[encoded data removed]",
      "text/plain": [
       "<Figure size 432x288 with 1 Axes>"
      ]
     },
     "metadata": {
      "needs_background": "dark"
     },
     "output_type": "display_data"
    }
   ],
   "source": [
    "#a=np.arange(len(X_test))\n",
    "plt.plot(X_test,pred1)\n",
    "plt.scatter(X_test,Y_test)"
   ]
  },
  {
   "cell_type": "code",
   "execution_count": 55,
   "metadata": {},
   "outputs": [
    {
     "name": "stdout",
     "output_type": "stream",
     "text": [
      "0       4642146.0\n",
      "1       3519515.0\n",
      "2       1728786.0\n",
      "3       1708590.0\n",
      "4       1534749.0\n",
      "          ...    \n",
      "1230    1281419.0\n",
      "1231    1880046.0\n",
      "1232    3124853.0\n",
      "1233    2049580.0\n",
      "1234    1720413.0\n",
      "Name: Total Trade Quantity, Length: 1235, dtype: float64\n"
     ]
    }
   ],
   "source": [
    "x1=df1['Total Trade Quantity']\n",
    "print(x1)"
   ]
  },
  {
   "cell_type": "code",
   "execution_count": null,
   "metadata": {},
   "outputs": [],
   "source": []
  }
 ],
 "metadata": {
  "kernelspec": {
   "display_name": "Python 3",
   "language": "python",
   "name": "python3"
  },
  "language_info": {
   "codemirror_mode": {
    "name": "ipython",
    "version": 3
   },
   "file_extension": ".py",
   "mimetype": "text/x-python",
   "name": "python",
   "nbconvert_exporter": "python",
   "pygments_lexer": "ipython3",
   "version": "3.6.9"
  }
 },
 "nbformat": 4,
 "nbformat_minor": 2
}
