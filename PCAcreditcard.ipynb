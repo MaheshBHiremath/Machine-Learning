{
 "cells": [
  {
   "cell_type": "markdown",
   "metadata": {},
   "source": [
    "#Logistic regression on credit card to predict fraud or not"
   ]
  },
  {
   "cell_type": "code",
   "execution_count": 1,
   "metadata": {},
   "outputs": [
    {
     "data": {
      "text/html": [
       "<div>\n",
       "<style scoped>\n",
       "    .dataframe tbody tr th:only-of-type {\n",
       "        vertical-align: middle;\n",
       "    }\n",
       "\n",
       "    .dataframe tbody tr th {\n",
       "        vertical-align: top;\n",
       "    }\n",
       "\n",
       "    .dataframe thead th {\n",
       "        text-align: right;\n",
       "    }\n",
       "</style>\n",
       "<table border=\"1\" class=\"dataframe\">\n",
       "  <thead>\n",
       "    <tr style=\"text-align: right;\">\n",
       "      <th></th>\n",
       "      <th>Time</th>\n",
       "      <th>V1</th>\n",
       "      <th>V2</th>\n",
       "      <th>V3</th>\n",
       "      <th>V4</th>\n",
       "      <th>V5</th>\n",
       "      <th>V6</th>\n",
       "      <th>V7</th>\n",
       "      <th>V8</th>\n",
       "      <th>V9</th>\n",
       "      <th>V10</th>\n",
       "      <th>V11</th>\n",
       "      <th>V12</th>\n",
       "      <th>V13</th>\n",
       "      <th>V14</th>\n",
       "      <th>V15</th>\n",
       "      <th>V16</th>\n",
       "      <th>V17</th>\n",
       "      <th>V18</th>\n",
       "      <th>V19</th>\n",
       "      <th>V20</th>\n",
       "      <th>V21</th>\n",
       "      <th>V22</th>\n",
       "      <th>V23</th>\n",
       "      <th>V24</th>\n",
       "      <th>V25</th>\n",
       "      <th>V26</th>\n",
       "      <th>V27</th>\n",
       "      <th>V28</th>\n",
       "      <th>Amount</th>\n",
       "      <th>Class</th>\n",
       "    </tr>\n",
       "  </thead>\n",
       "  <tbody>\n",
       "    <tr>\n",
       "      <td>76688</td>\n",
       "      <td>56699</td>\n",
       "      <td>-1.181207</td>\n",
       "      <td>-1.951604</td>\n",
       "      <td>3.063446</td>\n",
       "      <td>-1.738750</td>\n",
       "      <td>-0.918976</td>\n",
       "      <td>-0.381338</td>\n",
       "      <td>-1.333012</td>\n",
       "      <td>0.146660</td>\n",
       "      <td>-0.765473</td>\n",
       "      <td>0.593074</td>\n",
       "      <td>-1.723321</td>\n",
       "      <td>-1.341321</td>\n",
       "      <td>-0.896162</td>\n",
       "      <td>-1.573691</td>\n",
       "      <td>-2.033008</td>\n",
       "      <td>-0.988621</td>\n",
       "      <td>0.957287</td>\n",
       "      <td>0.221796</td>\n",
       "      <td>-0.252791</td>\n",
       "      <td>-0.019480</td>\n",
       "      <td>-0.045390</td>\n",
       "      <td>0.382562</td>\n",
       "      <td>-0.154181</td>\n",
       "      <td>0.397571</td>\n",
       "      <td>0.541051</td>\n",
       "      <td>-0.035650</td>\n",
       "      <td>-0.102007</td>\n",
       "      <td>-0.136118</td>\n",
       "      <td>50.0</td>\n",
       "      <td>0.0</td>\n",
       "    </tr>\n",
       "    <tr>\n",
       "      <td>76689</td>\n",
       "      <td>56701</td>\n",
       "      <td>0.894047</td>\n",
       "      <td>-0.088961</td>\n",
       "      <td>0.816240</td>\n",
       "      <td>1.471662</td>\n",
       "      <td>-0.848833</td>\n",
       "      <td>-0.960875</td>\n",
       "      <td>0.194649</td>\n",
       "      <td>-0.236176</td>\n",
       "      <td>-0.062260</td>\n",
       "      <td>-0.065993</td>\n",
       "      <td>0.250945</td>\n",
       "      <td>0.897485</td>\n",
       "      <td>0.951858</td>\n",
       "      <td>0.097327</td>\n",
       "      <td>0.973355</td>\n",
       "      <td>0.185295</td>\n",
       "      <td>-0.407139</td>\n",
       "      <td>-0.355453</td>\n",
       "      <td>-0.722835</td>\n",
       "      <td>0.204394</td>\n",
       "      <td>0.055551</td>\n",
       "      <td>-0.111830</td>\n",
       "      <td>-0.039957</td>\n",
       "      <td>0.933830</td>\n",
       "      <td>0.319871</td>\n",
       "      <td>-0.530666</td>\n",
       "      <td>0.013312</td>\n",
       "      <td>0.064450</td>\n",
       "      <td>150.0</td>\n",
       "      <td>0.0</td>\n",
       "    </tr>\n",
       "    <tr>\n",
       "      <td>76690</td>\n",
       "      <td>56701</td>\n",
       "      <td>0.894047</td>\n",
       "      <td>-0.088961</td>\n",
       "      <td>0.816240</td>\n",
       "      <td>1.471662</td>\n",
       "      <td>-0.848833</td>\n",
       "      <td>-0.960875</td>\n",
       "      <td>0.194649</td>\n",
       "      <td>-0.236176</td>\n",
       "      <td>-0.062260</td>\n",
       "      <td>-0.065993</td>\n",
       "      <td>0.250945</td>\n",
       "      <td>0.897485</td>\n",
       "      <td>0.951858</td>\n",
       "      <td>0.097327</td>\n",
       "      <td>0.973355</td>\n",
       "      <td>0.185295</td>\n",
       "      <td>-0.407139</td>\n",
       "      <td>-0.355453</td>\n",
       "      <td>-0.722835</td>\n",
       "      <td>0.204394</td>\n",
       "      <td>0.055551</td>\n",
       "      <td>-0.111830</td>\n",
       "      <td>-0.039957</td>\n",
       "      <td>0.933830</td>\n",
       "      <td>0.319871</td>\n",
       "      <td>-0.530666</td>\n",
       "      <td>0.013312</td>\n",
       "      <td>0.064450</td>\n",
       "      <td>150.0</td>\n",
       "      <td>0.0</td>\n",
       "    </tr>\n",
       "    <tr>\n",
       "      <td>76691</td>\n",
       "      <td>56701</td>\n",
       "      <td>1.168375</td>\n",
       "      <td>0.364349</td>\n",
       "      <td>0.975466</td>\n",
       "      <td>1.356315</td>\n",
       "      <td>-0.708786</td>\n",
       "      <td>-1.011976</td>\n",
       "      <td>0.006218</td>\n",
       "      <td>-0.199319</td>\n",
       "      <td>-0.045534</td>\n",
       "      <td>0.000145</td>\n",
       "      <td>0.248911</td>\n",
       "      <td>0.891636</td>\n",
       "      <td>0.926542</td>\n",
       "      <td>0.065178</td>\n",
       "      <td>0.955491</td>\n",
       "      <td>0.166566</td>\n",
       "      <td>-0.411349</td>\n",
       "      <td>-0.384547</td>\n",
       "      <td>-0.677481</td>\n",
       "      <td>-0.084783</td>\n",
       "      <td>-0.030491</td>\n",
       "      <td>-0.036884</td>\n",
       "      <td>0.085202</td>\n",
       "      <td>0.926543</td>\n",
       "      <td>0.372010</td>\n",
       "      <td>-0.515522</td>\n",
       "      <td>0.040142</td>\n",
       "      <td>0.039725</td>\n",
       "      <td>8.0</td>\n",
       "      <td>0.0</td>\n",
       "    </tr>\n",
       "    <tr>\n",
       "      <td>76692</td>\n",
       "      <td>56701</td>\n",
       "      <td>1.168375</td>\n",
       "      <td>0.364349</td>\n",
       "      <td>0.975466</td>\n",
       "      <td>1.356315</td>\n",
       "      <td>-0.708786</td>\n",
       "      <td>-1.011976</td>\n",
       "      <td>0.006218</td>\n",
       "      <td>-0.199319</td>\n",
       "      <td>-0.045534</td>\n",
       "      <td>0.000145</td>\n",
       "      <td>0.248911</td>\n",
       "      <td>0.891636</td>\n",
       "      <td>0.926542</td>\n",
       "      <td>0.065178</td>\n",
       "      <td>0.955491</td>\n",
       "      <td>0.166566</td>\n",
       "      <td>-0.411349</td>\n",
       "      <td>-0.384547</td>\n",
       "      <td>-0.677481</td>\n",
       "      <td>-0.084783</td>\n",
       "      <td>-0.000000</td>\n",
       "      <td>NaN</td>\n",
       "      <td>NaN</td>\n",
       "      <td>NaN</td>\n",
       "      <td>NaN</td>\n",
       "      <td>NaN</td>\n",
       "      <td>NaN</td>\n",
       "      <td>NaN</td>\n",
       "      <td>NaN</td>\n",
       "      <td>NaN</td>\n",
       "    </tr>\n",
       "  </tbody>\n",
       "</table>\n",
       "</div>"
      ],
      "text/plain": [
       "        Time        V1        V2        V3        V4        V5        V6  \\\n",
       "76688  56699 -1.181207 -1.951604  3.063446 -1.738750 -0.918976 -0.381338   \n",
       "76689  56701  0.894047 -0.088961  0.816240  1.471662 -0.848833 -0.960875   \n",
       "76690  56701  0.894047 -0.088961  0.816240  1.471662 -0.848833 -0.960875   \n",
       "76691  56701  1.168375  0.364349  0.975466  1.356315 -0.708786 -1.011976   \n",
       "76692  56701  1.168375  0.364349  0.975466  1.356315 -0.708786 -1.011976   \n",
       "\n",
       "             V7        V8        V9       V10       V11       V12       V13  \\\n",
       "76688 -1.333012  0.146660 -0.765473  0.593074 -1.723321 -1.341321 -0.896162   \n",
       "76689  0.194649 -0.236176 -0.062260 -0.065993  0.250945  0.897485  0.951858   \n",
       "76690  0.194649 -0.236176 -0.062260 -0.065993  0.250945  0.897485  0.951858   \n",
       "76691  0.006218 -0.199319 -0.045534  0.000145  0.248911  0.891636  0.926542   \n",
       "76692  0.006218 -0.199319 -0.045534  0.000145  0.248911  0.891636  0.926542   \n",
       "\n",
       "            V14       V15       V16       V17       V18       V19       V20  \\\n",
       "76688 -1.573691 -2.033008 -0.988621  0.957287  0.221796 -0.252791 -0.019480   \n",
       "76689  0.097327  0.973355  0.185295 -0.407139 -0.355453 -0.722835  0.204394   \n",
       "76690  0.097327  0.973355  0.185295 -0.407139 -0.355453 -0.722835  0.204394   \n",
       "76691  0.065178  0.955491  0.166566 -0.411349 -0.384547 -0.677481 -0.084783   \n",
       "76692  0.065178  0.955491  0.166566 -0.411349 -0.384547 -0.677481 -0.084783   \n",
       "\n",
       "            V21       V22       V23       V24       V25       V26       V27  \\\n",
       "76688 -0.045390  0.382562 -0.154181  0.397571  0.541051 -0.035650 -0.102007   \n",
       "76689  0.055551 -0.111830 -0.039957  0.933830  0.319871 -0.530666  0.013312   \n",
       "76690  0.055551 -0.111830 -0.039957  0.933830  0.319871 -0.530666  0.013312   \n",
       "76691 -0.030491 -0.036884  0.085202  0.926543  0.372010 -0.515522  0.040142   \n",
       "76692 -0.000000       NaN       NaN       NaN       NaN       NaN       NaN   \n",
       "\n",
       "            V28  Amount  Class  \n",
       "76688 -0.136118    50.0    0.0  \n",
       "76689  0.064450   150.0    0.0  \n",
       "76690  0.064450   150.0    0.0  \n",
       "76691  0.039725     8.0    0.0  \n",
       "76692       NaN     NaN    NaN  "
      ]
     },
     "execution_count": 1,
     "metadata": {},
     "output_type": "execute_result"
    }
   ],
   "source": [
    "import pandas as pd\n",
    "import numpy as np\n",
    "df=pd.read_csv(\"creditcard.csv\")\n",
    "pd.set_option('display.max_columns',100)\n",
    "df.tail()"
   ]
  },
  {
   "cell_type": "code",
   "execution_count": 2,
   "metadata": {},
   "outputs": [
    {
     "data": {
      "text/plain": [
       "Class\n",
       "0.0      0.0\n",
       "1.0    186.0\n",
       "Name: Class, dtype: float64"
      ]
     },
     "execution_count": 2,
     "metadata": {},
     "output_type": "execute_result"
    }
   ],
   "source": [
    "df.Class.groupby(df.Class).sum()"
   ]
  },
  {
   "cell_type": "code",
   "execution_count": 3,
   "metadata": {},
   "outputs": [
    {
     "data": {
      "text/plain": [
       "Time      0\n",
       "V1        0\n",
       "V2        0\n",
       "V3        0\n",
       "V4        0\n",
       "V5        0\n",
       "V6        0\n",
       "V7        0\n",
       "V8        0\n",
       "V9        0\n",
       "V10       0\n",
       "V11       0\n",
       "V12       0\n",
       "V13       0\n",
       "V14       0\n",
       "V15       0\n",
       "V16       0\n",
       "V17       0\n",
       "V18       0\n",
       "V19       0\n",
       "V20       0\n",
       "V21       0\n",
       "V22       1\n",
       "V23       1\n",
       "V24       1\n",
       "V25       1\n",
       "V26       1\n",
       "V27       1\n",
       "V28       1\n",
       "Amount    1\n",
       "Class     1\n",
       "dtype: int64"
      ]
     },
     "execution_count": 3,
     "metadata": {},
     "output_type": "execute_result"
    }
   ],
   "source": [
    "df.isna().sum()"
   ]
  },
  {
   "cell_type": "code",
   "execution_count": 4,
   "metadata": {},
   "outputs": [],
   "source": [
    "#df['V22'].mean()\n",
    "df['V22']=df['V22'].fillna(df['V22'].mean())\n",
    "df['V23']=df['V23'].fillna(df['V23'].mean())\n",
    "df['V24']=df['V24'].fillna(df['V24'].mean())\n",
    "df['V25']=df['V25'].fillna(df['V25'].mean())\n",
    "df['V26']=df['V26'].fillna(df['V26'].mean())\n",
    "df['V27']=df['V27'].fillna(df['V27'].mean())\n",
    "df['V28']=df['V28'].fillna(df['V28'].mean())\n",
    "df['Class']=df['Class'].fillna(df['Class'].mean())\n",
    "df['Amount']=df['Amount'].fillna(df['Amount'].mean())"
   ]
  },
  {
   "cell_type": "code",
   "execution_count": 5,
   "metadata": {},
   "outputs": [
    {
     "data": {
      "text/plain": [
       "Time      0\n",
       "V1        0\n",
       "V2        0\n",
       "V3        0\n",
       "V4        0\n",
       "V5        0\n",
       "V6        0\n",
       "V7        0\n",
       "V8        0\n",
       "V9        0\n",
       "V10       0\n",
       "V11       0\n",
       "V12       0\n",
       "V13       0\n",
       "V14       0\n",
       "V15       0\n",
       "V16       0\n",
       "V17       0\n",
       "V18       0\n",
       "V19       0\n",
       "V20       0\n",
       "V21       0\n",
       "V22       0\n",
       "V23       0\n",
       "V24       0\n",
       "V25       0\n",
       "V26       0\n",
       "V27       0\n",
       "V28       0\n",
       "Amount    0\n",
       "Class     0\n",
       "dtype: int64"
      ]
     },
     "execution_count": 5,
     "metadata": {},
     "output_type": "execute_result"
    }
   ],
   "source": [
    "df.isna().sum()"
   ]
  },
  {
   "cell_type": "code",
   "execution_count": 6,
   "metadata": {},
   "outputs": [],
   "source": [
    "#df['Class'].groupby(df['Class']).sum()\n",
    "df['Class']=df['Class'].astype(int)"
   ]
  },
  {
   "cell_type": "code",
   "execution_count": 7,
   "metadata": {},
   "outputs": [
    {
     "name": "stderr",
     "output_type": "stream",
     "text": [
      "C:\\Users\\MaheshHiremath\\Anaconda3-2019.10\\lib\\site-packages\\sklearn\\linear_model\\logistic.py:432: FutureWarning: Default solver will be changed to 'lbfgs' in 0.22. Specify a solver to silence this warning.\n",
      "  FutureWarning)\n"
     ]
    },
    {
     "name": "stdout",
     "output_type": "stream",
     "text": [
      "[0 0 0 ... 0 0 0]\n"
     ]
    }
   ],
   "source": [
    "x=df.drop(columns='Class')\n",
    "y=df['Class']\n",
    "from sklearn.linear_model import LogisticRegression\n",
    "from sklearn.model_selection import train_test_split\n",
    "X_train,X_test,Y_train,Y_test=train_test_split(x,y,test_size=0.25)\n",
    "lr=LogisticRegression()\n",
    "lr.fit(X_train,Y_train)\n",
    "pred=lr.predict(X_test)\n",
    "print(pred)"
   ]
  },
  {
   "cell_type": "code",
   "execution_count": 8,
   "metadata": {},
   "outputs": [
    {
     "name": "stdout",
     "output_type": "stream",
     "text": [
      "Accuracy is: 0.9983310733284656\n",
      "Classification report:\n",
      "               precision    recall  f1-score   support\n",
      "\n",
      "           0       1.00      1.00      1.00     19123\n",
      "           1       0.76      0.55      0.64        51\n",
      "\n",
      "    accuracy                           1.00     19174\n",
      "   macro avg       0.88      0.77      0.82     19174\n",
      "weighted avg       1.00      1.00      1.00     19174\n",
      "\n",
      "Confusion matrix:\n",
      "  [[19114     9]\n",
      " [   23    28]]\n"
     ]
    }
   ],
   "source": [
    "from sklearn.metrics import accuracy_score\n",
    "acc=accuracy_score(pred,Y_test)\n",
    "print('Accuracy is:',acc)\n",
    "from sklearn.metrics import classification_report\n",
    "cr=classification_report(Y_test,pred)\n",
    "print('Classification report:\\n',cr)\n",
    "from sklearn.metrics import confusion_matrix\n",
    "cm=confusion_matrix(Y_test,pred)\n",
    "print('Confusion matrix:\\n ', cm)"
   ]
  },
  {
   "cell_type": "code",
   "execution_count": 9,
   "metadata": {},
   "outputs": [],
   "source": [
    "#df.describe()"
   ]
  },
  {
   "cell_type": "code",
   "execution_count": 10,
   "metadata": {},
   "outputs": [],
   "source": [
    "#import matplotlib.pyplot as plt\n",
    "#plt.bar(pred,np.arange(len(pred)))"
   ]
  },
  {
   "cell_type": "code",
   "execution_count": 12,
   "metadata": {},
   "outputs": [],
   "source": [
    "from sklearn.preprocessing import StandardScaler\n",
    "sc=StandardScaler()\n",
    "X_tain=sc.fit_transform(X_train)\n",
    "X_test=sc.transform(X_test)\n"
   ]
  },
  {
   "cell_type": "code",
   "execution_count": 13,
   "metadata": {},
   "outputs": [
    {
     "name": "stdout",
     "output_type": "stream",
     "text": [
      "Explained variance:  [0.07477689 0.06840309 0.06470614 0.04739074 0.04502068 0.04066432\n",
      " 0.03941336 0.03777623 0.0370901  0.03547487 0.0346559  0.03419666\n",
      " 0.03337361 0.03318346 0.03218733 0.03153512 0.03087044 0.03006864\n",
      " 0.02960549 0.02902936 0.02869238 0.02784162 0.02682049 0.02589233\n",
      " 0.02266681 0.02083678 0.01525016 0.01326507 0.00845496 0.00085697]\n"
     ]
    }
   ],
   "source": [
    "from sklearn.decomposition import PCA\n",
    "pc=PCA()\n",
    "X_tain=pc.fit_transform(X_tain)\n",
    "X_test=pc.transform(X_test)\n",
    "exp_var=pc.explained_variance_ratio_\n",
    "print(\"Explained variance: \",exp_var)\n"
   ]
  },
  {
   "cell_type": "code",
   "execution_count": 14,
   "metadata": {},
   "outputs": [
    {
     "name": "stderr",
     "output_type": "stream",
     "text": [
      "C:\\Users\\MaheshHiremath\\Anaconda3-2019.10\\lib\\site-packages\\sklearn\\linear_model\\logistic.py:432: FutureWarning: Default solver will be changed to 'lbfgs' in 0.22. Specify a solver to silence this warning.\n",
      "  FutureWarning)\n"
     ]
    },
    {
     "name": "stdout",
     "output_type": "stream",
     "text": [
      "Accuracy score:  0.9983832272869511\n"
     ]
    }
   ],
   "source": [
    "lr.fit(X_tain,Y_train)\n",
    "predt_pc=lr.predict(X_test)\n",
    "acc_pc=accuracy_score(predt_pc,Y_test)\n",
    "print(\"Accuracy score: \",acc_pc)"
   ]
  },
  {
   "cell_type": "code",
   "execution_count": null,
   "metadata": {},
   "outputs": [],
   "source": []
  }
 ],
 "metadata": {
  "kernelspec": {
   "display_name": "Python 3",
   "language": "python",
   "name": "python3"
  },
  "language_info": {
   "codemirror_mode": {
    "name": "ipython",
    "version": 3
   },
   "file_extension": ".py",
   "mimetype": "text/x-python",
   "name": "python",
   "nbconvert_exporter": "python",
   "pygments_lexer": "ipython3",
   "version": "3.6.9"
  }
 },
 "nbformat": 4,
 "nbformat_minor": 2
}
