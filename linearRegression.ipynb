{
 "cells": [
  {
   "cell_type": "code",
   "execution_count": 2,
   "metadata": {},
   "outputs": [],
   "source": [
    "import pandas as pd\n",
    "Stock_Market = {\n",
    "    'Year': [2017, 2017, 2017, 2017, 2017, 2017, 2017, 2017, 2017, 2017, 2017, 2017, 2016, 2016, 2016, 2016, 2016, 2016,\n",
    "             2016, 2016, 2016, 2016, 2016, 2016],\n",
    "    'Month': [12, 11, 10, 9, 8, 7, 6, 5, 4, 3, 2, 1, 12, 11, 10, 9, 8, 7, 6, 5, 4, 3, 2, 1],\n",
    "    'Interest_Rate': [2.75, 2.5, 2.5, 2.5, 2.5, 2.5, 2.5, 2.25, 2.25, 2.25, 2, 2, 2, 1.75, 1.75, 1.75, 1.75, 1.75, 1.75,\n",
    "                      1.75, 1.75, 1.75, 1.75, 1.75],\n",
    "    'Unemployment_Rate': [5.3, 5.3, 5.3, 5.3, 5.4, 5.6, 5.5, 5.5, 5.5, 5.6, 5.7, 5.9, 6, 5.9, 5.8, 6.1, 6.2, 6.1, 6.1,\n",
    "                          6.1, 5.9, 6.2, 6.2, 6.1],\n",
    "    'Stock_Index_Price': [1464, 1394, 1357, 1293, 1256, 1254, 1234, 1195, 1159, 1167, 1130, 1075, 1047, 965, 943, 958,\n",
    "                          971, 949, 884, 866, 876, 822, 704, 719]\n",
    "    }\n"
   ]
  },
  {
   "cell_type": "code",
   "execution_count": 2,
   "metadata": {},
   "outputs": [
    {
     "name": "stdout",
     "output_type": "stream",
     "text": [
      "[1405.5853843]\n"
     ]
    }
   ],
   "source": [
    "df=pd.DataFrame(Stock_Market)\n",
    "x = df[['Interest_Rate','Unemployment_Rate']]\n",
    "y = df['Stock_Index_Price']\n",
    "from sklearn.linear_model import LinearRegression\n",
    "\n",
    "clf = LinearRegression()\n",
    "clf.fit(x,y)   # x-variables to be processed and y- target variable \n",
    "\n",
    "ypred=clf.predict([[2.7,5.3]]) # interest_rate , unemployment_rate\n",
    "print(ypred)"
   ]
  },
  {
   "cell_type": "code",
   "execution_count": 4,
   "metadata": {},
   "outputs": [
    {
     "name": "stdout",
     "output_type": "stream",
     "text": [
      "coefficient of deteramination:  0.8732520793545959\n",
      "intercept:  [0.8443791]\n",
      "slope:  [[0.01815335 0.01434703 0.01640852]]\n",
      "[[ 1.26190607]\n",
      " [ 8.66215605]\n",
      " [ 1.14743485]\n",
      " [ 0.8443791 ]\n",
      " [ 3.59290215]\n",
      " [10.11921741]\n",
      " [ 1.13696588]\n",
      " [ 2.50519701]\n",
      " [10.88337315]\n",
      " [ 8.39342756]\n",
      " [ 2.14141124]\n",
      " [ 1.27099542]\n",
      " [ 7.8055278 ]\n",
      " [ 6.88185333]\n",
      " [ 2.87853142]\n",
      " [ 2.62692425]\n",
      " [ 8.37337252]\n",
      " [ 1.02122804]\n",
      " [10.72648383]\n",
      " [ 1.02709583]\n",
      " [ 8.72259905]\n",
      " [ 2.53969139]\n",
      " [ 4.89612736]\n",
      " [ 2.38605713]\n",
      " [ 7.68056225]\n",
      " [ 6.77358541]\n",
      " [ 9.63292211]\n",
      " [ 9.46275604]\n",
      " [ 1.5972057 ]\n",
      " [ 0.94949286]\n",
      " [11.00623252]\n",
      " [ 3.76307683]\n",
      " [ 2.73300474]\n",
      " [ 2.28623801]\n",
      " [ 7.38553934]\n",
      " [ 4.58022668]\n",
      " [10.43560451]\n",
      " [ 7.04403422]\n",
      " [ 0.94251355]\n",
      " [ 2.14200976]\n",
      " [ 9.00970942]\n",
      " [ 3.87229255]\n",
      " [ 1.86516122]\n",
      " [ 0.96590138]\n",
      " [ 6.35950388]\n",
      " [ 2.20069416]\n",
      " [ 2.74901752]\n",
      " [ 3.402859  ]\n",
      " [ 1.69982834]]\n"
     ]
    }
   ],
   "source": [
    "# to predict the 'total litres of pure alcohol' present in given data using linear regression\n",
    "df = pd.read_csv(\"drinks_data.csv\")\n",
    "x = df[['beer_servings','spirit_servings','wine_servings']]\n",
    "y = df[['total_litresof_pure_alcohol']]\n",
    "#print(y)\n",
    "from sklearn.linear_model import LinearRegression\n",
    "from sklearn.model_selection import train_test_split\n",
    "X_train, X_test, Y_train, Y_test=train_test_split(x,y,test_size=0.25)\n",
    "z = LinearRegression()\n",
    "z.fit(X_train,Y_train)    # to train the model\n",
    "alcohol = z.predict(X_test)  #as Y_test is set to 25% therefore Y_train is set to 75%\n",
    "rsq = z.score(x,y) # RMSE score\n",
    "print(\"coefficient of deteramination: \",rsq)\n",
    "print(\"intercept: \",z.intercept_)\n",
    "print(\"slope: \", z.coef_)\n",
    "print(alcohol)"
   ]
  },
  {
   "cell_type": "code",
   "execution_count": 1,
   "metadata": {},
   "outputs": [
    {
     "name": "stdout",
     "output_type": "stream",
     "text": [
      "coefficient of deteramination:  0.6980850520089499\n",
      "intercept:  [1.37455885]\n",
      "slope:  [[0.03076339]]\n",
      "score for test  0.6772938691960313\n",
      "score for train:  0.6983308067670255\n",
      "[[12.01869253]\n",
      " [ 3.09730881]\n",
      " [ 8.05021494]\n",
      " [ 8.57319261]\n",
      " [ 7.34265693]\n",
      " [ 1.98982669]\n",
      " [ 7.49647389]\n",
      " [ 1.77448295]\n",
      " [ 6.20441142]\n",
      " [ 8.26555869]\n",
      " [ 3.1280722 ]\n",
      " [ 1.62066599]\n",
      " [12.48014341]\n",
      " [ 2.97425524]\n",
      " [ 5.46609   ]\n",
      " [ 3.28188916]\n",
      " [ 1.40532224]\n",
      " [ 5.37379983]\n",
      " [ 8.91158992]\n",
      " [ 1.74371956]\n",
      " [ 5.74296053]\n",
      " [ 7.92716138]\n",
      " [ 8.75777296]\n",
      " [ 1.65142938]\n",
      " [ 1.52837581]\n",
      " [ 7.61952745]\n",
      " [ 6.57357212]\n",
      " [ 1.62066599]\n",
      " [ 9.09617028]\n",
      " [ 3.09730881]\n",
      " [ 5.18921948]\n",
      " [ 2.14364365]\n",
      " [ 1.40532224]\n",
      " [ 8.97311671]\n",
      " [11.92640235]\n",
      " [ 6.2659382 ]\n",
      " [ 4.78929538]\n",
      " [11.61876843]\n",
      " [ 9.68067473]\n",
      " [ 1.65142938]\n",
      " [ 2.02059009]\n",
      " [ 2.23593383]\n",
      " [ 8.26555869]\n",
      " [ 8.91158992]\n",
      " [ 1.52837581]\n",
      " [ 2.7281481 ]\n",
      " [ 3.89715701]\n",
      " [ 2.08211687]\n",
      " [ 2.17440705]]\n"
     ]
    }
   ],
   "source": [
    "# to predict the 'total litres of pure alcohol' present in given data for 'beer serving' using linear regression\n",
    "df = pd.read_csv(\"drinks_data.csv\")\n",
    "x = df[['beer_servings']]\n",
    "y = df[['total_litresof_pure_alcohol']]\n",
    "#print(y)\n",
    "from sklearn.linear_model import LinearRegression\n",
    "from sklearn.model_selection import train_test_split\n",
    "X_train, X_test, Y_train, Y_test=train_test_split(x,y,test_size=0.25)\n",
    "z = LinearRegression()\n",
    "z.fit(X_train,Y_train)\n",
    "alcohol = z.predict(X_test)\n",
    "rsq = z.score(x,y) # RMSE score\n",
    "#print(X_test)\n",
    "print(\"coefficient of deteramination: \",rsq)\n",
    "print(\"intercept: \",z.intercept_)\n",
    "print(\"slope: \", z.coef_)\n",
    "print(\"score for test \",z.score(X_test,Y_test))\n",
    "print(\"score for train: \", z.score(X_train,Y_train))\n",
    "print(alcohol)"
   ]
  },
  {
   "cell_type": "code",
   "execution_count": 4,
   "metadata": {},
   "outputs": [
    {
     "data": {
      "text/plain": [
       "[<matplotlib.lines.Line2D at 0x20f8b557f28>]"
      ]
     },
     "execution_count": 4,
     "metadata": {},
     "output_type": "execute_result"
    },
    {
     "data": {
      "image/png": "[encoded data removed]",
      "text/plain": [
       "<Figure size 432x288 with 1 Axes>"
      ]
     },
     "metadata": {
      "needs_background": "dark"
     },
     "output_type": "display_data"
    }
   ],
   "source": [
    "#print(alcohol)\n",
    "#import seaborn as sns\n",
    "import matplotlib.pyplot as plt\n",
    "#sns.scatterplot(x='beer_servings', y='total_litresof_pure_alcohol', data=df)\n",
    "plt.scatter(X_test,Y_test)\n",
    "plt.plot(X_test,alcohol)\n",
    "#plt.plot(X_test,Y_test)\n",
    "##seaborn cant be used to plot this linear regression graph as the 'alcohol' is a variable and not df\n",
    "##to use seaborn data must be in df format\n",
    "## In such cases it is easy to use matplotlib as it take the values of variables directly"
   ]
  },
  {
   "cell_type": "code",
   "execution_count": null,
   "metadata": {},
   "outputs": [],
   "source": []
  },
  {
   "cell_type": "code",
   "execution_count": null,
   "metadata": {},
   "outputs": [],
   "source": []
  }
 ],
 "metadata": {
  "kernelspec": {
   "display_name": "Python 3",
   "language": "python",
   "name": "python3"
  },
  "language_info": {
   "codemirror_mode": {
    "name": "ipython",
    "version": 3
   },
   "file_extension": ".py",
   "mimetype": "text/x-python",
   "name": "python",
   "nbconvert_exporter": "python",
   "pygments_lexer": "ipython3",
   "version": "3.6.9"
  }
 },
 "nbformat": 4,
 "nbformat_minor": 2
}
