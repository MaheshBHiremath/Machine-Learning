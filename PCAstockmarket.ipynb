{
 "cells": [
  {
   "cell_type": "markdown",
   "metadata": {},
   "source": [
    "Linear regression on stock market for prediction"
   ]
  },
  {
   "cell_type": "code",
   "execution_count": 209,
   "metadata": {},
   "outputs": [
    {
     "data": {
      "text/html": [
       "<div>\n",
       "<style scoped>\n",
       "    .dataframe tbody tr th:only-of-type {\n",
       "        vertical-align: middle;\n",
       "    }\n",
       "\n",
       "    .dataframe tbody tr th {\n",
       "        vertical-align: top;\n",
       "    }\n",
       "\n",
       "    .dataframe thead th {\n",
       "        text-align: right;\n",
       "    }\n",
       "</style>\n",
       "<table border=\"1\" class=\"dataframe\">\n",
       "  <thead>\n",
       "    <tr style=\"text-align: right;\">\n",
       "      <th></th>\n",
       "      <th>Share</th>\n",
       "      <th>Category</th>\n",
       "      <th>Sector</th>\n",
       "      <th>RM</th>\n",
       "      <th>Up</th>\n",
       "      <th>Last Traded Price</th>\n",
       "      <th>Percentage Change</th>\n",
       "      <th>High Price</th>\n",
       "      <th>Low Price</th>\n",
       "      <th>% High Movt</th>\n",
       "      <th>% Low movt</th>\n",
       "      <th>Yearly Gainner</th>\n",
       "      <th>27th Dec</th>\n",
       "      <th>1st Feb</th>\n",
       "      <th>1st March</th>\n",
       "      <th>1st April</th>\n",
       "      <th>TB</th>\n",
       "      <th>RH</th>\n",
       "      <th>Corr</th>\n",
       "      <th>PeRatio</th>\n",
       "      <th>New Pe</th>\n",
       "      <th>W52_High</th>\n",
       "      <th>Corre</th>\n",
       "      <th>latest</th>\n",
       "      <th>Annual_Pat</th>\n",
       "      <th>Cum PAT 3 Quarter</th>\n",
       "      <th>Pat Jump</th>\n",
       "      <th>Annual Growth</th>\n",
       "      <th>Year End</th>\n",
       "      <th>Mar_17_ReportedPAT</th>\n",
       "      <th>Dec_16_ReportedPAT</th>\n",
       "      <th>Sep_16_ReportedPAT</th>\n",
       "      <th>Jun_16_ReportedPAT</th>\n",
       "      <th>Mar_16_ReportedPAT</th>\n",
       "      <th>Dec_15_ReportedPAT</th>\n",
       "      <th>Y oY PAT</th>\n",
       "      <th>LQ&gt;0.5(4q's)</th>\n",
       "      <th>PAT Growth</th>\n",
       "      <th>PeRatio.1</th>\n",
       "      <th>ResultDate</th>\n",
       "      <th>Mar_17_Inst_no_of_shares</th>\n",
       "      <th>Dec_16_Inst_no_of_shares</th>\n",
       "      <th>Int/ Incr/ Decr</th>\n",
       "      <th>Pledge</th>\n",
       "      <th>DividendYield</th>\n",
       "      <th>DERatio</th>\n",
       "      <th>FB</th>\n",
       "      <th>Mar_17_Eps_Before</th>\n",
       "      <th>Dec_16_Eps_Before</th>\n",
       "      <th>Sep_16_Eps_Before</th>\n",
       "      <th>Jun_16_Eps_Before</th>\n",
       "      <th>Mar_16_Eps_Before</th>\n",
       "      <th>Dec_15_Eps_Before</th>\n",
       "      <th>Annual_Eps</th>\n",
       "      <th>Volume</th>\n",
       "      <th>MarketCap</th>\n",
       "      <th>Annual_Pat.1</th>\n",
       "      <th>EquityCapital</th>\n",
       "      <th>FaceValue</th>\n",
       "      <th>New Listing</th>\n",
       "      <th>PE High Price High</th>\n",
       "      <th>Future</th>\n",
       "      <th>Cap Category</th>\n",
       "    </tr>\n",
       "  </thead>\n",
       "  <tbody>\n",
       "    <tr>\n",
       "      <td>1557</td>\n",
       "      <td>ZODJRDMKJ</td>\n",
       "      <td>HWLV</td>\n",
       "      <td>JEWELLERY</td>\n",
       "      <td>NaN</td>\n",
       "      <td>NaN</td>\n",
       "      <td>32.65</td>\n",
       "      <td>NaN</td>\n",
       "      <td>NaN</td>\n",
       "      <td>NaN</td>\n",
       "      <td>NaN</td>\n",
       "      <td>NaN</td>\n",
       "      <td>2%</td>\n",
       "      <td>NaN</td>\n",
       "      <td>NaN</td>\n",
       "      <td>-10%</td>\n",
       "      <td>-6%</td>\n",
       "      <td>NaN</td>\n",
       "      <td>36.65</td>\n",
       "      <td>11%</td>\n",
       "      <td>25.04</td>\n",
       "      <td>17</td>\n",
       "      <td>41.40</td>\n",
       "      <td>21%</td>\n",
       "      <td>NaN</td>\n",
       "      <td>0.6255</td>\n",
       "      <td>0.5136</td>\n",
       "      <td>-0.1119</td>\n",
       "      <td>NaN</td>\n",
       "      <td>NaN</td>\n",
       "      <td>NaN</td>\n",
       "      <td>0.2476</td>\n",
       "      <td>0.2184</td>\n",
       "      <td>0.0476</td>\n",
       "      <td>0.1916</td>\n",
       "      <td>0.0799</td>\n",
       "      <td>Y</td>\n",
       "      <td>NaN</td>\n",
       "      <td>Y</td>\n",
       "      <td>25.04</td>\n",
       "      <td>42880.0</td>\n",
       "      <td>3.0</td>\n",
       "      <td>3.0</td>\n",
       "      <td>0.0</td>\n",
       "      <td>0.00</td>\n",
       "      <td>1.53</td>\n",
       "      <td>0.00</td>\n",
       "      <td>NaN</td>\n",
       "      <td>#REF!</td>\n",
       "      <td>0.48</td>\n",
       "      <td>0.42</td>\n",
       "      <td>0.09</td>\n",
       "      <td>0.37</td>\n",
       "      <td>0.15</td>\n",
       "      <td>1.21</td>\n",
       "      <td>0.003046</td>\n",
       "      <td>17</td>\n",
       "      <td>0.6255</td>\n",
       "      <td>5.1772</td>\n",
       "      <td>10</td>\n",
       "      <td>NaN</td>\n",
       "      <td>NaN</td>\n",
       "      <td>NaN</td>\n",
       "      <td>MiniCap</td>\n",
       "    </tr>\n",
       "    <tr>\n",
       "      <td>1558</td>\n",
       "      <td>ZUARI</td>\n",
       "      <td>TA</td>\n",
       "      <td>FERTILISERS</td>\n",
       "      <td>NaN</td>\n",
       "      <td>NaN</td>\n",
       "      <td>434.60</td>\n",
       "      <td>-3.32</td>\n",
       "      <td>439.90</td>\n",
       "      <td>418.60</td>\n",
       "      <td>0.012048193</td>\n",
       "      <td>0.038222647</td>\n",
       "      <td>168%</td>\n",
       "      <td>96%</td>\n",
       "      <td>33%</td>\n",
       "      <td>24%</td>\n",
       "      <td>20%</td>\n",
       "      <td>NaN</td>\n",
       "      <td>436.00</td>\n",
       "      <td>0%</td>\n",
       "      <td>0.00</td>\n",
       "      <td>20</td>\n",
       "      <td>449.95</td>\n",
       "      <td>3%</td>\n",
       "      <td>NaN</td>\n",
       "      <td>-87.4700</td>\n",
       "      <td>-4.2600</td>\n",
       "      <td>83.2100</td>\n",
       "      <td>G</td>\n",
       "      <td>NaN</td>\n",
       "      <td>NaN</td>\n",
       "      <td>22.4000</td>\n",
       "      <td>13.3900</td>\n",
       "      <td>-40.0500</td>\n",
       "      <td>-22.6400</td>\n",
       "      <td>1.6000</td>\n",
       "      <td>Y</td>\n",
       "      <td>NaN</td>\n",
       "      <td>Y</td>\n",
       "      <td>0.00</td>\n",
       "      <td>42874.0</td>\n",
       "      <td>62.0</td>\n",
       "      <td>60.0</td>\n",
       "      <td>2.0</td>\n",
       "      <td>0.00</td>\n",
       "      <td>0.00</td>\n",
       "      <td>6.90</td>\n",
       "      <td>NaN</td>\n",
       "      <td>#REF!</td>\n",
       "      <td>5.33</td>\n",
       "      <td>3.18</td>\n",
       "      <td>-9.52</td>\n",
       "      <td>-5.38</td>\n",
       "      <td>0.38</td>\n",
       "      <td>-21.64</td>\n",
       "      <td>7.412620</td>\n",
       "      <td>1828</td>\n",
       "      <td>-87.47</td>\n",
       "      <td>42.06</td>\n",
       "      <td>10</td>\n",
       "      <td>NaN</td>\n",
       "      <td>NaN</td>\n",
       "      <td>NaN</td>\n",
       "      <td>SmallCap</td>\n",
       "    </tr>\n",
       "    <tr>\n",
       "      <td>1559</td>\n",
       "      <td>ZUARIGLOB</td>\n",
       "      <td>HWLV</td>\n",
       "      <td>CHEMICALS</td>\n",
       "      <td>NaN</td>\n",
       "      <td>NaN</td>\n",
       "      <td>149.00</td>\n",
       "      <td>-3.02</td>\n",
       "      <td>149.95</td>\n",
       "      <td>144.50</td>\n",
       "      <td>0.006335445</td>\n",
       "      <td>0.031141869</td>\n",
       "      <td>49%</td>\n",
       "      <td>58%</td>\n",
       "      <td>32%</td>\n",
       "      <td>23%</td>\n",
       "      <td>17%</td>\n",
       "      <td>NaN</td>\n",
       "      <td>147.05</td>\n",
       "      <td>-1%</td>\n",
       "      <td>24.43</td>\n",
       "      <td>162</td>\n",
       "      <td>150.40</td>\n",
       "      <td>1%</td>\n",
       "      <td>NaN</td>\n",
       "      <td>-24.1200</td>\n",
       "      <td>17.8000</td>\n",
       "      <td>41.9200</td>\n",
       "      <td>NaN</td>\n",
       "      <td>NaN</td>\n",
       "      <td>NaN</td>\n",
       "      <td>0.6900</td>\n",
       "      <td>16.1300</td>\n",
       "      <td>0.9800</td>\n",
       "      <td>0.0600</td>\n",
       "      <td>4.2800</td>\n",
       "      <td>NaN</td>\n",
       "      <td>NaN</td>\n",
       "      <td>NaN</td>\n",
       "      <td>24.43</td>\n",
       "      <td>42874.0</td>\n",
       "      <td>46.0</td>\n",
       "      <td>47.0</td>\n",
       "      <td>-1.0</td>\n",
       "      <td>0.00</td>\n",
       "      <td>0.67</td>\n",
       "      <td>0.92</td>\n",
       "      <td>NaN</td>\n",
       "      <td>#REF!</td>\n",
       "      <td>0.23</td>\n",
       "      <td>5.48</td>\n",
       "      <td>0.33</td>\n",
       "      <td>0.02</td>\n",
       "      <td>1.45</td>\n",
       "      <td>-18.03</td>\n",
       "      <td>1.225012</td>\n",
       "      <td>439</td>\n",
       "      <td>-24.12</td>\n",
       "      <td>29.44</td>\n",
       "      <td>10</td>\n",
       "      <td>NaN</td>\n",
       "      <td>NaN</td>\n",
       "      <td>NaN</td>\n",
       "      <td>MiniCap</td>\n",
       "    </tr>\n",
       "    <tr>\n",
       "      <td>1560</td>\n",
       "      <td>ZYDUSWELL</td>\n",
       "      <td>HWLV</td>\n",
       "      <td>FMCG</td>\n",
       "      <td>#REF!</td>\n",
       "      <td>#REF!</td>\n",
       "      <td>866.10</td>\n",
       "      <td>-0.94</td>\n",
       "      <td>869.95</td>\n",
       "      <td>853.15</td>\n",
       "      <td>0.004425542</td>\n",
       "      <td>0.015179042</td>\n",
       "      <td>22%</td>\n",
       "      <td>4%</td>\n",
       "      <td>1%</td>\n",
       "      <td>1%</td>\n",
       "      <td>-1%</td>\n",
       "      <td>TB</td>\n",
       "      <td>898.70</td>\n",
       "      <td>4%</td>\n",
       "      <td>31.88</td>\n",
       "      <td>34</td>\n",
       "      <td>928.00</td>\n",
       "      <td>7%</td>\n",
       "      <td>NaN</td>\n",
       "      <td>103.6700</td>\n",
       "      <td>82.3800</td>\n",
       "      <td>-21.2900</td>\n",
       "      <td>G</td>\n",
       "      <td>NaN</td>\n",
       "      <td>NaN</td>\n",
       "      <td>25.6700</td>\n",
       "      <td>32.7700</td>\n",
       "      <td>23.9400</td>\n",
       "      <td>26.3000</td>\n",
       "      <td>27.7800</td>\n",
       "      <td>Y</td>\n",
       "      <td>NaN</td>\n",
       "      <td>Y</td>\n",
       "      <td>31.88</td>\n",
       "      <td>42882.0</td>\n",
       "      <td>59.0</td>\n",
       "      <td>62.0</td>\n",
       "      <td>-3.0</td>\n",
       "      <td>0.00</td>\n",
       "      <td>0.75</td>\n",
       "      <td>0.00</td>\n",
       "      <td>NaN</td>\n",
       "      <td>#REF!</td>\n",
       "      <td>6.44</td>\n",
       "      <td>8.21</td>\n",
       "      <td>6.01</td>\n",
       "      <td>6.61</td>\n",
       "      <td>6.97</td>\n",
       "      <td>26.03</td>\n",
       "      <td>1.232307</td>\n",
       "      <td>3384</td>\n",
       "      <td>103.67</td>\n",
       "      <td>39.07</td>\n",
       "      <td>10</td>\n",
       "      <td>NaN</td>\n",
       "      <td>NaN</td>\n",
       "      <td>NaN</td>\n",
       "      <td>SmallCap</td>\n",
       "    </tr>\n",
       "    <tr>\n",
       "      <td>1561</td>\n",
       "      <td>ZYLOG</td>\n",
       "      <td>Exit</td>\n",
       "      <td>IT</td>\n",
       "      <td>NaN</td>\n",
       "      <td>NaN</td>\n",
       "      <td>5.25</td>\n",
       "      <td>NaN</td>\n",
       "      <td>NaN</td>\n",
       "      <td>NaN</td>\n",
       "      <td>NaN</td>\n",
       "      <td>NaN</td>\n",
       "      <td>18%</td>\n",
       "      <td>4%</td>\n",
       "      <td>9%</td>\n",
       "      <td>5%</td>\n",
       "      <td>19%</td>\n",
       "      <td>NaN</td>\n",
       "      <td>6.00</td>\n",
       "      <td>13%</td>\n",
       "      <td>4.08</td>\n",
       "      <td>3</td>\n",
       "      <td>6.75</td>\n",
       "      <td>22%</td>\n",
       "      <td>NaN</td>\n",
       "      <td>-195.0452</td>\n",
       "      <td>1.0301</td>\n",
       "      <td>196.0753</td>\n",
       "      <td>NaN</td>\n",
       "      <td>NaN</td>\n",
       "      <td>NaN</td>\n",
       "      <td>2.7294</td>\n",
       "      <td>3.0548</td>\n",
       "      <td>-4.7541</td>\n",
       "      <td>6.6758</td>\n",
       "      <td>-59.5264</td>\n",
       "      <td>Y</td>\n",
       "      <td>NaN</td>\n",
       "      <td>Y</td>\n",
       "      <td>4.08</td>\n",
       "      <td>42776.0</td>\n",
       "      <td>8.0</td>\n",
       "      <td>11.0</td>\n",
       "      <td>-3.0</td>\n",
       "      <td>81.88</td>\n",
       "      <td>0.00</td>\n",
       "      <td>-1.06</td>\n",
       "      <td>FB</td>\n",
       "      <td>#REF!</td>\n",
       "      <td>0.46</td>\n",
       "      <td>0.52</td>\n",
       "      <td>-0.81</td>\n",
       "      <td>1.13</td>\n",
       "      <td>-10.09</td>\n",
       "      <td>-33.06</td>\n",
       "      <td>0.039748</td>\n",
       "      <td>31</td>\n",
       "      <td>-195.0452</td>\n",
       "      <td>29.4964</td>\n",
       "      <td>5</td>\n",
       "      <td>NaN</td>\n",
       "      <td>NaN</td>\n",
       "      <td>NaN</td>\n",
       "      <td>MiniCap</td>\n",
       "    </tr>\n",
       "  </tbody>\n",
       "</table>\n",
       "</div>"
      ],
      "text/plain": [
       "          Share Category       Sector     RM     Up  Last Traded Price  \\\n",
       "1557  ZODJRDMKJ     HWLV    JEWELLERY    NaN    NaN              32.65   \n",
       "1558      ZUARI       TA  FERTILISERS    NaN    NaN             434.60   \n",
       "1559  ZUARIGLOB     HWLV    CHEMICALS    NaN    NaN             149.00   \n",
       "1560  ZYDUSWELL     HWLV         FMCG  #REF!  #REF!             866.10   \n",
       "1561      ZYLOG     Exit           IT    NaN    NaN               5.25   \n",
       "\n",
       "      Percentage Change  High Price  Low Price  % High Movt   % Low movt  \\\n",
       "1557                NaN         NaN        NaN          NaN          NaN   \n",
       "1558              -3.32      439.90     418.60  0.012048193  0.038222647   \n",
       "1559              -3.02      149.95     144.50  0.006335445  0.031141869   \n",
       "1560              -0.94      869.95     853.15  0.004425542  0.015179042   \n",
       "1561                NaN         NaN        NaN          NaN          NaN   \n",
       "\n",
       "     Yearly Gainner 27th Dec 1st Feb 1st March 1st April   TB      RH Corr  \\\n",
       "1557             2%      NaN     NaN      -10%       -6%  NaN   36.65  11%   \n",
       "1558           168%      96%     33%       24%       20%  NaN  436.00   0%   \n",
       "1559            49%      58%     32%       23%       17%  NaN  147.05  -1%   \n",
       "1560            22%       4%      1%        1%       -1%   TB  898.70   4%   \n",
       "1561            18%       4%      9%        5%       19%  NaN    6.00  13%   \n",
       "\n",
       "      PeRatio New Pe  W52_High Corre  latest  Annual_Pat  Cum PAT 3 Quarter  \\\n",
       "1557    25.04     17     41.40   21%     NaN      0.6255             0.5136   \n",
       "1558     0.00     20    449.95    3%     NaN    -87.4700            -4.2600   \n",
       "1559    24.43    162    150.40    1%     NaN    -24.1200            17.8000   \n",
       "1560    31.88     34    928.00    7%     NaN    103.6700            82.3800   \n",
       "1561     4.08      3      6.75   22%     NaN   -195.0452             1.0301   \n",
       "\n",
       "      Pat Jump Annual Growth Year End  Mar_17_ReportedPAT  Dec_16_ReportedPAT  \\\n",
       "1557   -0.1119           NaN      NaN                 NaN              0.2476   \n",
       "1558   83.2100             G      NaN                 NaN             22.4000   \n",
       "1559   41.9200           NaN      NaN                 NaN              0.6900   \n",
       "1560  -21.2900             G      NaN                 NaN             25.6700   \n",
       "1561  196.0753           NaN      NaN                 NaN              2.7294   \n",
       "\n",
       "      Sep_16_ReportedPAT  Jun_16_ReportedPAT  Mar_16_ReportedPAT  \\\n",
       "1557              0.2184              0.0476              0.1916   \n",
       "1558             13.3900            -40.0500            -22.6400   \n",
       "1559             16.1300              0.9800              0.0600   \n",
       "1560             32.7700             23.9400             26.3000   \n",
       "1561              3.0548             -4.7541              6.6758   \n",
       "\n",
       "      Dec_15_ReportedPAT Y oY PAT LQ>0.5(4q's) PAT Growth  PeRatio.1  \\\n",
       "1557              0.0799        Y          NaN          Y      25.04   \n",
       "1558              1.6000        Y          NaN          Y       0.00   \n",
       "1559              4.2800      NaN          NaN        NaN      24.43   \n",
       "1560             27.7800        Y          NaN          Y      31.88   \n",
       "1561            -59.5264        Y          NaN          Y       4.08   \n",
       "\n",
       "      ResultDate  Mar_17_Inst_no_of_shares  Dec_16_Inst_no_of_shares  \\\n",
       "1557     42880.0                       3.0                       3.0   \n",
       "1558     42874.0                      62.0                      60.0   \n",
       "1559     42874.0                      46.0                      47.0   \n",
       "1560     42882.0                      59.0                      62.0   \n",
       "1561     42776.0                       8.0                      11.0   \n",
       "\n",
       "      Int/ Incr/ Decr  Pledge  DividendYield  DERatio   FB Mar_17_Eps_Before  \\\n",
       "1557              0.0    0.00           1.53     0.00  NaN             #REF!   \n",
       "1558              2.0    0.00           0.00     6.90  NaN             #REF!   \n",
       "1559             -1.0    0.00           0.67     0.92  NaN             #REF!   \n",
       "1560             -3.0    0.00           0.75     0.00  NaN             #REF!   \n",
       "1561             -3.0   81.88           0.00    -1.06   FB             #REF!   \n",
       "\n",
       "     Dec_16_Eps_Before Sep_16_Eps_Before Jun_16_Eps_Before Mar_16_Eps_Before  \\\n",
       "1557              0.48              0.42              0.09              0.37   \n",
       "1558              5.33              3.18             -9.52             -5.38   \n",
       "1559              0.23              5.48              0.33              0.02   \n",
       "1560              6.44              8.21              6.01              6.61   \n",
       "1561              0.46              0.52             -0.81              1.13   \n",
       "\n",
       "     Dec_15_Eps_Before Annual_Eps    Volume MarketCap Annual_Pat.1  \\\n",
       "1557              0.15       1.21  0.003046        17       0.6255   \n",
       "1558              0.38     -21.64  7.412620      1828       -87.47   \n",
       "1559              1.45     -18.03  1.225012       439       -24.12   \n",
       "1560              6.97      26.03  1.232307      3384       103.67   \n",
       "1561            -10.09     -33.06  0.039748        31    -195.0452   \n",
       "\n",
       "     EquityCapital FaceValue New Listing  PE High Price High Future  \\\n",
       "1557        5.1772        10         NaN                 NaN    NaN   \n",
       "1558         42.06        10         NaN                 NaN    NaN   \n",
       "1559         29.44        10         NaN                 NaN    NaN   \n",
       "1560         39.07        10         NaN                 NaN    NaN   \n",
       "1561       29.4964         5         NaN                 NaN    NaN   \n",
       "\n",
       "     Cap Category  \n",
       "1557      MiniCap  \n",
       "1558     SmallCap  \n",
       "1559      MiniCap  \n",
       "1560     SmallCap  \n",
       "1561      MiniCap  "
      ]
     },
     "execution_count": 209,
     "metadata": {},
     "output_type": "execute_result"
    }
   ],
   "source": [
    "import pandas as pd\n",
    "import numpy as np\n",
    "df=pd.read_csv(\"Stock Market data .csv\")\n",
    "pd.set_option('display.max_columns',100)\n",
    "df.tail()"
   ]
  },
  {
   "cell_type": "code",
   "execution_count": 210,
   "metadata": {},
   "outputs": [
    {
     "data": {
      "text/plain": [
       "Share                          0\n",
       "Category                      18\n",
       "Sector                         2\n",
       "RM                           984\n",
       "Up                           979\n",
       "Last Traded Price             14\n",
       "Percentage Change            593\n",
       "High Price                   593\n",
       "Low Price                    593\n",
       "% High Movt                  604\n",
       "% Low movt                   604\n",
       "Yearly Gainner               174\n",
       "27th Dec                     105\n",
       "1st Feb                       75\n",
       "1st March                     62\n",
       "1st April                     53\n",
       "TB                          1127\n",
       "RH                            35\n",
       "Corr                          54\n",
       "PeRatio                        8\n",
       "New Pe                        30\n",
       "W52_High                       2\n",
       "Corre                         30\n",
       "latest                       901\n",
       "Annual_Pat                    38\n",
       "Cum PAT 3 Quarter             47\n",
       "Pat Jump                      61\n",
       "Annual Growth               1003\n",
       "Year End                    1547\n",
       "Mar_17_ReportedPAT           609\n",
       "Dec_16_ReportedPAT            15\n",
       "Sep_16_ReportedPAT            24\n",
       "Jun_16_ReportedPAT            30\n",
       "Mar_16_ReportedPAT            36\n",
       "Dec_15_ReportedPAT            37\n",
       "Y oY PAT                     569\n",
       "LQ>0.5(4q's)                1520\n",
       "PAT Growth                   527\n",
       "PeRatio.1                      8\n",
       "ResultDate                    11\n",
       "Mar_17_Inst_no_of_shares      59\n",
       "Dec_16_Inst_no_of_shares      68\n",
       "Int/ Incr/ Decr              162\n",
       "Pledge                         8\n",
       "DividendYield                  8\n",
       "DERatio                        8\n",
       "FB                           871\n",
       "Mar_17_Eps_Before              2\n",
       "Dec_16_Eps_Before              2\n",
       "Sep_16_Eps_Before              2\n",
       "Jun_16_Eps_Before              2\n",
       "Mar_16_Eps_Before              2\n",
       "Dec_15_Eps_Before              2\n",
       "Annual_Eps                     2\n",
       "Volume                        17\n",
       "MarketCap                      2\n",
       "Annual_Pat.1                   2\n",
       "EquityCapital                  2\n",
       "FaceValue                      2\n",
       "New Listing                 1471\n",
       "PE High Price High          1562\n",
       "Future                      1516\n",
       "Cap Category                  17\n",
       "dtype: int64"
      ]
     },
     "execution_count": 210,
     "metadata": {},
     "output_type": "execute_result"
    }
   ],
   "source": [
    "pd.set_option('display.max_rows',100)\n",
    "df.isna().sum()"
   ]
  },
  {
   "cell_type": "code",
   "execution_count": 211,
   "metadata": {},
   "outputs": [
    {
     "data": {
      "text/plain": [
       "Share                        object\n",
       "Category                     object\n",
       "Sector                       object\n",
       "RM                           object\n",
       "Up                           object\n",
       "Last Traded Price           float64\n",
       "Percentage Change           float64\n",
       "High Price                  float64\n",
       "Low Price                   float64\n",
       "% High Movt                  object\n",
       "% Low movt                   object\n",
       "Yearly Gainner               object\n",
       "27th Dec                     object\n",
       "1st Feb                      object\n",
       "1st March                    object\n",
       "1st April                    object\n",
       "TB                           object\n",
       "RH                          float64\n",
       "Corr                         object\n",
       "PeRatio                     float64\n",
       "New Pe                       object\n",
       "W52_High                    float64\n",
       "Corre                        object\n",
       "latest                      float64\n",
       "Annual_Pat                  float64\n",
       "Cum PAT 3 Quarter           float64\n",
       "Pat Jump                    float64\n",
       "Annual Growth                object\n",
       "Year End                     object\n",
       "Mar_17_ReportedPAT          float64\n",
       "Dec_16_ReportedPAT          float64\n",
       "Sep_16_ReportedPAT          float64\n",
       "Jun_16_ReportedPAT          float64\n",
       "Mar_16_ReportedPAT          float64\n",
       "Dec_15_ReportedPAT          float64\n",
       "Y oY PAT                     object\n",
       "LQ>0.5(4q's)                 object\n",
       "PAT Growth                   object\n",
       "PeRatio.1                   float64\n",
       "ResultDate                  float64\n",
       "Mar_17_Inst_no_of_shares    float64\n",
       "Dec_16_Inst_no_of_shares    float64\n",
       "Int/ Incr/ Decr             float64\n",
       "Pledge                      float64\n",
       "DividendYield               float64\n",
       "DERatio                     float64\n",
       "FB                           object\n",
       "Mar_17_Eps_Before            object\n",
       "Dec_16_Eps_Before            object\n",
       "Sep_16_Eps_Before            object\n",
       "Jun_16_Eps_Before            object\n",
       "Mar_16_Eps_Before            object\n",
       "Dec_15_Eps_Before            object\n",
       "Annual_Eps                   object\n",
       "Volume                      float64\n",
       "MarketCap                    object\n",
       "Annual_Pat.1                 object\n",
       "EquityCapital                object\n",
       "FaceValue                    object\n",
       "New Listing                  object\n",
       "PE High Price High          float64\n",
       "Future                       object\n",
       "Cap Category                 object\n",
       "dtype: object"
      ]
     },
     "execution_count": 211,
     "metadata": {},
     "output_type": "execute_result"
    }
   ],
   "source": [
    "df.dtypes"
   ]
  },
  {
   "cell_type": "code",
   "execution_count": 212,
   "metadata": {},
   "outputs": [
    {
     "data": {
      "text/plain": [
       "Cap Category\n",
       "#REF!                          #REF!#REF!#REF!#REF!#REF!#REF!\n",
       "LargeCap    LargeCapLargeCapLargeCapLargeCapLargeCapLargeC...\n",
       "MidCap      MidCapMidCapMidCapMidCapMidCapMidCapMidCapMidC...\n",
       "MiniCap     MiniCapMiniCapMiniCapMiniCapMiniCapMiniCapMini...\n",
       "SmallCap    SmallCapSmallCapSmallCapSmallCapSmallCapSmallC...\n",
       "Name: Cap Category, dtype: object"
      ]
     },
     "execution_count": 212,
     "metadata": {},
     "output_type": "execute_result"
    }
   ],
   "source": [
    "df['Cap Category'].groupby(df['Cap Category']).sum()"
   ]
  },
  {
   "cell_type": "code",
   "execution_count": 213,
   "metadata": {},
   "outputs": [
    {
     "data": {
      "text/plain": [
       "Category\n",
       "BWLV    BWLVBWLVBWLVBWLVBWLVBWLVBWLVBWLVBWLVBWLVBWLVBW...\n",
       "Buy     BuyBuyBuyBuyBuyBuyBuyBuyBuyBuyBuyBuyBuyBuyBuyB...\n",
       "Exit    ExitExitExitExitExitExitExitExitExitExitExitEx...\n",
       "HWLV    HWLVHWLVHWLVHWLVHWLVHWLVHWLVHWLVHWLVHWLVHWLVHW...\n",
       "HWV     HWVHWVHWVHWVHWVHWVHWVHWVHWVHWVHWVHWVHWVHWVHWVH...\n",
       "NL      NLNLNLNLNLNLNLNLNLNLNLNLNLNLNLNLNLNLNLNLNLNLNL...\n",
       "RS      RSRSRSRSRSRSRSRSRSRSRSRSRSRSRSRSRSRSRSRSRSRSRS...\n",
       "TA      TATATATATATATATATATATATATATATATATATATATATATATA...\n",
       "Name: Category, dtype: object"
      ]
     },
     "execution_count": 213,
     "metadata": {},
     "output_type": "execute_result"
    }
   ],
   "source": [
    "df['Category'].groupby(df['Category']).sum()"
   ]
  },
  {
   "cell_type": "code",
   "execution_count": 214,
   "metadata": {},
   "outputs": [
    {
     "data": {
      "text/plain": [
       "0       2.0\n",
       "1       0.0\n",
       "2       2.0\n",
       "3       6.0\n",
       "4       4.0\n",
       "       ... \n",
       "1557    3.0\n",
       "1558    7.0\n",
       "1559    3.0\n",
       "1560    3.0\n",
       "1561    2.0\n",
       "Name: Category, Length: 1562, dtype: float64"
      ]
     },
     "execution_count": 214,
     "metadata": {},
     "output_type": "execute_result"
    }
   ],
   "source": [
    "df['Category']=df['Category'].map({'BWLV':0,'Buy':1,'Exit':2,'HWLV':3,'HWV':4,'NL':5,'RS':6,'TA':7})\n",
    "df['Category']"
   ]
  },
  {
   "cell_type": "code",
   "execution_count": 215,
   "metadata": {},
   "outputs": [
    {
     "data": {
      "text/plain": [
       "18"
      ]
     },
     "execution_count": 215,
     "metadata": {},
     "output_type": "execute_result"
    }
   ],
   "source": [
    "df[\"Category\"].isna().sum()"
   ]
  },
  {
   "cell_type": "code",
   "execution_count": 216,
   "metadata": {},
   "outputs": [
    {
     "data": {
      "text/plain": [
       "dtype('float64')"
      ]
     },
     "execution_count": 216,
     "metadata": {},
     "output_type": "execute_result"
    }
   ],
   "source": [
    "df['Category']=df['Category'].fillna(df['Category'].mean())\n",
    "df['Category']=df['Category'].astype(float)\n",
    "df['Category'].dtype"
   ]
  },
  {
   "cell_type": "code",
   "execution_count": 217,
   "metadata": {},
   "outputs": [],
   "source": [
    "# variables for 'x'\n",
    "#x=df.drop(columns=(['Share','TB','Year End',\"LQ>0.5(4q's)\",'New Listing','PE High Price High','Future']))\n",
    "#MarketCap is target var"
   ]
  },
  {
   "cell_type": "code",
   "execution_count": 218,
   "metadata": {},
   "outputs": [],
   "source": [
    "#x"
   ]
  },
  {
   "cell_type": "code",
   "execution_count": 219,
   "metadata": {},
   "outputs": [],
   "source": [
    "df['Sector']=df['Sector'].replace('#REF!','ref')"
   ]
  },
  {
   "cell_type": "code",
   "execution_count": 220,
   "metadata": {},
   "outputs": [],
   "source": [
    "df['Sector']=df['Sector'].fillna('new')"
   ]
  },
  {
   "cell_type": "code",
   "execution_count": 221,
   "metadata": {},
   "outputs": [
    {
     "data": {
      "text/plain": [
       "Sector\n",
       "0                                                                                          0\n",
       "AIRLINES                                                                            AIRLINES\n",
       "AUTO-AUTO ANCL AND COMPONENTS                                  AUTO-AUTO ANCL AND COMPONENTS\n",
       "AUTO-AUTOMOBILES AND AUTO PARTS                              AUTO-AUTOMOBILES AND AUTO PARTS\n",
       "AUTO-TYRES AND TUBES                                                    AUTO-TYRES AND TUBES\n",
       "BANKS-PRIVATE                                                                  BANKS-PRIVATE\n",
       "BANKS-PSU                                                                          BANKS-PSU\n",
       "CEMENTS                                                                              CEMENTS\n",
       "CHEMICALS                                                                          CHEMICALS\n",
       "DEFENCE                                                                              DEFENCE\n",
       "DIVERSIFIED                                                                      DIVERSIFIED\n",
       "ENERGY-OIL & GAS                                                            ENERGY-OIL & GAS\n",
       "ENTERTAINMENT-HOTELS AND LEISURE                            ENTERTAINMENT-HOTELS AND LEISURE\n",
       "ETF                                                                                      ETF\n",
       "FERTILISERS                                                                      FERTILISERS\n",
       "FINANCIAL SERVICES                                                        FINANCIAL SERVICES\n",
       "FINANCIAL SERVICES-NBFC                                              FINANCIAL SERVICES-NBFC\n",
       "FMCG                                                                                    FMCG\n",
       "FMCG-BEVERAGES                                                                FMCG-BEVERAGES\n",
       "FMCG-FOOD                                                                          FMCG-FOOD\n",
       "FMCG-PACKAGING                                                                FMCG-PACKAGING\n",
       "FMCG-SUGAR                                                                        FMCG-SUGAR\n",
       "FOOTWEAR                                                                            FOOTWEAR\n",
       "INFRA-CONSTRUCTION ENGINEERING AND MATERIALS    INFRA-CONSTRUCTION ENGINEERING AND MATERIALS\n",
       "INFRA-MACHINERY EQUIPMENT                                          INFRA-MACHINERY EQUIPMENT\n",
       "INFRA-POWER                                                                      INFRA-POWER\n",
       "INFRA-TELECOM                                                                  INFRA-TELECOM\n",
       "IT                                                                                        IT\n",
       "IT-HARDWARE                                                                      IT-HARDWARE\n",
       "JEWELLERY                                                                          JEWELLERY\n",
       "MEDIA                                                                                  MEDIA\n",
       "MEDIA-ENTERTAINMENT                                                      MEDIA-ENTERTAINMENT\n",
       "METALS AND MINING                                                          METALS AND MINING\n",
       "PAPER                                                                                  PAPER\n",
       "PHARMA                                                                                PHARMA\n",
       "REALTY                                                                                REALTY\n",
       "REALTY-HOUSEHOLD                                                            REALTY-HOUSEHOLD\n",
       "TEXTILES AND APPAREL                                                    TEXTILES AND APPAREL\n",
       "TRANSPORTATION LOGISTICS                                            TRANSPORTATION LOGISTICS\n",
       "new                                                                                      new\n",
       "ref                                                                                      ref\n",
       "Name: Sector, dtype: object"
      ]
     },
     "execution_count": 221,
     "metadata": {},
     "output_type": "execute_result"
    }
   ],
   "source": [
    "df['Sector'].groupby(df.Sector).first()"
   ]
  },
  {
   "cell_type": "code",
   "execution_count": 222,
   "metadata": {},
   "outputs": [],
   "source": [
    "from sklearn.preprocessing import LabelEncoder\n",
    "le=LabelEncoder()\n",
    "\n",
    "df['Sector']=le.fit_transform(df['Sector'])"
   ]
  },
  {
   "cell_type": "code",
   "execution_count": 223,
   "metadata": {},
   "outputs": [
    {
     "data": {
      "text/plain": [
       "0        8\n",
       "1       27\n",
       "2       10\n",
       "3       27\n",
       "4       27\n",
       "        ..\n",
       "1557    29\n",
       "1558    14\n",
       "1559     8\n",
       "1560    17\n",
       "1561    27\n",
       "Name: Sector, Length: 1562, dtype: int32"
      ]
     },
     "execution_count": 223,
     "metadata": {},
     "output_type": "execute_result"
    }
   ],
   "source": [
    "df['Sector']"
   ]
  },
  {
   "cell_type": "code",
   "execution_count": 224,
   "metadata": {},
   "outputs": [
    {
     "data": {
      "text/plain": [
       "984"
      ]
     },
     "execution_count": 224,
     "metadata": {},
     "output_type": "execute_result"
    }
   ],
   "source": [
    "df['RM'].isna().sum()"
   ]
  },
  {
   "cell_type": "code",
   "execution_count": 225,
   "metadata": {},
   "outputs": [
    {
     "data": {
      "text/plain": [
       "RM\n",
       "#REF!                                                            #REF!#REF!#REF!#REF!#REF!#REF!#REF!#REF!#REF!#...\n",
       "0                                                                0000000000000000000000000000000000000000000000...\n",
       "AMMONIA                                                                                                    AMMONIA\n",
       "Agro Chemical                                                                                        Agro Chemical\n",
       "Aluminum                                                                                          AluminumAluminum\n",
       "BOND PRICE                                                                                    BOND PRICEBOND PRICE\n",
       "BOND PRICE UP                                                                           BOND PRICE UPBOND PRICE UP\n",
       "COFFEE/ BRAZILLIAN REAL                                                                    COFFEE/ BRAZILLIAN REAL\n",
       "CRUDE OIL                                                        CRUDE OILCRUDE OILCRUDE OILCRUDE OILCRUDE OILC...\n",
       "Calcined Petroleum Coke                                                                    Calcined Petroleum Coke\n",
       "Caustic Soda, Aluminium                                                                    Caustic Soda, Aluminium\n",
       "Coking Coal and Iron Ore                                                                  Coking Coal and Iron Ore\n",
       "FLY ASH                                                                                                    FLY ASH\n",
       "Gold                                                                                                          Gold\n",
       "IRON ORE                                                                                                 IRON ORE \n",
       "IRON ORE , coke                                                                                    IRON ORE , coke\n",
       "Interest Rate                                                    Interest RateInterest RateInterest RateInteres...\n",
       "Interst rate                                                                  Interst rateInterst rateInterst rate\n",
       "Iron Ore                                                                                                  Iron Ore\n",
       "Iron Ore & Mangnese Ore                                                                    Iron Ore & Mangnese Ore\n",
       "LIME STONE                                                       LIME STONELIME STONELIME STONELIME STONELIME S...\n",
       "LPG GAS                                                                                                    LPG GAS\n",
       "METALS                                                                                                METALSMETALS\n",
       "Manganese Ore                                                                                        Manganese Ore\n",
       "NATURAL GAS                                                                                 NATURAL GASNATURAL GAS\n",
       "NATURAL GAS/ Ammonia                                                                          NATURAL GAS/ Ammonia\n",
       "NATURAL GAS/ CRUDEOIL                                                                        NATURAL GAS/ CRUDEOIL\n",
       "Natural Gas                                                                                 Natural GasNatural Gas\n",
       "PIG IRON                                                                                                  PIG IRON\n",
       "Phosphoric Acid/ Ammonia                                                                  Phosphoric Acid/ Ammonia\n",
       "Phosphoric Acid/ NATURAL GAS                                                          Phosphoric Acid/ NATURAL GAS\n",
       "RECTIFIED SPIRIT                                                                                  RECTIFIED SPIRIT\n",
       "RUBBER                                                                                                      RUBBER\n",
       "RUBBER                                                                                                     RUBBER \n",
       "Rice, Paddy                                                                                           Rice, Paddy \n",
       "Rubber                                                                                                      Rubber\n",
       "STEEL                                                                                         STEELSTEELSTEELSTEEL\n",
       "Steel                                                                                                        Steel\n",
       "Steel Flats                                                                                            Steel Flats\n",
       "Steel, Lubricant Oil                                                                          Steel, Lubricant Oil\n",
       "Sugar                                                                                                   SugarSugar\n",
       "Sugar, Cement                                                                                        Sugar, Cement\n",
       "USDINR                                                                                                      USDINR\n",
       "USFDA Approvals                                                                                    USFDA Approvals\n",
       "compressor, sheet steel                                                                    compressor, sheet steel\n",
       "copper, aluminium                                                               copper, aluminiumcopper, aluminium\n",
       "cotton                                                                                          cottoncottoncotton\n",
       "cotton                                                                                                     cotton \n",
       "cotton yarn                                                                                            cotton yarn\n",
       "crude oil                                                        crude oilcrude oilcrude oilcrude oilcrude oilc...\n",
       "international sugar priceadverse relation with brazilian rial    international sugar priceadverse relation with...\n",
       "iron ore                                                                                          iron oreiron ore\n",
       "non ferrous metals, aluminium                                                        non ferrous metals, aluminium\n",
       "non ferrous metals, ferrous metal                                               non ferrous metals, ferrous metal \n",
       "paper pulp                                                                          paper pulppaper pulppaper pulp\n",
       "pig iron, coke                                                                                      pig iron, coke\n",
       "steel                                                                                                   steelsteel\n",
       "sugar                                                                                    sugarsugarsugarsugarsugar\n",
       "timber                                                                                                      timber\n",
       "timber logs                                                                                            timber logs\n",
       "wool, crude                                                                                            wool, crude\n",
       "Name: RM, dtype: object"
      ]
     },
     "execution_count": 225,
     "metadata": {},
     "output_type": "execute_result"
    }
   ],
   "source": [
    "df['RM'].groupby(df['RM']).sum()"
   ]
  },
  {
   "cell_type": "code",
   "execution_count": 226,
   "metadata": {},
   "outputs": [],
   "source": [
    "df['RM']=df['RM'].replace('#REF!','ref')\n",
    "df['RM']=df['RM'].fillna('new')"
   ]
  },
  {
   "cell_type": "code",
   "execution_count": 227,
   "metadata": {},
   "outputs": [
    {
     "data": {
      "text/plain": [
       "RM\n",
       "0                                                                0000000000000000000000000000000000000000000000...\n",
       "AMMONIA                                                                                                    AMMONIA\n",
       "Agro Chemical                                                                                        Agro Chemical\n",
       "Aluminum                                                                                          AluminumAluminum\n",
       "BOND PRICE                                                                                    BOND PRICEBOND PRICE\n",
       "BOND PRICE UP                                                                           BOND PRICE UPBOND PRICE UP\n",
       "COFFEE/ BRAZILLIAN REAL                                                                    COFFEE/ BRAZILLIAN REAL\n",
       "CRUDE OIL                                                        CRUDE OILCRUDE OILCRUDE OILCRUDE OILCRUDE OILC...\n",
       "Calcined Petroleum Coke                                                                    Calcined Petroleum Coke\n",
       "Caustic Soda, Aluminium                                                                    Caustic Soda, Aluminium\n",
       "Coking Coal and Iron Ore                                                                  Coking Coal and Iron Ore\n",
       "FLY ASH                                                                                                    FLY ASH\n",
       "Gold                                                                                                          Gold\n",
       "IRON ORE                                                                                                 IRON ORE \n",
       "IRON ORE , coke                                                                                    IRON ORE , coke\n",
       "Interest Rate                                                    Interest RateInterest RateInterest RateInteres...\n",
       "Interst rate                                                                  Interst rateInterst rateInterst rate\n",
       "Iron Ore                                                                                                  Iron Ore\n",
       "Iron Ore & Mangnese Ore                                                                    Iron Ore & Mangnese Ore\n",
       "LIME STONE                                                       LIME STONELIME STONELIME STONELIME STONELIME S...\n",
       "LPG GAS                                                                                                    LPG GAS\n",
       "METALS                                                                                                METALSMETALS\n",
       "Manganese Ore                                                                                        Manganese Ore\n",
       "NATURAL GAS                                                                                 NATURAL GASNATURAL GAS\n",
       "NATURAL GAS/ Ammonia                                                                          NATURAL GAS/ Ammonia\n",
       "NATURAL GAS/ CRUDEOIL                                                                        NATURAL GAS/ CRUDEOIL\n",
       "Natural Gas                                                                                 Natural GasNatural Gas\n",
       "PIG IRON                                                                                                  PIG IRON\n",
       "Phosphoric Acid/ Ammonia                                                                  Phosphoric Acid/ Ammonia\n",
       "Phosphoric Acid/ NATURAL GAS                                                          Phosphoric Acid/ NATURAL GAS\n",
       "RECTIFIED SPIRIT                                                                                  RECTIFIED SPIRIT\n",
       "RUBBER                                                                                                      RUBBER\n",
       "RUBBER                                                                                                     RUBBER \n",
       "Rice, Paddy                                                                                           Rice, Paddy \n",
       "Rubber                                                                                                      Rubber\n",
       "STEEL                                                                                         STEELSTEELSTEELSTEEL\n",
       "Steel                                                                                                        Steel\n",
       "Steel Flats                                                                                            Steel Flats\n",
       "Steel, Lubricant Oil                                                                          Steel, Lubricant Oil\n",
       "Sugar                                                                                                   SugarSugar\n",
       "Sugar, Cement                                                                                        Sugar, Cement\n",
       "USDINR                                                                                                      USDINR\n",
       "USFDA Approvals                                                                                    USFDA Approvals\n",
       "compressor, sheet steel                                                                    compressor, sheet steel\n",
       "copper, aluminium                                                               copper, aluminiumcopper, aluminium\n",
       "cotton                                                                                          cottoncottoncotton\n",
       "cotton                                                                                                     cotton \n",
       "cotton yarn                                                                                            cotton yarn\n",
       "crude oil                                                        crude oilcrude oilcrude oilcrude oilcrude oilc...\n",
       "international sugar priceadverse relation with brazilian rial    international sugar priceadverse relation with...\n",
       "iron ore                                                                                          iron oreiron ore\n",
       "new                                                              newnewnewnewnewnewnewnewnewnewnewnewnewnewnewn...\n",
       "non ferrous metals, aluminium                                                        non ferrous metals, aluminium\n",
       "non ferrous metals, ferrous metal                                               non ferrous metals, ferrous metal \n",
       "paper pulp                                                                          paper pulppaper pulppaper pulp\n",
       "pig iron, coke                                                                                      pig iron, coke\n",
       "ref                                                              refrefrefrefrefrefrefrefrefrefrefrefrefrefrefr...\n",
       "steel                                                                                                   steelsteel\n",
       "sugar                                                                                    sugarsugarsugarsugarsugar\n",
       "timber                                                                                                      timber\n",
       "timber logs                                                                                            timber logs\n",
       "wool, crude                                                                                            wool, crude\n",
       "Name: RM, dtype: object"
      ]
     },
     "execution_count": 227,
     "metadata": {},
     "output_type": "execute_result"
    }
   ],
   "source": [
    "df['RM'].groupby(df['RM']).sum()"
   ]
  },
  {
   "cell_type": "code",
   "execution_count": 228,
   "metadata": {},
   "outputs": [
    {
     "data": {
      "text/plain": [
       "dtype('int32')"
      ]
     },
     "execution_count": 228,
     "metadata": {},
     "output_type": "execute_result"
    }
   ],
   "source": [
    "df['RM']=le.fit_transform(df['RM'])\n",
    "df['RM'].dtype"
   ]
  },
  {
   "cell_type": "code",
   "execution_count": 229,
   "metadata": {},
   "outputs": [
    {
     "data": {
      "text/plain": [
       "Up\n",
       "#REF!      #REF!\n",
       "0              0\n",
       "DISCUS    DISCUS\n",
       "DOWN        DOWN\n",
       "Down        Down\n",
       "Price      Price\n",
       "UP            UP\n",
       "down        down\n",
       "up            up\n",
       "Name: Up, dtype: object"
      ]
     },
     "execution_count": 229,
     "metadata": {},
     "output_type": "execute_result"
    }
   ],
   "source": [
    "df['Up'].groupby(df['Up']).first()"
   ]
  },
  {
   "cell_type": "code",
   "execution_count": 230,
   "metadata": {},
   "outputs": [],
   "source": [
    "df['Up']=df['Up'].replace('up','UP')\n",
    "df['Up']=df['Up'].replace('Down','DOWN')\n",
    "df['Up']=df['Up'].replace('down','DOWN')\n",
    "df['Up']=df['Up'].replace('#REF!','ref')\n",
    "df['Up']=df['Up'].fillna('new')"
   ]
  },
  {
   "cell_type": "code",
   "execution_count": 231,
   "metadata": {},
   "outputs": [
    {
     "data": {
      "text/plain": [
       "Up\n",
       "0              0\n",
       "DISCUS    DISCUS\n",
       "DOWN        DOWN\n",
       "Price      Price\n",
       "UP            UP\n",
       "new          new\n",
       "ref          ref\n",
       "Name: Up, dtype: object"
      ]
     },
     "execution_count": 231,
     "metadata": {},
     "output_type": "execute_result"
    }
   ],
   "source": [
    "df['Up'].groupby(df['Up']).first()"
   ]
  },
  {
   "cell_type": "code",
   "execution_count": 232,
   "metadata": {},
   "outputs": [],
   "source": [
    "df['Up']=le.fit_transform(df['Up'])"
   ]
  },
  {
   "cell_type": "code",
   "execution_count": 233,
   "metadata": {},
   "outputs": [
    {
     "data": {
      "text/plain": [
       "Up\n",
       "0       0\n",
       "1       1\n",
       "2     136\n",
       "3       3\n",
       "4      48\n",
       "5    4895\n",
       "6    1500\n",
       "Name: Up, dtype: int32"
      ]
     },
     "execution_count": 233,
     "metadata": {},
     "output_type": "execute_result"
    }
   ],
   "source": [
    "df['Up'].groupby(df['Up']).sum()"
   ]
  },
  {
   "cell_type": "code",
   "execution_count": 234,
   "metadata": {},
   "outputs": [
    {
     "data": {
      "text/plain": [
       "14"
      ]
     },
     "execution_count": 234,
     "metadata": {},
     "output_type": "execute_result"
    }
   ],
   "source": [
    "df['Last Traded Price'].isna().sum()"
   ]
  },
  {
   "cell_type": "code",
   "execution_count": 235,
   "metadata": {},
   "outputs": [
    {
     "name": "stdout",
     "output_type": "stream",
     "text": [
      "510.04193152454707\n"
     ]
    }
   ],
   "source": [
    "print(df['Last Traded Price'].mean())"
   ]
  },
  {
   "cell_type": "code",
   "execution_count": 236,
   "metadata": {},
   "outputs": [],
   "source": [
    "df['Last Traded Price']=df['Last Traded Price'].fillna(df['Last Traded Price'].mean())"
   ]
  },
  {
   "cell_type": "code",
   "execution_count": 237,
   "metadata": {},
   "outputs": [
    {
     "data": {
      "text/plain": [
       "dtype('float64')"
      ]
     },
     "execution_count": 237,
     "metadata": {},
     "output_type": "execute_result"
    }
   ],
   "source": [
    "df['Last Traded Price']=df['Last Traded Price'].astype(float)\n",
    "df['Last Traded Price'].dtype"
   ]
  },
  {
   "cell_type": "code",
   "execution_count": 238,
   "metadata": {},
   "outputs": [
    {
     "data": {
      "text/plain": [
       "593"
      ]
     },
     "execution_count": 238,
     "metadata": {},
     "output_type": "execute_result"
    }
   ],
   "source": [
    "df['Percentage Change'].isnull().sum()"
   ]
  },
  {
   "cell_type": "code",
   "execution_count": 239,
   "metadata": {},
   "outputs": [
    {
     "data": {
      "text/plain": [
       "dtype('float64')"
      ]
     },
     "execution_count": 239,
     "metadata": {},
     "output_type": "execute_result"
    }
   ],
   "source": [
    "df['Percentage Change']=df['Percentage Change'].fillna(df['Percentage Change'].mean())\n",
    "#df['Percentage Change']=df['Percentage Change'].astype(int)\n",
    "df['Percentage Change'].dtype"
   ]
  },
  {
   "cell_type": "code",
   "execution_count": 240,
   "metadata": {},
   "outputs": [
    {
     "data": {
      "text/plain": [
       "dtype('float64')"
      ]
     },
     "execution_count": 240,
     "metadata": {},
     "output_type": "execute_result"
    }
   ],
   "source": [
    "df['High Price']=df['High Price'].fillna(df['High Price'].mean())\n",
    "#df['High Price']=df['High Price'].astype(int)\n",
    "df['High Price'].dtype"
   ]
  },
  {
   "cell_type": "code",
   "execution_count": 241,
   "metadata": {},
   "outputs": [
    {
     "data": {
      "text/plain": [
       "dtype('float64')"
      ]
     },
     "execution_count": 241,
     "metadata": {},
     "output_type": "execute_result"
    }
   ],
   "source": [
    "df['Low Price']=df['Low Price'].fillna(df['Low Price'].mean())\n",
    "#df['Low Price']=df['Low Price'].astype(int)\n",
    "df['Low Price'].dtype"
   ]
  },
  {
   "cell_type": "code",
   "execution_count": 242,
   "metadata": {},
   "outputs": [
    {
     "data": {
      "text/plain": [
       "% High Movt\n",
       "#DIV/0!              #DIV/0!\n",
       "-0.000118329    -0.000118329\n",
       "-0.000351406    -0.000351406\n",
       "-0.000366166    -0.000366166\n",
       "-0.000366569    -0.000366569\n",
       "                    ...     \n",
       "0.129399142      0.129399142\n",
       "0.135938544      0.135938544\n",
       "0.145366795      0.145366795\n",
       "0.165698973      0.165698973\n",
       "3.12E-05            3.12E-05\n",
       "Name: % High Movt, Length: 932, dtype: object"
      ]
     },
     "execution_count": 242,
     "metadata": {},
     "output_type": "execute_result"
    }
   ],
   "source": [
    "df['% High Movt'].groupby(df['% High Movt']).first()"
   ]
  },
  {
   "cell_type": "code",
   "execution_count": 243,
   "metadata": {},
   "outputs": [
    {
     "data": {
      "text/plain": [
       "0.018425397590814192"
      ]
     },
     "execution_count": 243,
     "metadata": {},
     "output_type": "execute_result"
    }
   ],
   "source": [
    "df['% High Movt']=df['% High Movt'].replace('#DIV/0!','0')\n",
    "df['% High Movt']=df['% High Movt'].astype(float)\n",
    "df['% High Movt'].mean()"
   ]
  },
  {
   "cell_type": "code",
   "execution_count": 244,
   "metadata": {},
   "outputs": [],
   "source": [
    "df['% High Movt']=df['% High Movt'].replace(0,0.018)"
   ]
  },
  {
   "cell_type": "code",
   "execution_count": 245,
   "metadata": {},
   "outputs": [
    {
     "data": {
      "text/plain": [
       "dtype('float64')"
      ]
     },
     "execution_count": 245,
     "metadata": {},
     "output_type": "execute_result"
    }
   ],
   "source": [
    "df['% High Movt']=df['% High Movt'].fillna(df['% High Movt'].mean())\n",
    "#df['% High Movt']=df['% High Movt'].astype(int)\n",
    "df['% High Movt'].dtype"
   ]
  },
  {
   "cell_type": "code",
   "execution_count": 246,
   "metadata": {},
   "outputs": [
    {
     "data": {
      "text/plain": [
       "% Low movt\n",
       "#DIV/0!              #DIV/0!\n",
       "-0.000111857    -0.000111857\n",
       "-0.000142939    -0.000142939\n",
       "-0.000160256    -0.000160256\n",
       "-0.000168909    -0.000168909\n",
       "                    ...     \n",
       "0.059109312      0.059109312\n",
       "0.062095469      0.062095469\n",
       "0.073762838      0.073762838\n",
       "0.078656126      0.078656126\n",
       "8.00E-05            8.00E-05\n",
       "Name: % Low movt, Length: 926, dtype: object"
      ]
     },
     "execution_count": 246,
     "metadata": {},
     "output_type": "execute_result"
    }
   ],
   "source": [
    "df['% Low movt'].groupby(df['% Low movt']).first()"
   ]
  },
  {
   "cell_type": "code",
   "execution_count": 247,
   "metadata": {},
   "outputs": [
    {
     "data": {
      "text/plain": [
       "0.011205268716075164"
      ]
     },
     "execution_count": 247,
     "metadata": {},
     "output_type": "execute_result"
    }
   ],
   "source": [
    "df['% Low movt']=df['% Low movt'].replace('#DIV/0!',0)\n",
    "df['% Low movt']=df['% Low movt'].astype(float)\n",
    "df['% Low movt'].mean()"
   ]
  },
  {
   "cell_type": "code",
   "execution_count": 248,
   "metadata": {},
   "outputs": [],
   "source": [
    "df['% Low movt']=df['% Low movt'].replace(0,0.112)"
   ]
  },
  {
   "cell_type": "code",
   "execution_count": 249,
   "metadata": {},
   "outputs": [
    {
     "data": {
      "text/plain": [
       "dtype('float64')"
      ]
     },
     "execution_count": 249,
     "metadata": {},
     "output_type": "execute_result"
    }
   ],
   "source": [
    "df['% Low movt']=df['% Low movt'].fillna(df['% Low movt'].mean())\n",
    "#df['% Low movt']=df['% Low movt'].astype(int)\n",
    "df['% Low movt'].dtype"
   ]
  },
  {
   "cell_type": "code",
   "execution_count": 250,
   "metadata": {},
   "outputs": [
    {
     "data": {
      "text/plain": [
       "Yearly Gainner\n",
       "-1%                           -1%-1%-1%-1%-1%-1%-1%-1%-1%\n",
       "-10%             -10%-10%-10%-10%-10%-10%-10%-10%-10%-10%\n",
       "-11%    -11%-11%-11%-11%-11%-11%-11%-11%-11%-11%-11%-1...\n",
       "-12%                                 -12%-12%-12%-12%-12%\n",
       "-13%         -13%-13%-13%-13%-13%-13%-13%-13%-13%-13%-13%\n",
       "                              ...                        \n",
       "95%                                          95%95%95%95%\n",
       "96%                                             96%96%96%\n",
       "97%                                    97%97%97%97%97%97%\n",
       "98%                                                98%98%\n",
       "99%                                             99%99%99%\n",
       "Name: Yearly Gainner, Length: 294, dtype: object"
      ]
     },
     "execution_count": 250,
     "metadata": {},
     "output_type": "execute_result"
    }
   ],
   "source": [
    "df['Yearly Gainner'].groupby(df['Yearly Gainner']).sum()"
   ]
  },
  {
   "cell_type": "code",
   "execution_count": 251,
   "metadata": {},
   "outputs": [],
   "source": [
    "df['Yearly Gainner']=df['Yearly Gainner'].str.strip(\"%\")"
   ]
  },
  {
   "cell_type": "code",
   "execution_count": 252,
   "metadata": {},
   "outputs": [],
   "source": [
    "df['Yearly Gainner']=df['Yearly Gainner'].astype(float)\n",
    "df['Yearly Gainner']=df['Yearly Gainner'].fillna(df['Yearly Gainner'].mean())"
   ]
  },
  {
   "cell_type": "code",
   "execution_count": 253,
   "metadata": {},
   "outputs": [
    {
     "data": {
      "text/plain": [
       "dtype('float64')"
      ]
     },
     "execution_count": 253,
     "metadata": {},
     "output_type": "execute_result"
    }
   ],
   "source": [
    "#df['Yearly Gainner']=df['Yearly Gainner'].astype(int)\n",
    "df['Yearly Gainner'].dtype"
   ]
  },
  {
   "cell_type": "code",
   "execution_count": 254,
   "metadata": {},
   "outputs": [],
   "source": [
    "# defining a class for converting % into float\n",
    "def strip(a):\n",
    "    a=a.str.strip('%')\n",
    "    a=a.astype(float)\n",
    "    a=a.fillna(a.mean())\n",
    "    return a"
   ]
  },
  {
   "cell_type": "code",
   "execution_count": 255,
   "metadata": {},
   "outputs": [
    {
     "data": {
      "text/plain": [
       "dtype('int32')"
      ]
     },
     "execution_count": 255,
     "metadata": {},
     "output_type": "execute_result"
    }
   ],
   "source": [
    "df['27th Dec']=strip(df['27th Dec'])\n",
    "df['27th Dec']=df['27th Dec'].astype(int)\n",
    "df['27th Dec'].dtype"
   ]
  },
  {
   "cell_type": "code",
   "execution_count": 256,
   "metadata": {},
   "outputs": [
    {
     "data": {
      "text/plain": [
       "dtype('int32')"
      ]
     },
     "execution_count": 256,
     "metadata": {},
     "output_type": "execute_result"
    }
   ],
   "source": [
    "df['1st Feb']=strip(df['1st Feb'])\n",
    "df['1st Feb']=df['1st Feb'].astype(int)\n",
    "df['1st Feb'].dtype"
   ]
  },
  {
   "cell_type": "code",
   "execution_count": 257,
   "metadata": {},
   "outputs": [
    {
     "data": {
      "text/plain": [
       "dtype('int32')"
      ]
     },
     "execution_count": 257,
     "metadata": {},
     "output_type": "execute_result"
    }
   ],
   "source": [
    "df['1st March']=strip(df['1st March'])\n",
    "df['1st March']=df['1st March'].astype(int)\n",
    "df['1st March'].dtype"
   ]
  },
  {
   "cell_type": "code",
   "execution_count": 258,
   "metadata": {},
   "outputs": [
    {
     "data": {
      "text/plain": [
       "dtype('int32')"
      ]
     },
     "execution_count": 258,
     "metadata": {},
     "output_type": "execute_result"
    }
   ],
   "source": [
    "df['1st April']=strip(df['1st April'])\n",
    "df['1st April']=df['1st April'].astype(int)\n",
    "df['1st April'].dtype"
   ]
  },
  {
   "cell_type": "code",
   "execution_count": 259,
   "metadata": {},
   "outputs": [
    {
     "data": {
      "text/plain": [
       "dtype('float64')"
      ]
     },
     "execution_count": 259,
     "metadata": {},
     "output_type": "execute_result"
    }
   ],
   "source": [
    "df['RH']=df['RH'].fillna(df['RH'].mean())\n",
    "df['RH']=df['RH'].astype(float)\n",
    "df['RH'].dtype"
   ]
  },
  {
   "cell_type": "code",
   "execution_count": 260,
   "metadata": {},
   "outputs": [
    {
     "data": {
      "text/plain": [
       "dtype('int32')"
      ]
     },
     "execution_count": 260,
     "metadata": {},
     "output_type": "execute_result"
    }
   ],
   "source": [
    "df['Corr']=strip(df['Corr'])\n",
    "df['Corr']=df['Corr'].astype(int)\n",
    "df['Corr'].dtype"
   ]
  },
  {
   "cell_type": "code",
   "execution_count": 261,
   "metadata": {},
   "outputs": [
    {
     "data": {
      "text/plain": [
       "dtype('float64')"
      ]
     },
     "execution_count": 261,
     "metadata": {},
     "output_type": "execute_result"
    }
   ],
   "source": [
    "df['PeRatio']=df['PeRatio'].fillna(df['PeRatio'].mean())\n",
    "df['PeRatio']=df['PeRatio'].astype(float)\n",
    "df['PeRatio'].dtype"
   ]
  },
  {
   "cell_type": "code",
   "execution_count": 262,
   "metadata": {},
   "outputs": [
    {
     "data": {
      "text/plain": [
       "New Pe\n",
       "#DIV/0!              #DIV/0!\n",
       "#REF!                  #REF!\n",
       "-0.033587786    -0.033587786\n",
       "-0.045685279    -0.045685279\n",
       "-0.056648575    -0.056648575\n",
       "                    ...     \n",
       "94                        94\n",
       "94.94047619      94.94047619\n",
       "97                        97\n",
       "98.67857143      98.67857143\n",
       "99                        99\n",
       "Name: New Pe, Length: 636, dtype: object"
      ]
     },
     "execution_count": 262,
     "metadata": {},
     "output_type": "execute_result"
    }
   ],
   "source": [
    "df['New Pe'].groupby(df['New Pe']).first()"
   ]
  },
  {
   "cell_type": "code",
   "execution_count": 263,
   "metadata": {},
   "outputs": [
    {
     "data": {
      "text/plain": [
       "dtype('float64')"
      ]
     },
     "execution_count": 263,
     "metadata": {},
     "output_type": "execute_result"
    }
   ],
   "source": [
    "df['New Pe']=df['New Pe'].replace('#DIV/0!',0)\n",
    "df['New Pe']=df['New Pe'].replace('#REF!',1)\n",
    "#df['New Pe'].isna().sum()\n",
    "df['New Pe']=df['New Pe'].astype(float)\n",
    "df['New Pe']=df['New Pe'].fillna(df['New Pe'].mean())\n",
    "df['New Pe']=df['New Pe'].astype(float)\n",
    "df['New Pe'].dtype"
   ]
  },
  {
   "cell_type": "code",
   "execution_count": 264,
   "metadata": {},
   "outputs": [
    {
     "data": {
      "text/plain": [
       "dtype('float64')"
      ]
     },
     "execution_count": 264,
     "metadata": {},
     "output_type": "execute_result"
    }
   ],
   "source": [
    "df['W52_High'].groupby(df['W52_High']).first()\n",
    "df['W52_High']=df['W52_High'].fillna(df['W52_High'].mean())\n",
    "df['W52_High']=df['W52_High'].astype(float)\n",
    "df['W52_High'].dtype"
   ]
  },
  {
   "cell_type": "code",
   "execution_count": 265,
   "metadata": {},
   "outputs": [
    {
     "data": {
      "text/plain": [
       "dtype('int32')"
      ]
     },
     "execution_count": 265,
     "metadata": {},
     "output_type": "execute_result"
    }
   ],
   "source": [
    "df['Corre']=strip(df['Corre'])\n",
    "df['Corre']=df['Corre'].astype(int)\n",
    "df['Corre'].dtype"
   ]
  },
  {
   "cell_type": "code",
   "execution_count": 266,
   "metadata": {},
   "outputs": [
    {
     "data": {
      "text/plain": [
       "dtype('int32')"
      ]
     },
     "execution_count": 266,
     "metadata": {},
     "output_type": "execute_result"
    }
   ],
   "source": [
    "df['latest'].groupby(df['latest']).first()\n",
    "df['latest']=df['latest'].fillna(df['latest'].mean())\n",
    "df['latest']=df['latest'].astype(int)\n",
    "df['latest'].dtype"
   ]
  },
  {
   "cell_type": "code",
   "execution_count": 267,
   "metadata": {},
   "outputs": [],
   "source": [
    "def fillmean(a):\n",
    "    a=a.fillna(a.mean())\n",
    "    a=a.astype(float)\n",
    "    return a\n",
    "\n"
   ]
  },
  {
   "cell_type": "code",
   "execution_count": 268,
   "metadata": {},
   "outputs": [
    {
     "data": {
      "text/plain": [
       "dtype('float64')"
      ]
     },
     "execution_count": 268,
     "metadata": {},
     "output_type": "execute_result"
    }
   ],
   "source": [
    "df['Annual_Pat'].groupby(df['Annual_Pat']).first()\n",
    "df['Annual_Pat']=fillmean(df['Annual_Pat'])\n",
    "df['Annual_Pat'].dtype"
   ]
  },
  {
   "cell_type": "code",
   "execution_count": 269,
   "metadata": {},
   "outputs": [
    {
     "data": {
      "text/plain": [
       "dtype('float64')"
      ]
     },
     "execution_count": 269,
     "metadata": {},
     "output_type": "execute_result"
    }
   ],
   "source": [
    "df['Cum PAT 3 Quarter'].groupby(df['Cum PAT 3 Quarter']).first()\n",
    "df['Cum PAT 3 Quarter']=fillmean(df['Cum PAT 3 Quarter'])\n",
    "df['Cum PAT 3 Quarter'].dtype"
   ]
  },
  {
   "cell_type": "code",
   "execution_count": 270,
   "metadata": {},
   "outputs": [
    {
     "data": {
      "text/plain": [
       "dtype('float64')"
      ]
     },
     "execution_count": 270,
     "metadata": {},
     "output_type": "execute_result"
    }
   ],
   "source": [
    "df['Pat Jump'].groupby(df['Pat Jump']).first()\n",
    "df['Pat Jump']=fillmean(df['Pat Jump'])\n",
    "df['Pat Jump'].dtype"
   ]
  },
  {
   "cell_type": "code",
   "execution_count": 271,
   "metadata": {},
   "outputs": [
    {
     "data": {
      "text/plain": [
       "dtype('int32')"
      ]
     },
     "execution_count": 271,
     "metadata": {},
     "output_type": "execute_result"
    }
   ],
   "source": [
    "df['Annual Growth'].groupby(df['Annual Growth']).first()\n",
    "df['Annual Growth']=df['Annual Growth'].replace('G',1)\n",
    "df['Annual Growth']=df['Annual Growth'].fillna(0)\n",
    "df['Annual Growth']=df['Annual Growth'].astype(int)\n",
    "df['Annual Growth'].dtype"
   ]
  },
  {
   "cell_type": "code",
   "execution_count": 272,
   "metadata": {},
   "outputs": [
    {
     "data": {
      "text/plain": [
       "dtype('float64')"
      ]
     },
     "execution_count": 272,
     "metadata": {},
     "output_type": "execute_result"
    }
   ],
   "source": [
    "df['Mar_17_ReportedPAT'].dtype\n",
    "df['Mar_17_ReportedPAT']=fillmean(df['Mar_17_ReportedPAT'])\n",
    "df['Mar_17_ReportedPAT'].dtype"
   ]
  },
  {
   "cell_type": "code",
   "execution_count": 273,
   "metadata": {},
   "outputs": [
    {
     "data": {
      "text/plain": [
       "dtype('float64')"
      ]
     },
     "execution_count": 273,
     "metadata": {},
     "output_type": "execute_result"
    }
   ],
   "source": [
    "df['Dec_16_ReportedPAT']=fillmean(df['Dec_16_ReportedPAT'])\n",
    "df['Dec_16_ReportedPAT'].dtype"
   ]
  },
  {
   "cell_type": "code",
   "execution_count": 274,
   "metadata": {},
   "outputs": [
    {
     "data": {
      "text/plain": [
       "dtype('float64')"
      ]
     },
     "execution_count": 274,
     "metadata": {},
     "output_type": "execute_result"
    }
   ],
   "source": [
    "df['Sep_16_ReportedPAT']=fillmean(df['Sep_16_ReportedPAT'])\n",
    "df['Sep_16_ReportedPAT'].dtype"
   ]
  },
  {
   "cell_type": "code",
   "execution_count": 275,
   "metadata": {},
   "outputs": [
    {
     "data": {
      "text/plain": [
       "dtype('float64')"
      ]
     },
     "execution_count": 275,
     "metadata": {},
     "output_type": "execute_result"
    }
   ],
   "source": [
    "df['Jun_16_ReportedPAT']=fillmean(df['Jun_16_ReportedPAT'])\n",
    "df['Jun_16_ReportedPAT'].dtype"
   ]
  },
  {
   "cell_type": "code",
   "execution_count": 276,
   "metadata": {},
   "outputs": [
    {
     "data": {
      "text/plain": [
       "dtype('float64')"
      ]
     },
     "execution_count": 276,
     "metadata": {},
     "output_type": "execute_result"
    }
   ],
   "source": [
    "df['Mar_16_ReportedPAT']=fillmean(df['Mar_16_ReportedPAT'])\n",
    "df['Mar_16_ReportedPAT'].dtype"
   ]
  },
  {
   "cell_type": "code",
   "execution_count": 277,
   "metadata": {},
   "outputs": [
    {
     "data": {
      "text/plain": [
       "dtype('float64')"
      ]
     },
     "execution_count": 277,
     "metadata": {},
     "output_type": "execute_result"
    }
   ],
   "source": [
    "df['Dec_15_ReportedPAT']=fillmean(df['Dec_15_ReportedPAT'])\n",
    "df['Dec_15_ReportedPAT'].dtype"
   ]
  },
  {
   "cell_type": "code",
   "execution_count": 278,
   "metadata": {},
   "outputs": [
    {
     "data": {
      "text/plain": [
       "dtype('int32')"
      ]
     },
     "execution_count": 278,
     "metadata": {},
     "output_type": "execute_result"
    }
   ],
   "source": [
    "df['Y oY PAT'].groupby(df['Y oY PAT']).first()\n",
    "df['Y oY PAT']=df['Y oY PAT'].fillna(0)\n",
    "df['Y oY PAT']=df['Y oY PAT'].replace('Y',1)\n",
    "df['Y oY PAT']=df['Y oY PAT'].astype(int)\n",
    "df['Y oY PAT'].dtype"
   ]
  },
  {
   "cell_type": "code",
   "execution_count": 279,
   "metadata": {},
   "outputs": [
    {
     "data": {
      "text/plain": [
       "dtype('int32')"
      ]
     },
     "execution_count": 279,
     "metadata": {},
     "output_type": "execute_result"
    }
   ],
   "source": [
    "df['PAT Growth']=df['PAT Growth'].fillna(0)\n",
    "df['PAT Growth']=df['PAT Growth'].replace(\"Y\",1)\n",
    "df['PAT Growth']=df['PAT Growth'].astype(int)\n",
    "df['PAT Growth'].dtype"
   ]
  },
  {
   "cell_type": "code",
   "execution_count": 280,
   "metadata": {},
   "outputs": [
    {
     "data": {
      "text/plain": [
       "dtype('float64')"
      ]
     },
     "execution_count": 280,
     "metadata": {},
     "output_type": "execute_result"
    }
   ],
   "source": [
    "df['PeRatio.1']=fillmean(df['PeRatio.1'])\n",
    "df['PeRatio.1'].dtype"
   ]
  },
  {
   "cell_type": "code",
   "execution_count": 281,
   "metadata": {},
   "outputs": [
    {
     "data": {
      "text/plain": [
       "dtype('int32')"
      ]
     },
     "execution_count": 281,
     "metadata": {},
     "output_type": "execute_result"
    }
   ],
   "source": [
    "df['ResultDate']=fillmean(df['ResultDate'])\n",
    "df['ResultDate']=df['ResultDate'].astype(int)\n",
    "df['ResultDate'].dtype"
   ]
  },
  {
   "cell_type": "code",
   "execution_count": 282,
   "metadata": {},
   "outputs": [
    {
     "data": {
      "text/plain": [
       "dtype('int32')"
      ]
     },
     "execution_count": 282,
     "metadata": {},
     "output_type": "execute_result"
    }
   ],
   "source": [
    "df['Mar_17_Inst_no_of_shares']=fillmean(df['Mar_17_Inst_no_of_shares'])\n",
    "df['Mar_17_Inst_no_of_shares']=df['Mar_17_Inst_no_of_shares'].astype(int)\n",
    "df['Mar_17_Inst_no_of_shares'].dtype"
   ]
  },
  {
   "cell_type": "code",
   "execution_count": 283,
   "metadata": {},
   "outputs": [
    {
     "data": {
      "text/plain": [
       "dtype('int32')"
      ]
     },
     "execution_count": 283,
     "metadata": {},
     "output_type": "execute_result"
    }
   ],
   "source": [
    "df['Dec_16_Inst_no_of_shares']=fillmean(df['Dec_16_Inst_no_of_shares'])\n",
    "df['Dec_16_Inst_no_of_shares']=df['Dec_16_Inst_no_of_shares'].astype(int)\n",
    "df['Dec_16_Inst_no_of_shares'].dtype"
   ]
  },
  {
   "cell_type": "code",
   "execution_count": 284,
   "metadata": {},
   "outputs": [
    {
     "data": {
      "text/plain": [
       "dtype('int32')"
      ]
     },
     "execution_count": 284,
     "metadata": {},
     "output_type": "execute_result"
    }
   ],
   "source": [
    "df['Int/ Incr/ Decr']=fillmean(df['Int/ Incr/ Decr'])\n",
    "df['Int/ Incr/ Decr']=df['Int/ Incr/ Decr'].astype(int)\n",
    "df['Int/ Incr/ Decr'].dtype"
   ]
  },
  {
   "cell_type": "code",
   "execution_count": 285,
   "metadata": {},
   "outputs": [
    {
     "data": {
      "text/plain": [
       "dtype('float64')"
      ]
     },
     "execution_count": 285,
     "metadata": {},
     "output_type": "execute_result"
    }
   ],
   "source": [
    "df['Pledge']=fillmean(df['Pledge'])\n",
    "df['Pledge'].dtype"
   ]
  },
  {
   "cell_type": "code",
   "execution_count": 286,
   "metadata": {},
   "outputs": [
    {
     "data": {
      "text/plain": [
       "dtype('float64')"
      ]
     },
     "execution_count": 286,
     "metadata": {},
     "output_type": "execute_result"
    }
   ],
   "source": [
    "df['DividendYield']=fillmean(df['DividendYield'])\n",
    "df['DividendYield'].dtype"
   ]
  },
  {
   "cell_type": "code",
   "execution_count": 287,
   "metadata": {},
   "outputs": [
    {
     "data": {
      "text/plain": [
       "dtype('float64')"
      ]
     },
     "execution_count": 287,
     "metadata": {},
     "output_type": "execute_result"
    }
   ],
   "source": [
    "df['DERatio']=fillmean(df['DERatio'])\n",
    "df['DERatio'].dtype"
   ]
  },
  {
   "cell_type": "code",
   "execution_count": 288,
   "metadata": {},
   "outputs": [
    {
     "data": {
      "text/plain": [
       "dtype('int32')"
      ]
     },
     "execution_count": 288,
     "metadata": {},
     "output_type": "execute_result"
    }
   ],
   "source": [
    "df['FB'].groupby(df['FB']).first()\n",
    "df['FB']=df['FB'].replace('FB',1)\n",
    "df['FB']=df['FB'].fillna(0)\n",
    "df['FB']=df['FB'].astype(int)\n",
    "df['FB'].dtype"
   ]
  },
  {
   "cell_type": "code",
   "execution_count": 289,
   "metadata": {},
   "outputs": [
    {
     "data": {
      "text/plain": [
       "dtype('float64')"
      ]
     },
     "execution_count": 289,
     "metadata": {},
     "output_type": "execute_result"
    }
   ],
   "source": [
    "df['Mar_17_Eps_Before'].groupby(df['Mar_17_Eps_Before']).first()\n",
    "df['Mar_17_Eps_Before']=df['Mar_17_Eps_Before'].replace('#REF!',0)\n",
    "df['Mar_17_Eps_Before']=df['Mar_17_Eps_Before'].astype(float)\n",
    "df['Mar_17_Eps_Before']=fillmean(df['Mar_17_Eps_Before'])\n",
    "df['Mar_17_Eps_Before'].dtype"
   ]
  },
  {
   "cell_type": "code",
   "execution_count": 290,
   "metadata": {},
   "outputs": [
    {
     "data": {
      "text/plain": [
       "dtype('float64')"
      ]
     },
     "execution_count": 290,
     "metadata": {},
     "output_type": "execute_result"
    }
   ],
   "source": [
    "df['Dec_16_Eps_Before'].groupby(df['Dec_16_Eps_Before']).first()\n",
    "df['Dec_16_Eps_Before']=df['Dec_16_Eps_Before'].replace('#REF!',0)\n",
    "df['Dec_16_Eps_Before']=df['Dec_16_Eps_Before'].astype(float)\n",
    "df['Dec_16_Eps_Before']=fillmean(df['Dec_16_Eps_Before'])\n",
    "df['Dec_16_Eps_Before'].dtype"
   ]
  },
  {
   "cell_type": "code",
   "execution_count": 291,
   "metadata": {},
   "outputs": [],
   "source": [
    "def ref(a):\n",
    "    a=a.replace('#REF!',0)\n",
    "    a=a.astype(float)\n",
    "    return a\n",
    "\n"
   ]
  },
  {
   "cell_type": "code",
   "execution_count": 292,
   "metadata": {},
   "outputs": [
    {
     "data": {
      "text/plain": [
       "dtype('float64')"
      ]
     },
     "execution_count": 292,
     "metadata": {},
     "output_type": "execute_result"
    }
   ],
   "source": [
    "df['Sep_16_Eps_Before']=ref(df['Sep_16_Eps_Before'])\n",
    "df['Sep_16_Eps_Before']=fillmean(df['Sep_16_Eps_Before'])\n",
    "df['Sep_16_Eps_Before'].dtype"
   ]
  },
  {
   "cell_type": "code",
   "execution_count": 293,
   "metadata": {},
   "outputs": [
    {
     "data": {
      "text/plain": [
       "dtype('float64')"
      ]
     },
     "execution_count": 293,
     "metadata": {},
     "output_type": "execute_result"
    }
   ],
   "source": [
    "df['Jun_16_Eps_Before']=ref(df['Jun_16_Eps_Before'])\n",
    "df['Jun_16_Eps_Before']=fillmean(df['Jun_16_Eps_Before'])\n",
    "df['Jun_16_Eps_Before'].dtype\n",
    "#df['Jun_16_Eps_Before'].groupby(df['Jun_16_Eps_Before']).first()"
   ]
  },
  {
   "cell_type": "code",
   "execution_count": 294,
   "metadata": {},
   "outputs": [
    {
     "data": {
      "text/plain": [
       "dtype('float64')"
      ]
     },
     "execution_count": 294,
     "metadata": {},
     "output_type": "execute_result"
    }
   ],
   "source": [
    "df['Mar_16_Eps_Before'].groupby(df['Mar_16_Eps_Before']).first()\n",
    "df['Mar_16_Eps_Before']=ref(df['Mar_16_Eps_Before'])\n",
    "df['Mar_16_Eps_Before']=fillmean(df['Mar_16_Eps_Before'])\n",
    "df['Mar_16_Eps_Before'].dtype"
   ]
  },
  {
   "cell_type": "code",
   "execution_count": 295,
   "metadata": {},
   "outputs": [
    {
     "data": {
      "text/plain": [
       "dtype('float64')"
      ]
     },
     "execution_count": 295,
     "metadata": {},
     "output_type": "execute_result"
    }
   ],
   "source": [
    "df['Dec_15_Eps_Before'].groupby(df['Dec_15_Eps_Before']).first()\n",
    "df['Dec_15_Eps_Before']=ref(df['Dec_15_Eps_Before'])\n",
    "df['Dec_15_Eps_Before']=fillmean(df['Dec_15_Eps_Before'])\n",
    "df['Dec_15_Eps_Before'].dtype"
   ]
  },
  {
   "cell_type": "code",
   "execution_count": 296,
   "metadata": {},
   "outputs": [
    {
     "data": {
      "text/plain": [
       "dtype('float64')"
      ]
     },
     "execution_count": 296,
     "metadata": {},
     "output_type": "execute_result"
    }
   ],
   "source": [
    "df['Annual_Eps'].groupby(df['Annual_Eps']).first()\n",
    "df['Annual_Eps']=ref(df['Annual_Eps'])\n",
    "df['Annual_Eps']=fillmean(df['Annual_Eps'])\n",
    "df['Annual_Eps'].dtype"
   ]
  },
  {
   "cell_type": "code",
   "execution_count": 297,
   "metadata": {},
   "outputs": [
    {
     "data": {
      "text/plain": [
       "dtype('float64')"
      ]
     },
     "execution_count": 297,
     "metadata": {},
     "output_type": "execute_result"
    }
   ],
   "source": [
    "df['Volume'].groupby(df['Volume']).first()\n",
    "df['Volume']=fillmean(df['Volume'])\n",
    "df['Volume'].dtype"
   ]
  },
  {
   "cell_type": "code",
   "execution_count": 298,
   "metadata": {},
   "outputs": [
    {
     "data": {
      "text/plain": [
       "dtype('int32')"
      ]
     },
     "execution_count": 298,
     "metadata": {},
     "output_type": "execute_result"
    }
   ],
   "source": [
    "df['MarketCap'].groupby(df['MarketCap']).first()\n",
    "df['MarketCap']=ref(df['MarketCap'])\n",
    "df['MarketCap']=fillmean(df['MarketCap'])\n",
    "df['MarketCap']=df['MarketCap'].astype(int)\n",
    "df['MarketCap'].dtype"
   ]
  },
  {
   "cell_type": "code",
   "execution_count": 299,
   "metadata": {},
   "outputs": [
    {
     "data": {
      "text/plain": [
       "dtype('float64')"
      ]
     },
     "execution_count": 299,
     "metadata": {},
     "output_type": "execute_result"
    }
   ],
   "source": [
    "df['Annual_Pat.1'].groupby(df['Annual_Pat.1']).first()\n",
    "df['Annual_Pat.1']=ref(df['Annual_Pat.1'])\n",
    "df['Annual_Pat.1']=fillmean(df['Annual_Pat.1'])\n",
    "#df['Annual_Pat.1']=df['Annual_Pat.1'].astype(int)\n",
    "df['Annual_Pat.1'].dtype"
   ]
  },
  {
   "cell_type": "code",
   "execution_count": 300,
   "metadata": {},
   "outputs": [
    {
     "data": {
      "text/plain": [
       "dtype('float64')"
      ]
     },
     "execution_count": 300,
     "metadata": {},
     "output_type": "execute_result"
    }
   ],
   "source": [
    "df['EquityCapital'].groupby(df['EquityCapital']).first()\n",
    "df['EquityCapital']=ref(df['EquityCapital'])\n",
    "df['EquityCapital']=fillmean(df['EquityCapital'])\n",
    "#df['EquityCapital']=df['EquityCapital'].astype(int)\n",
    "df['EquityCapital'].dtype"
   ]
  },
  {
   "cell_type": "code",
   "execution_count": 301,
   "metadata": {},
   "outputs": [
    {
     "data": {
      "text/plain": [
       "dtype('int32')"
      ]
     },
     "execution_count": 301,
     "metadata": {},
     "output_type": "execute_result"
    }
   ],
   "source": [
    "df['FaceValue'].groupby(df['FaceValue']).first()\n",
    "df['FaceValue']=ref(df['FaceValue'])\n",
    "df['FaceValue']=fillmean(df['FaceValue'])\n",
    "df['FaceValue']=df['FaceValue'].astype(int)\n",
    "df['FaceValue'].dtype"
   ]
  },
  {
   "cell_type": "code",
   "execution_count": 302,
   "metadata": {},
   "outputs": [
    {
     "data": {
      "text/plain": [
       "Cap Category\n",
       "#REF!          #REF!\n",
       "LargeCap    LargeCap\n",
       "MidCap        MidCap\n",
       "MiniCap      MiniCap\n",
       "SmallCap    SmallCap\n",
       "Name: Cap Category, dtype: object"
      ]
     },
     "execution_count": 302,
     "metadata": {},
     "output_type": "execute_result"
    }
   ],
   "source": [
    "df['Cap Category'].groupby(df['Cap Category']).first()"
   ]
  },
  {
   "cell_type": "code",
   "execution_count": 303,
   "metadata": {},
   "outputs": [],
   "source": [
    "df['Cap Category']=df['Cap Category'].replace('#REF!','ref')\n",
    "df['Cap Category'].isna().sum()\n",
    "df['Cap Category']=df['Cap Category'].map({'LargeCap':0,'MidCap':1,'MiniCap':2,'SmallCap':3,'ref':4})"
   ]
  },
  {
   "cell_type": "code",
   "execution_count": 304,
   "metadata": {},
   "outputs": [
    {
     "data": {
      "text/plain": [
       "dtype('int32')"
      ]
     },
     "execution_count": 304,
     "metadata": {},
     "output_type": "execute_result"
    }
   ],
   "source": [
    "df['Cap Category']=df['Cap Category'].fillna(df['Cap Category'].mean())\n",
    "df['Cap Category']=df['Cap Category'].astype(int)\n",
    "df['Cap Category'].dtype\n",
    "#df['Cap Category'].isna().sum()"
   ]
  },
  {
   "cell_type": "code",
   "execution_count": 305,
   "metadata": {},
   "outputs": [
    {
     "data": {
      "text/html": [
       "<div>\n",
       "<style scoped>\n",
       "    .dataframe tbody tr th:only-of-type {\n",
       "        vertical-align: middle;\n",
       "    }\n",
       "\n",
       "    .dataframe tbody tr th {\n",
       "        vertical-align: top;\n",
       "    }\n",
       "\n",
       "    .dataframe thead th {\n",
       "        text-align: right;\n",
       "    }\n",
       "</style>\n",
       "<table border=\"1\" class=\"dataframe\">\n",
       "  <thead>\n",
       "    <tr style=\"text-align: right;\">\n",
       "      <th></th>\n",
       "      <th>Category</th>\n",
       "      <th>Sector</th>\n",
       "      <th>RM</th>\n",
       "      <th>Up</th>\n",
       "      <th>Last Traded Price</th>\n",
       "      <th>Percentage Change</th>\n",
       "      <th>High Price</th>\n",
       "      <th>Low Price</th>\n",
       "      <th>% High Movt</th>\n",
       "      <th>% Low movt</th>\n",
       "      <th>Yearly Gainner</th>\n",
       "      <th>27th Dec</th>\n",
       "      <th>1st Feb</th>\n",
       "      <th>1st March</th>\n",
       "      <th>1st April</th>\n",
       "      <th>RH</th>\n",
       "      <th>Corr</th>\n",
       "      <th>PeRatio</th>\n",
       "      <th>New Pe</th>\n",
       "      <th>W52_High</th>\n",
       "      <th>Corre</th>\n",
       "      <th>latest</th>\n",
       "      <th>Annual_Pat</th>\n",
       "      <th>Cum PAT 3 Quarter</th>\n",
       "      <th>Pat Jump</th>\n",
       "      <th>Annual Growth</th>\n",
       "      <th>Mar_17_ReportedPAT</th>\n",
       "      <th>Dec_16_ReportedPAT</th>\n",
       "      <th>Sep_16_ReportedPAT</th>\n",
       "      <th>Jun_16_ReportedPAT</th>\n",
       "      <th>Mar_16_ReportedPAT</th>\n",
       "      <th>Dec_15_ReportedPAT</th>\n",
       "      <th>Y oY PAT</th>\n",
       "      <th>PAT Growth</th>\n",
       "      <th>PeRatio.1</th>\n",
       "      <th>ResultDate</th>\n",
       "      <th>Mar_17_Inst_no_of_shares</th>\n",
       "      <th>Dec_16_Inst_no_of_shares</th>\n",
       "      <th>Int/ Incr/ Decr</th>\n",
       "      <th>Pledge</th>\n",
       "      <th>DividendYield</th>\n",
       "      <th>DERatio</th>\n",
       "      <th>FB</th>\n",
       "      <th>Mar_17_Eps_Before</th>\n",
       "      <th>Dec_16_Eps_Before</th>\n",
       "      <th>Sep_16_Eps_Before</th>\n",
       "      <th>Jun_16_Eps_Before</th>\n",
       "      <th>Mar_16_Eps_Before</th>\n",
       "      <th>Dec_15_Eps_Before</th>\n",
       "      <th>Annual_Eps</th>\n",
       "      <th>Volume</th>\n",
       "      <th>MarketCap</th>\n",
       "      <th>Annual_Pat.1</th>\n",
       "      <th>EquityCapital</th>\n",
       "      <th>FaceValue</th>\n",
       "      <th>Cap Category</th>\n",
       "    </tr>\n",
       "  </thead>\n",
       "  <tbody>\n",
       "    <tr>\n",
       "      <td>0</td>\n",
       "      <td>2.0</td>\n",
       "      <td>8</td>\n",
       "      <td>51</td>\n",
       "      <td>5</td>\n",
       "      <td>43.00</td>\n",
       "      <td>-0.002828</td>\n",
       "      <td>703.291434</td>\n",
       "      <td>683.902683</td>\n",
       "      <td>0.018764</td>\n",
       "      <td>0.014829</td>\n",
       "      <td>30.000000</td>\n",
       "      <td>36</td>\n",
       "      <td>11</td>\n",
       "      <td>19</td>\n",
       "      <td>23</td>\n",
       "      <td>49.40</td>\n",
       "      <td>13</td>\n",
       "      <td>10.72</td>\n",
       "      <td>16.538462</td>\n",
       "      <td>49.40</td>\n",
       "      <td>13</td>\n",
       "      <td>42775</td>\n",
       "      <td>11.0609</td>\n",
       "      <td>11.7275</td>\n",
       "      <td>0.6666</td>\n",
       "      <td>0</td>\n",
       "      <td>0.000000</td>\n",
       "      <td>2.2822</td>\n",
       "      <td>4.4844</td>\n",
       "      <td>4.9609</td>\n",
       "      <td>2.3595</td>\n",
       "      <td>3.2153</td>\n",
       "      <td>1</td>\n",
       "      <td>1</td>\n",
       "      <td>10.72</td>\n",
       "      <td>42775</td>\n",
       "      <td>3</td>\n",
       "      <td>2</td>\n",
       "      <td>1</td>\n",
       "      <td>54.38</td>\n",
       "      <td>0.00</td>\n",
       "      <td>1.70</td>\n",
       "      <td>1</td>\n",
       "      <td>0.00</td>\n",
       "      <td>0.65</td>\n",
       "      <td>1.29</td>\n",
       "      <td>1.41</td>\n",
       "      <td>0.67</td>\n",
       "      <td>0.91</td>\n",
       "      <td>3.11</td>\n",
       "      <td>0.532215</td>\n",
       "      <td>152</td>\n",
       "      <td>11.0609</td>\n",
       "      <td>17.6433</td>\n",
       "      <td>5</td>\n",
       "      <td>2</td>\n",
       "    </tr>\n",
       "    <tr>\n",
       "      <td>1</td>\n",
       "      <td>0.0</td>\n",
       "      <td>27</td>\n",
       "      <td>51</td>\n",
       "      <td>5</td>\n",
       "      <td>5.35</td>\n",
       "      <td>-0.002828</td>\n",
       "      <td>703.291434</td>\n",
       "      <td>683.902683</td>\n",
       "      <td>0.018764</td>\n",
       "      <td>0.014829</td>\n",
       "      <td>26.000000</td>\n",
       "      <td>1</td>\n",
       "      <td>-3</td>\n",
       "      <td>5</td>\n",
       "      <td>6</td>\n",
       "      <td>5.80</td>\n",
       "      <td>8</td>\n",
       "      <td>6.89</td>\n",
       "      <td>8.000000</td>\n",
       "      <td>7.15</td>\n",
       "      <td>25</td>\n",
       "      <td>42030</td>\n",
       "      <td>-1059.2700</td>\n",
       "      <td>60.7600</td>\n",
       "      <td>1120.0300</td>\n",
       "      <td>1</td>\n",
       "      <td>33.340000</td>\n",
       "      <td>19.0100</td>\n",
       "      <td>21.5800</td>\n",
       "      <td>20.1700</td>\n",
       "      <td>-812.2800</td>\n",
       "      <td>-79.0800</td>\n",
       "      <td>1</td>\n",
       "      <td>1</td>\n",
       "      <td>6.89</td>\n",
       "      <td>42855</td>\n",
       "      <td>46</td>\n",
       "      <td>49</td>\n",
       "      <td>-3</td>\n",
       "      <td>0.00</td>\n",
       "      <td>0.00</td>\n",
       "      <td>-0.52</td>\n",
       "      <td>1</td>\n",
       "      <td>0.27</td>\n",
       "      <td>0.17</td>\n",
       "      <td>0.14</td>\n",
       "      <td>0.31</td>\n",
       "      <td>-12.69</td>\n",
       "      <td>-1.32</td>\n",
       "      <td>-16.96</td>\n",
       "      <td>1.164510</td>\n",
       "      <td>633</td>\n",
       "      <td>-1059.2700</td>\n",
       "      <td>1047.4500</td>\n",
       "      <td>10</td>\n",
       "      <td>2</td>\n",
       "    </tr>\n",
       "    <tr>\n",
       "      <td>2</td>\n",
       "      <td>2.0</td>\n",
       "      <td>10</td>\n",
       "      <td>0</td>\n",
       "      <td>0</td>\n",
       "      <td>12219.65</td>\n",
       "      <td>1.230000</td>\n",
       "      <td>12399.950000</td>\n",
       "      <td>12115.000000</td>\n",
       "      <td>0.014540</td>\n",
       "      <td>0.008638</td>\n",
       "      <td>13.000000</td>\n",
       "      <td>22</td>\n",
       "      <td>8</td>\n",
       "      <td>9</td>\n",
       "      <td>6</td>\n",
       "      <td>12231.00</td>\n",
       "      <td>0</td>\n",
       "      <td>66.29</td>\n",
       "      <td>81.000000</td>\n",
       "      <td>15250.00</td>\n",
       "      <td>20</td>\n",
       "      <td>42775</td>\n",
       "      <td>200.9298</td>\n",
       "      <td>150.3639</td>\n",
       "      <td>-50.5659</td>\n",
       "      <td>0</td>\n",
       "      <td>0.000000</td>\n",
       "      <td>42.4332</td>\n",
       "      <td>48.2087</td>\n",
       "      <td>59.7220</td>\n",
       "      <td>58.4132</td>\n",
       "      <td>56.6134</td>\n",
       "      <td>1</td>\n",
       "      <td>1</td>\n",
       "      <td>66.29</td>\n",
       "      <td>42775</td>\n",
       "      <td>51</td>\n",
       "      <td>48</td>\n",
       "      <td>3</td>\n",
       "      <td>0.00</td>\n",
       "      <td>0.00</td>\n",
       "      <td>0.01</td>\n",
       "      <td>1</td>\n",
       "      <td>0.00</td>\n",
       "      <td>37.67</td>\n",
       "      <td>42.79</td>\n",
       "      <td>53.02</td>\n",
       "      <td>51.85</td>\n",
       "      <td>50.26</td>\n",
       "      <td>178.36</td>\n",
       "      <td>1.041870</td>\n",
       "      <td>13766</td>\n",
       "      <td>200.9298</td>\n",
       "      <td>11.2651</td>\n",
       "      <td>10</td>\n",
       "      <td>1</td>\n",
       "    </tr>\n",
       "    <tr>\n",
       "      <td>3</td>\n",
       "      <td>6.0</td>\n",
       "      <td>27</td>\n",
       "      <td>51</td>\n",
       "      <td>5</td>\n",
       "      <td>75.60</td>\n",
       "      <td>0.260000</td>\n",
       "      <td>76.700000</td>\n",
       "      <td>75.600000</td>\n",
       "      <td>0.014342</td>\n",
       "      <td>0.112000</td>\n",
       "      <td>53.693804</td>\n",
       "      <td>33</td>\n",
       "      <td>19</td>\n",
       "      <td>12</td>\n",
       "      <td>8</td>\n",
       "      <td>82.95</td>\n",
       "      <td>9</td>\n",
       "      <td>213.40</td>\n",
       "      <td>630.000000</td>\n",
       "      <td>96.00</td>\n",
       "      <td>21</td>\n",
       "      <td>42767</td>\n",
       "      <td>0.0000</td>\n",
       "      <td>0.1442</td>\n",
       "      <td>0.1442</td>\n",
       "      <td>0</td>\n",
       "      <td>0.000000</td>\n",
       "      <td>0.1442</td>\n",
       "      <td>0.0000</td>\n",
       "      <td>0.0000</td>\n",
       "      <td>0.0000</td>\n",
       "      <td>130.8301</td>\n",
       "      <td>0</td>\n",
       "      <td>0</td>\n",
       "      <td>213.40</td>\n",
       "      <td>42767</td>\n",
       "      <td>14</td>\n",
       "      <td>15</td>\n",
       "      <td>-1</td>\n",
       "      <td>0.00</td>\n",
       "      <td>6.61</td>\n",
       "      <td>0.16</td>\n",
       "      <td>1</td>\n",
       "      <td>0.00</td>\n",
       "      <td>0.03</td>\n",
       "      <td>0.00</td>\n",
       "      <td>0.00</td>\n",
       "      <td>0.00</td>\n",
       "      <td>28.39</td>\n",
       "      <td>0.00</td>\n",
       "      <td>1.250000</td>\n",
       "      <td>348</td>\n",
       "      <td>0.0000</td>\n",
       "      <td>9.2157</td>\n",
       "      <td>2</td>\n",
       "      <td>2</td>\n",
       "    </tr>\n",
       "    <tr>\n",
       "      <td>4</td>\n",
       "      <td>4.0</td>\n",
       "      <td>27</td>\n",
       "      <td>0</td>\n",
       "      <td>0</td>\n",
       "      <td>623.90</td>\n",
       "      <td>0.170000</td>\n",
       "      <td>640.000000</td>\n",
       "      <td>624.000000</td>\n",
       "      <td>0.025156</td>\n",
       "      <td>-0.000160</td>\n",
       "      <td>-37.000000</td>\n",
       "      <td>-1</td>\n",
       "      <td>4</td>\n",
       "      <td>7</td>\n",
       "      <td>3</td>\n",
       "      <td>663.80</td>\n",
       "      <td>6</td>\n",
       "      <td>23.20</td>\n",
       "      <td>18.000000</td>\n",
       "      <td>1119.00</td>\n",
       "      <td>44</td>\n",
       "      <td>42030</td>\n",
       "      <td>53.2361</td>\n",
       "      <td>85.4227</td>\n",
       "      <td>32.1866</td>\n",
       "      <td>1</td>\n",
       "      <td>40.180600</td>\n",
       "      <td>32.6003</td>\n",
       "      <td>28.6688</td>\n",
       "      <td>24.1536</td>\n",
       "      <td>16.3649</td>\n",
       "      <td>15.1859</td>\n",
       "      <td>1</td>\n",
       "      <td>1</td>\n",
       "      <td>23.20</td>\n",
       "      <td>42865</td>\n",
       "      <td>6</td>\n",
       "      <td>6</td>\n",
       "      <td>0</td>\n",
       "      <td>8.78</td>\n",
       "      <td>0.00</td>\n",
       "      <td>0.01</td>\n",
       "      <td>0</td>\n",
       "      <td>17.12</td>\n",
       "      <td>8.80</td>\n",
       "      <td>20.65</td>\n",
       "      <td>16.89</td>\n",
       "      <td>11.34</td>\n",
       "      <td>10.34</td>\n",
       "      <td>36.34</td>\n",
       "      <td>4.816666</td>\n",
       "      <td>1904</td>\n",
       "      <td>53.2361</td>\n",
       "      <td>15.2588</td>\n",
       "      <td>5</td>\n",
       "      <td>3</td>\n",
       "    </tr>\n",
       "    <tr>\n",
       "      <td>...</td>\n",
       "      <td>...</td>\n",
       "      <td>...</td>\n",
       "      <td>...</td>\n",
       "      <td>...</td>\n",
       "      <td>...</td>\n",
       "      <td>...</td>\n",
       "      <td>...</td>\n",
       "      <td>...</td>\n",
       "      <td>...</td>\n",
       "      <td>...</td>\n",
       "      <td>...</td>\n",
       "      <td>...</td>\n",
       "      <td>...</td>\n",
       "      <td>...</td>\n",
       "      <td>...</td>\n",
       "      <td>...</td>\n",
       "      <td>...</td>\n",
       "      <td>...</td>\n",
       "      <td>...</td>\n",
       "      <td>...</td>\n",
       "      <td>...</td>\n",
       "      <td>...</td>\n",
       "      <td>...</td>\n",
       "      <td>...</td>\n",
       "      <td>...</td>\n",
       "      <td>...</td>\n",
       "      <td>...</td>\n",
       "      <td>...</td>\n",
       "      <td>...</td>\n",
       "      <td>...</td>\n",
       "      <td>...</td>\n",
       "      <td>...</td>\n",
       "      <td>...</td>\n",
       "      <td>...</td>\n",
       "      <td>...</td>\n",
       "      <td>...</td>\n",
       "      <td>...</td>\n",
       "      <td>...</td>\n",
       "      <td>...</td>\n",
       "      <td>...</td>\n",
       "      <td>...</td>\n",
       "      <td>...</td>\n",
       "      <td>...</td>\n",
       "      <td>...</td>\n",
       "      <td>...</td>\n",
       "      <td>...</td>\n",
       "      <td>...</td>\n",
       "      <td>...</td>\n",
       "      <td>...</td>\n",
       "      <td>...</td>\n",
       "      <td>...</td>\n",
       "      <td>...</td>\n",
       "      <td>...</td>\n",
       "      <td>...</td>\n",
       "      <td>...</td>\n",
       "      <td>...</td>\n",
       "    </tr>\n",
       "    <tr>\n",
       "      <td>1557</td>\n",
       "      <td>3.0</td>\n",
       "      <td>29</td>\n",
       "      <td>51</td>\n",
       "      <td>5</td>\n",
       "      <td>32.65</td>\n",
       "      <td>-0.002828</td>\n",
       "      <td>703.291434</td>\n",
       "      <td>683.902683</td>\n",
       "      <td>0.018764</td>\n",
       "      <td>0.014829</td>\n",
       "      <td>2.000000</td>\n",
       "      <td>33</td>\n",
       "      <td>19</td>\n",
       "      <td>-10</td>\n",
       "      <td>-6</td>\n",
       "      <td>36.65</td>\n",
       "      <td>11</td>\n",
       "      <td>25.04</td>\n",
       "      <td>17.000000</td>\n",
       "      <td>41.40</td>\n",
       "      <td>21</td>\n",
       "      <td>42030</td>\n",
       "      <td>0.6255</td>\n",
       "      <td>0.5136</td>\n",
       "      <td>-0.1119</td>\n",
       "      <td>0</td>\n",
       "      <td>60.627339</td>\n",
       "      <td>0.2476</td>\n",
       "      <td>0.2184</td>\n",
       "      <td>0.0476</td>\n",
       "      <td>0.1916</td>\n",
       "      <td>0.0799</td>\n",
       "      <td>1</td>\n",
       "      <td>1</td>\n",
       "      <td>25.04</td>\n",
       "      <td>42880</td>\n",
       "      <td>3</td>\n",
       "      <td>3</td>\n",
       "      <td>0</td>\n",
       "      <td>0.00</td>\n",
       "      <td>1.53</td>\n",
       "      <td>0.00</td>\n",
       "      <td>0</td>\n",
       "      <td>0.00</td>\n",
       "      <td>0.48</td>\n",
       "      <td>0.42</td>\n",
       "      <td>0.09</td>\n",
       "      <td>0.37</td>\n",
       "      <td>0.15</td>\n",
       "      <td>1.21</td>\n",
       "      <td>0.003046</td>\n",
       "      <td>17</td>\n",
       "      <td>0.6255</td>\n",
       "      <td>5.1772</td>\n",
       "      <td>10</td>\n",
       "      <td>2</td>\n",
       "    </tr>\n",
       "    <tr>\n",
       "      <td>1558</td>\n",
       "      <td>7.0</td>\n",
       "      <td>14</td>\n",
       "      <td>51</td>\n",
       "      <td>5</td>\n",
       "      <td>434.60</td>\n",
       "      <td>-3.320000</td>\n",
       "      <td>439.900000</td>\n",
       "      <td>418.600000</td>\n",
       "      <td>0.012048</td>\n",
       "      <td>0.038223</td>\n",
       "      <td>168.000000</td>\n",
       "      <td>96</td>\n",
       "      <td>33</td>\n",
       "      <td>24</td>\n",
       "      <td>20</td>\n",
       "      <td>436.00</td>\n",
       "      <td>0</td>\n",
       "      <td>0.00</td>\n",
       "      <td>20.000000</td>\n",
       "      <td>449.95</td>\n",
       "      <td>3</td>\n",
       "      <td>42030</td>\n",
       "      <td>-87.4700</td>\n",
       "      <td>-4.2600</td>\n",
       "      <td>83.2100</td>\n",
       "      <td>1</td>\n",
       "      <td>60.627339</td>\n",
       "      <td>22.4000</td>\n",
       "      <td>13.3900</td>\n",
       "      <td>-40.0500</td>\n",
       "      <td>-22.6400</td>\n",
       "      <td>1.6000</td>\n",
       "      <td>1</td>\n",
       "      <td>1</td>\n",
       "      <td>0.00</td>\n",
       "      <td>42874</td>\n",
       "      <td>62</td>\n",
       "      <td>60</td>\n",
       "      <td>2</td>\n",
       "      <td>0.00</td>\n",
       "      <td>0.00</td>\n",
       "      <td>6.90</td>\n",
       "      <td>0</td>\n",
       "      <td>0.00</td>\n",
       "      <td>5.33</td>\n",
       "      <td>3.18</td>\n",
       "      <td>-9.52</td>\n",
       "      <td>-5.38</td>\n",
       "      <td>0.38</td>\n",
       "      <td>-21.64</td>\n",
       "      <td>7.412620</td>\n",
       "      <td>1828</td>\n",
       "      <td>-87.4700</td>\n",
       "      <td>42.0600</td>\n",
       "      <td>10</td>\n",
       "      <td>3</td>\n",
       "    </tr>\n",
       "    <tr>\n",
       "      <td>1559</td>\n",
       "      <td>3.0</td>\n",
       "      <td>8</td>\n",
       "      <td>51</td>\n",
       "      <td>5</td>\n",
       "      <td>149.00</td>\n",
       "      <td>-3.020000</td>\n",
       "      <td>149.950000</td>\n",
       "      <td>144.500000</td>\n",
       "      <td>0.006335</td>\n",
       "      <td>0.031142</td>\n",
       "      <td>49.000000</td>\n",
       "      <td>58</td>\n",
       "      <td>32</td>\n",
       "      <td>23</td>\n",
       "      <td>17</td>\n",
       "      <td>147.05</td>\n",
       "      <td>-1</td>\n",
       "      <td>24.43</td>\n",
       "      <td>162.000000</td>\n",
       "      <td>150.40</td>\n",
       "      <td>1</td>\n",
       "      <td>42030</td>\n",
       "      <td>-24.1200</td>\n",
       "      <td>17.8000</td>\n",
       "      <td>41.9200</td>\n",
       "      <td>0</td>\n",
       "      <td>60.627339</td>\n",
       "      <td>0.6900</td>\n",
       "      <td>16.1300</td>\n",
       "      <td>0.9800</td>\n",
       "      <td>0.0600</td>\n",
       "      <td>4.2800</td>\n",
       "      <td>0</td>\n",
       "      <td>0</td>\n",
       "      <td>24.43</td>\n",
       "      <td>42874</td>\n",
       "      <td>46</td>\n",
       "      <td>47</td>\n",
       "      <td>-1</td>\n",
       "      <td>0.00</td>\n",
       "      <td>0.67</td>\n",
       "      <td>0.92</td>\n",
       "      <td>0</td>\n",
       "      <td>0.00</td>\n",
       "      <td>0.23</td>\n",
       "      <td>5.48</td>\n",
       "      <td>0.33</td>\n",
       "      <td>0.02</td>\n",
       "      <td>1.45</td>\n",
       "      <td>-18.03</td>\n",
       "      <td>1.225012</td>\n",
       "      <td>439</td>\n",
       "      <td>-24.1200</td>\n",
       "      <td>29.4400</td>\n",
       "      <td>10</td>\n",
       "      <td>2</td>\n",
       "    </tr>\n",
       "    <tr>\n",
       "      <td>1560</td>\n",
       "      <td>3.0</td>\n",
       "      <td>17</td>\n",
       "      <td>56</td>\n",
       "      <td>6</td>\n",
       "      <td>866.10</td>\n",
       "      <td>-0.940000</td>\n",
       "      <td>869.950000</td>\n",
       "      <td>853.150000</td>\n",
       "      <td>0.004426</td>\n",
       "      <td>0.015179</td>\n",
       "      <td>22.000000</td>\n",
       "      <td>4</td>\n",
       "      <td>1</td>\n",
       "      <td>1</td>\n",
       "      <td>-1</td>\n",
       "      <td>898.70</td>\n",
       "      <td>4</td>\n",
       "      <td>31.88</td>\n",
       "      <td>34.000000</td>\n",
       "      <td>928.00</td>\n",
       "      <td>7</td>\n",
       "      <td>42030</td>\n",
       "      <td>103.6700</td>\n",
       "      <td>82.3800</td>\n",
       "      <td>-21.2900</td>\n",
       "      <td>1</td>\n",
       "      <td>60.627339</td>\n",
       "      <td>25.6700</td>\n",
       "      <td>32.7700</td>\n",
       "      <td>23.9400</td>\n",
       "      <td>26.3000</td>\n",
       "      <td>27.7800</td>\n",
       "      <td>1</td>\n",
       "      <td>1</td>\n",
       "      <td>31.88</td>\n",
       "      <td>42882</td>\n",
       "      <td>59</td>\n",
       "      <td>62</td>\n",
       "      <td>-3</td>\n",
       "      <td>0.00</td>\n",
       "      <td>0.75</td>\n",
       "      <td>0.00</td>\n",
       "      <td>0</td>\n",
       "      <td>0.00</td>\n",
       "      <td>6.44</td>\n",
       "      <td>8.21</td>\n",
       "      <td>6.01</td>\n",
       "      <td>6.61</td>\n",
       "      <td>6.97</td>\n",
       "      <td>26.03</td>\n",
       "      <td>1.232307</td>\n",
       "      <td>3384</td>\n",
       "      <td>103.6700</td>\n",
       "      <td>39.0700</td>\n",
       "      <td>10</td>\n",
       "      <td>3</td>\n",
       "    </tr>\n",
       "    <tr>\n",
       "      <td>1561</td>\n",
       "      <td>2.0</td>\n",
       "      <td>27</td>\n",
       "      <td>51</td>\n",
       "      <td>5</td>\n",
       "      <td>5.25</td>\n",
       "      <td>-0.002828</td>\n",
       "      <td>703.291434</td>\n",
       "      <td>683.902683</td>\n",
       "      <td>0.018764</td>\n",
       "      <td>0.014829</td>\n",
       "      <td>18.000000</td>\n",
       "      <td>4</td>\n",
       "      <td>9</td>\n",
       "      <td>5</td>\n",
       "      <td>19</td>\n",
       "      <td>6.00</td>\n",
       "      <td>13</td>\n",
       "      <td>4.08</td>\n",
       "      <td>3.000000</td>\n",
       "      <td>6.75</td>\n",
       "      <td>22</td>\n",
       "      <td>42030</td>\n",
       "      <td>-195.0452</td>\n",
       "      <td>1.0301</td>\n",
       "      <td>196.0753</td>\n",
       "      <td>0</td>\n",
       "      <td>60.627339</td>\n",
       "      <td>2.7294</td>\n",
       "      <td>3.0548</td>\n",
       "      <td>-4.7541</td>\n",
       "      <td>6.6758</td>\n",
       "      <td>-59.5264</td>\n",
       "      <td>1</td>\n",
       "      <td>1</td>\n",
       "      <td>4.08</td>\n",
       "      <td>42776</td>\n",
       "      <td>8</td>\n",
       "      <td>11</td>\n",
       "      <td>-3</td>\n",
       "      <td>81.88</td>\n",
       "      <td>0.00</td>\n",
       "      <td>-1.06</td>\n",
       "      <td>1</td>\n",
       "      <td>0.00</td>\n",
       "      <td>0.46</td>\n",
       "      <td>0.52</td>\n",
       "      <td>-0.81</td>\n",
       "      <td>1.13</td>\n",
       "      <td>-10.09</td>\n",
       "      <td>-33.06</td>\n",
       "      <td>0.039748</td>\n",
       "      <td>31</td>\n",
       "      <td>-195.0452</td>\n",
       "      <td>29.4964</td>\n",
       "      <td>5</td>\n",
       "      <td>2</td>\n",
       "    </tr>\n",
       "  </tbody>\n",
       "</table>\n",
       "<p>1562 rows × 56 columns</p>\n",
       "</div>"
      ],
      "text/plain": [
       "      Category  Sector  RM  Up  Last Traded Price  Percentage Change  \\\n",
       "0          2.0       8  51   5              43.00          -0.002828   \n",
       "1          0.0      27  51   5               5.35          -0.002828   \n",
       "2          2.0      10   0   0           12219.65           1.230000   \n",
       "3          6.0      27  51   5              75.60           0.260000   \n",
       "4          4.0      27   0   0             623.90           0.170000   \n",
       "...        ...     ...  ..  ..                ...                ...   \n",
       "1557       3.0      29  51   5              32.65          -0.002828   \n",
       "1558       7.0      14  51   5             434.60          -3.320000   \n",
       "1559       3.0       8  51   5             149.00          -3.020000   \n",
       "1560       3.0      17  56   6             866.10          -0.940000   \n",
       "1561       2.0      27  51   5               5.25          -0.002828   \n",
       "\n",
       "        High Price     Low Price  % High Movt  % Low movt  Yearly Gainner  \\\n",
       "0       703.291434    683.902683     0.018764    0.014829       30.000000   \n",
       "1       703.291434    683.902683     0.018764    0.014829       26.000000   \n",
       "2     12399.950000  12115.000000     0.014540    0.008638       13.000000   \n",
       "3        76.700000     75.600000     0.014342    0.112000       53.693804   \n",
       "4       640.000000    624.000000     0.025156   -0.000160      -37.000000   \n",
       "...            ...           ...          ...         ...             ...   \n",
       "1557    703.291434    683.902683     0.018764    0.014829        2.000000   \n",
       "1558    439.900000    418.600000     0.012048    0.038223      168.000000   \n",
       "1559    149.950000    144.500000     0.006335    0.031142       49.000000   \n",
       "1560    869.950000    853.150000     0.004426    0.015179       22.000000   \n",
       "1561    703.291434    683.902683     0.018764    0.014829       18.000000   \n",
       "\n",
       "      27th Dec  1st Feb  1st March  1st April        RH  Corr  PeRatio  \\\n",
       "0           36       11         19         23     49.40    13    10.72   \n",
       "1            1       -3          5          6      5.80     8     6.89   \n",
       "2           22        8          9          6  12231.00     0    66.29   \n",
       "3           33       19         12          8     82.95     9   213.40   \n",
       "4           -1        4          7          3    663.80     6    23.20   \n",
       "...        ...      ...        ...        ...       ...   ...      ...   \n",
       "1557        33       19        -10         -6     36.65    11    25.04   \n",
       "1558        96       33         24         20    436.00     0     0.00   \n",
       "1559        58       32         23         17    147.05    -1    24.43   \n",
       "1560         4        1          1         -1    898.70     4    31.88   \n",
       "1561         4        9          5         19      6.00    13     4.08   \n",
       "\n",
       "          New Pe  W52_High  Corre  latest  Annual_Pat  Cum PAT 3 Quarter  \\\n",
       "0      16.538462     49.40     13   42775     11.0609            11.7275   \n",
       "1       8.000000      7.15     25   42030  -1059.2700            60.7600   \n",
       "2      81.000000  15250.00     20   42775    200.9298           150.3639   \n",
       "3     630.000000     96.00     21   42767      0.0000             0.1442   \n",
       "4      18.000000   1119.00     44   42030     53.2361            85.4227   \n",
       "...          ...       ...    ...     ...         ...                ...   \n",
       "1557   17.000000     41.40     21   42030      0.6255             0.5136   \n",
       "1558   20.000000    449.95      3   42030    -87.4700            -4.2600   \n",
       "1559  162.000000    150.40      1   42030    -24.1200            17.8000   \n",
       "1560   34.000000    928.00      7   42030    103.6700            82.3800   \n",
       "1561    3.000000      6.75     22   42030   -195.0452             1.0301   \n",
       "\n",
       "       Pat Jump  Annual Growth  Mar_17_ReportedPAT  Dec_16_ReportedPAT  \\\n",
       "0        0.6666              0            0.000000              2.2822   \n",
       "1     1120.0300              1           33.340000             19.0100   \n",
       "2      -50.5659              0            0.000000             42.4332   \n",
       "3        0.1442              0            0.000000              0.1442   \n",
       "4       32.1866              1           40.180600             32.6003   \n",
       "...         ...            ...                 ...                 ...   \n",
       "1557    -0.1119              0           60.627339              0.2476   \n",
       "1558    83.2100              1           60.627339             22.4000   \n",
       "1559    41.9200              0           60.627339              0.6900   \n",
       "1560   -21.2900              1           60.627339             25.6700   \n",
       "1561   196.0753              0           60.627339              2.7294   \n",
       "\n",
       "      Sep_16_ReportedPAT  Jun_16_ReportedPAT  Mar_16_ReportedPAT  \\\n",
       "0                 4.4844              4.9609              2.3595   \n",
       "1                21.5800             20.1700           -812.2800   \n",
       "2                48.2087             59.7220             58.4132   \n",
       "3                 0.0000              0.0000              0.0000   \n",
       "4                28.6688             24.1536             16.3649   \n",
       "...                  ...                 ...                 ...   \n",
       "1557              0.2184              0.0476              0.1916   \n",
       "1558             13.3900            -40.0500            -22.6400   \n",
       "1559             16.1300              0.9800              0.0600   \n",
       "1560             32.7700             23.9400             26.3000   \n",
       "1561              3.0548             -4.7541              6.6758   \n",
       "\n",
       "      Dec_15_ReportedPAT  Y oY PAT  PAT Growth  PeRatio.1  ResultDate  \\\n",
       "0                 3.2153         1           1      10.72       42775   \n",
       "1               -79.0800         1           1       6.89       42855   \n",
       "2                56.6134         1           1      66.29       42775   \n",
       "3               130.8301         0           0     213.40       42767   \n",
       "4                15.1859         1           1      23.20       42865   \n",
       "...                  ...       ...         ...        ...         ...   \n",
       "1557              0.0799         1           1      25.04       42880   \n",
       "1558              1.6000         1           1       0.00       42874   \n",
       "1559              4.2800         0           0      24.43       42874   \n",
       "1560             27.7800         1           1      31.88       42882   \n",
       "1561            -59.5264         1           1       4.08       42776   \n",
       "\n",
       "      Mar_17_Inst_no_of_shares  Dec_16_Inst_no_of_shares  Int/ Incr/ Decr  \\\n",
       "0                            3                         2                1   \n",
       "1                           46                        49               -3   \n",
       "2                           51                        48                3   \n",
       "3                           14                        15               -1   \n",
       "4                            6                         6                0   \n",
       "...                        ...                       ...              ...   \n",
       "1557                         3                         3                0   \n",
       "1558                        62                        60                2   \n",
       "1559                        46                        47               -1   \n",
       "1560                        59                        62               -3   \n",
       "1561                         8                        11               -3   \n",
       "\n",
       "      Pledge  DividendYield  DERatio  FB  Mar_17_Eps_Before  \\\n",
       "0      54.38           0.00     1.70   1               0.00   \n",
       "1       0.00           0.00    -0.52   1               0.27   \n",
       "2       0.00           0.00     0.01   1               0.00   \n",
       "3       0.00           6.61     0.16   1               0.00   \n",
       "4       8.78           0.00     0.01   0              17.12   \n",
       "...      ...            ...      ...  ..                ...   \n",
       "1557    0.00           1.53     0.00   0               0.00   \n",
       "1558    0.00           0.00     6.90   0               0.00   \n",
       "1559    0.00           0.67     0.92   0               0.00   \n",
       "1560    0.00           0.75     0.00   0               0.00   \n",
       "1561   81.88           0.00    -1.06   1               0.00   \n",
       "\n",
       "      Dec_16_Eps_Before  Sep_16_Eps_Before  Jun_16_Eps_Before  \\\n",
       "0                  0.65               1.29               1.41   \n",
       "1                  0.17               0.14               0.31   \n",
       "2                 37.67              42.79              53.02   \n",
       "3                  0.03               0.00               0.00   \n",
       "4                  8.80              20.65              16.89   \n",
       "...                 ...                ...                ...   \n",
       "1557               0.48               0.42               0.09   \n",
       "1558               5.33               3.18              -9.52   \n",
       "1559               0.23               5.48               0.33   \n",
       "1560               6.44               8.21               6.01   \n",
       "1561               0.46               0.52              -0.81   \n",
       "\n",
       "      Mar_16_Eps_Before  Dec_15_Eps_Before  Annual_Eps    Volume  MarketCap  \\\n",
       "0                  0.67               0.91        3.11  0.532215        152   \n",
       "1                -12.69              -1.32      -16.96  1.164510        633   \n",
       "2                 51.85              50.26      178.36  1.041870      13766   \n",
       "3                  0.00              28.39        0.00  1.250000        348   \n",
       "4                 11.34              10.34       36.34  4.816666       1904   \n",
       "...                 ...                ...         ...       ...        ...   \n",
       "1557               0.37               0.15        1.21  0.003046         17   \n",
       "1558              -5.38               0.38      -21.64  7.412620       1828   \n",
       "1559               0.02               1.45      -18.03  1.225012        439   \n",
       "1560               6.61               6.97       26.03  1.232307       3384   \n",
       "1561               1.13             -10.09      -33.06  0.039748         31   \n",
       "\n",
       "      Annual_Pat.1  EquityCapital  FaceValue  Cap Category  \n",
       "0          11.0609        17.6433          5             2  \n",
       "1       -1059.2700      1047.4500         10             2  \n",
       "2         200.9298        11.2651         10             1  \n",
       "3           0.0000         9.2157          2             2  \n",
       "4          53.2361        15.2588          5             3  \n",
       "...            ...            ...        ...           ...  \n",
       "1557        0.6255         5.1772         10             2  \n",
       "1558      -87.4700        42.0600         10             3  \n",
       "1559      -24.1200        29.4400         10             2  \n",
       "1560      103.6700        39.0700         10             3  \n",
       "1561     -195.0452        29.4964          5             2  \n",
       "\n",
       "[1562 rows x 56 columns]"
      ]
     },
     "execution_count": 305,
     "metadata": {},
     "output_type": "execute_result"
    }
   ],
   "source": [
    "x=df.drop(columns=(['Share','TB','Year End',\"LQ>0.5(4q's)\",'New Listing','PE High Price High','Future']))\n",
    "y=df['MarketCap']\n",
    "x"
   ]
  },
  {
   "cell_type": "code",
   "execution_count": 306,
   "metadata": {},
   "outputs": [
    {
     "data": {
      "text/plain": [
       "Category                    float64\n",
       "Sector                        int32\n",
       "RM                            int32\n",
       "Up                            int32\n",
       "Last Traded Price           float64\n",
       "Percentage Change           float64\n",
       "High Price                  float64\n",
       "Low Price                   float64\n",
       "% High Movt                 float64\n",
       "% Low movt                  float64\n",
       "Yearly Gainner              float64\n",
       "27th Dec                      int32\n",
       "1st Feb                       int32\n",
       "1st March                     int32\n",
       "1st April                     int32\n",
       "RH                          float64\n",
       "Corr                          int32\n",
       "PeRatio                     float64\n",
       "New Pe                      float64\n",
       "W52_High                    float64\n",
       "Corre                         int32\n",
       "latest                        int32\n",
       "Annual_Pat                  float64\n",
       "Cum PAT 3 Quarter           float64\n",
       "Pat Jump                    float64\n",
       "Annual Growth                 int32\n",
       "Mar_17_ReportedPAT          float64\n",
       "Dec_16_ReportedPAT          float64\n",
       "Sep_16_ReportedPAT          float64\n",
       "Jun_16_ReportedPAT          float64\n",
       "Mar_16_ReportedPAT          float64\n",
       "Dec_15_ReportedPAT          float64\n",
       "Y oY PAT                      int32\n",
       "PAT Growth                    int32\n",
       "PeRatio.1                   float64\n",
       "ResultDate                    int32\n",
       "Mar_17_Inst_no_of_shares      int32\n",
       "Dec_16_Inst_no_of_shares      int32\n",
       "Int/ Incr/ Decr               int32\n",
       "Pledge                      float64\n",
       "DividendYield               float64\n",
       "DERatio                     float64\n",
       "FB                            int32\n",
       "Mar_17_Eps_Before           float64\n",
       "Dec_16_Eps_Before           float64\n",
       "Sep_16_Eps_Before           float64\n",
       "Jun_16_Eps_Before           float64\n",
       "Mar_16_Eps_Before           float64\n",
       "Dec_15_Eps_Before           float64\n",
       "Annual_Eps                  float64\n",
       "Volume                      float64\n",
       "MarketCap                     int32\n",
       "Annual_Pat.1                float64\n",
       "EquityCapital               float64\n",
       "FaceValue                     int32\n",
       "Cap Category                  int32\n",
       "dtype: object"
      ]
     },
     "execution_count": 306,
     "metadata": {},
     "output_type": "execute_result"
    }
   ],
   "source": [
    "x.dtypes"
   ]
  },
  {
   "cell_type": "markdown",
   "metadata": {},
   "source": [
    "# PCA"
   ]
  },
  {
   "cell_type": "code",
   "execution_count": 307,
   "metadata": {},
   "outputs": [],
   "source": [
    "# Standardization\n",
    "from sklearn.model_selection import train_test_split\n",
    "X_train,X_test,Y_train,Y_test=train_test_split(x,y,test_size=0.25)\n",
    "\n",
    "from sklearn.preprocessing import StandardScaler\n",
    "sc=StandardScaler()\n",
    "X_train=sc.fit_transform(X_train)\n",
    "X_test=sc.transform(X_test)"
   ]
  },
  {
   "cell_type": "code",
   "execution_count": 308,
   "metadata": {},
   "outputs": [
    {
     "name": "stdout",
     "output_type": "stream",
     "text": [
      "Explained variance:  [2.21162941e-01 1.71583428e-01 7.96872859e-02 5.25591877e-02\n",
      " 3.75321888e-02 3.67214052e-02 3.63491234e-02 3.27773830e-02\n",
      " 2.96709159e-02 2.20955043e-02 2.06888011e-02 1.89431086e-02\n",
      " 1.87711826e-02 1.83438667e-02 1.77426995e-02 1.64944471e-02\n",
      " 1.63143012e-02 1.58190839e-02 1.45129869e-02 1.39427783e-02\n",
      " 1.27368313e-02 1.19290112e-02 1.06896977e-02 9.42278048e-03\n",
      " 8.47347079e-03 7.47346123e-03 6.95333743e-03 5.84026492e-03\n",
      " 4.96831892e-03 3.87282742e-03 3.39135174e-03 3.27249634e-03\n",
      " 3.14576967e-03 2.26901036e-03 1.82079171e-03 1.61893356e-03\n",
      " 1.39289914e-03 1.35797394e-03 1.18437909e-03 1.09528830e-03\n",
      " 1.06806765e-03 1.01118005e-03 8.41017550e-04 7.98163692e-04\n",
      " 6.31859951e-04 4.64342617e-04 2.71900220e-04 1.42076201e-04\n",
      " 6.88242298e-05 4.23849616e-05 2.24465002e-05 7.77006285e-06\n",
      " 4.30747522e-06 2.67107721e-06 1.47332446e-06 1.42816428e-32]\n"
     ]
    }
   ],
   "source": [
    "#Applying PCA\n",
    "from sklearn.decomposition import PCA\n",
    "pc=PCA()\n",
    "X_train=pc.fit_transform(X_train)\n",
    "X_test=pc.transform(X_test)\n",
    "exp_var=pc.explained_variance_ratio_\n",
    "print(\"Explained variance: \",exp_var)"
   ]
  },
  {
   "cell_type": "code",
   "execution_count": 309,
   "metadata": {},
   "outputs": [],
   "source": [
    "\n",
    "from sklearn.linear_model import LinearRegression\n",
    "lr=LinearRegression()\n",
    "lr.fit(X_train,Y_train)\n",
    "pred=lr.predict(X_test)\n",
    "#print(pred)"
   ]
  },
  {
   "cell_type": "code",
   "execution_count": 310,
   "metadata": {},
   "outputs": [
    {
     "name": "stdout",
     "output_type": "stream",
     "text": [
      "Score:  1.0\n"
     ]
    }
   ],
   "source": [
    "acc=lr.score(X_train,Y_train)\n",
    "print(\"Score: \",acc)"
   ]
  },
  {
   "cell_type": "code",
   "execution_count": 311,
   "metadata": {},
   "outputs": [
    {
     "data": {
      "text/plain": [
       "[<matplotlib.lines.Line2D at 0x2c0927cde10>,\n",
       " <matplotlib.lines.Line2D at 0x2c0927cdf60>,\n",
       " <matplotlib.lines.Line2D at 0x2c0928a70f0>,\n",
       " <matplotlib.lines.Line2D at 0x2c0928a7240>,\n",
       " <matplotlib.lines.Line2D at 0x2c0928a7390>,\n",
       " <matplotlib.lines.Line2D at 0x2c0928a74e0>,\n",
       " <matplotlib.lines.Line2D at 0x2c0928a7630>,\n",
       " <matplotlib.lines.Line2D at 0x2c0928a7780>,\n",
       " <matplotlib.lines.Line2D at 0x2c0928a78d0>,\n",
       " <matplotlib.lines.Line2D at 0x2c0928a7a20>,\n",
       " <matplotlib.lines.Line2D at 0x2c0928a7b70>,\n",
       " <matplotlib.lines.Line2D at 0x2c0928a7cc0>,\n",
       " <matplotlib.lines.Line2D at 0x2c0928a7e10>,\n",
       " <matplotlib.lines.Line2D at 0x2c0928a7f60>,\n",
       " <matplotlib.lines.Line2D at 0x2c0928ae0f0>,\n",
       " <matplotlib.lines.Line2D at 0x2c0928ae240>,\n",
       " <matplotlib.lines.Line2D at 0x2c0928ae390>,\n",
       " <matplotlib.lines.Line2D at 0x2c0928ae4e0>,\n",
       " <matplotlib.lines.Line2D at 0x2c0928ae630>,\n",
       " <matplotlib.lines.Line2D at 0x2c0928ae780>,\n",
       " <matplotlib.lines.Line2D at 0x2c0928ae8d0>,\n",
       " <matplotlib.lines.Line2D at 0x2c092799c88>,\n",
       " <matplotlib.lines.Line2D at 0x2c0928aeb38>,\n",
       " <matplotlib.lines.Line2D at 0x2c0928aec88>,\n",
       " <matplotlib.lines.Line2D at 0x2c0928aedd8>,\n",
       " <matplotlib.lines.Line2D at 0x2c0928aef28>,\n",
       " <matplotlib.lines.Line2D at 0x2c0928b30b8>,\n",
       " <matplotlib.lines.Line2D at 0x2c0928b3208>,\n",
       " <matplotlib.lines.Line2D at 0x2c0928b3358>,\n",
       " <matplotlib.lines.Line2D at 0x2c0928b34a8>,\n",
       " <matplotlib.lines.Line2D at 0x2c0928b35f8>,\n",
       " <matplotlib.lines.Line2D at 0x2c0928b3748>,\n",
       " <matplotlib.lines.Line2D at 0x2c0928b3898>,\n",
       " <matplotlib.lines.Line2D at 0x2c0928b39e8>,\n",
       " <matplotlib.lines.Line2D at 0x2c0928b3b38>,\n",
       " <matplotlib.lines.Line2D at 0x2c0928b3c88>,\n",
       " <matplotlib.lines.Line2D at 0x2c0928b3dd8>,\n",
       " <matplotlib.lines.Line2D at 0x2c0928b3f28>,\n",
       " <matplotlib.lines.Line2D at 0x2c0928b60b8>,\n",
       " <matplotlib.lines.Line2D at 0x2c0928b6208>,\n",
       " <matplotlib.lines.Line2D at 0x2c0928b6358>,\n",
       " <matplotlib.lines.Line2D at 0x2c0928b64a8>,\n",
       " <matplotlib.lines.Line2D at 0x2c0928b65f8>,\n",
       " <matplotlib.lines.Line2D at 0x2c0928b6748>,\n",
       " <matplotlib.lines.Line2D at 0x2c0928b6898>,\n",
       " <matplotlib.lines.Line2D at 0x2c0928b69e8>,\n",
       " <matplotlib.lines.Line2D at 0x2c0928b6b38>,\n",
       " <matplotlib.lines.Line2D at 0x2c0928b6c88>,\n",
       " <matplotlib.lines.Line2D at 0x2c0928b6dd8>,\n",
       " <matplotlib.lines.Line2D at 0x2c0928b6f28>,\n",
       " <matplotlib.lines.Line2D at 0x2c0928c00b8>,\n",
       " <matplotlib.lines.Line2D at 0x2c0928c0208>,\n",
       " <matplotlib.lines.Line2D at 0x2c0928c0358>,\n",
       " <matplotlib.lines.Line2D at 0x2c0928c04a8>,\n",
       " <matplotlib.lines.Line2D at 0x2c0928c05f8>,\n",
       " <matplotlib.lines.Line2D at 0x2c0928c0748>]"
      ]
     },
     "execution_count": 311,
     "metadata": {},
     "output_type": "execute_result"
    },
    {
     "data": {
      "image/png": "[encoded data removed]",
      "text/plain": [
       "<Figure size 432x288 with 1 Axes>"
      ]
     },
     "metadata": {
      "needs_background": "dark"
     },
     "output_type": "display_data"
    }
   ],
   "source": [
    "import matplotlib.pyplot as plt\n",
    "import numpy as np\n",
    "plt.plot(X_test,pred)\n",
    "#plt.scatter(X_test,Y_test)\n",
    "#because x has multiple variables, x,y must be of same size to plot line graph"
   ]
  },
  {
   "cell_type": "code",
   "execution_count": 312,
   "metadata": {},
   "outputs": [
    {
     "data": {
      "text/plain": [
       "[<matplotlib.lines.Line2D at 0x2c092beecf8>]"
      ]
     },
     "execution_count": 312,
     "metadata": {},
     "output_type": "execute_result"
    },
    {
     "data": {
      "image/png": "[encoded data removed]",
      "text/plain": [
       "<Figure size 432x288 with 1 Axes>"
      ]
     },
     "metadata": {
      "needs_background": "dark"
     },
     "output_type": "display_data"
    }
   ],
   "source": [
    "# for plotting\n",
    "\n",
    "x1=df[['Cap Category']]\n",
    "y1=df['MarketCap']\n",
    "from sklearn.model_selection import train_test_split\n",
    "X_train,X_test,Y_train,Y_test=train_test_split(x1,y1,test_size=0.25)\n",
    "from sklearn.linear_model import LinearRegression\n",
    "lr1=LinearRegression()\n",
    "lr1.fit(X_train,Y_train)\n",
    "pred1=lr1.predict(X_test)\n",
    "#print(pred1)\n",
    "plt.scatter(X_test,Y_test)\n",
    "plt.plot(X_test,pred1)"
   ]
  },
  {
   "cell_type": "code",
   "execution_count": null,
   "metadata": {},
   "outputs": [],
   "source": []
  },
  {
   "cell_type": "code",
   "execution_count": null,
   "metadata": {},
   "outputs": [],
   "source": []
  }
 ],
 "metadata": {
  "kernelspec": {
   "display_name": "Python 3",
   "language": "python",
   "name": "python3"
  },
  "language_info": {
   "codemirror_mode": {
    "name": "ipython",
    "version": 3
   },
   "file_extension": ".py",
   "mimetype": "text/x-python",
   "name": "python",
   "nbconvert_exporter": "python",
   "pygments_lexer": "ipython3",
   "version": "3.6.9"
  }
 },
 "nbformat": 4,
 "nbformat_minor": 2
}
