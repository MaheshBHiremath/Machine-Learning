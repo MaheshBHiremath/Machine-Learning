{
 "cells": [
  {
   "cell_type": "markdown",
   "metadata": {},
   "source": [
    "#Logistic Regression, Decision tree, SVM, KNN"
   ]
  },
  {
   "cell_type": "code",
   "execution_count": 1,
   "metadata": {},
   "outputs": [
    {
     "name": "stdout",
     "output_type": "stream",
     "text": [
      "<class 'pandas.core.frame.DataFrame'>\n",
      "RangeIndex: 10000 entries, 0 to 9999\n",
      "Data columns (total 18 columns):\n",
      "Loan ID                         10000 non-null object\n",
      "Customer ID                     10000 non-null object\n",
      "Current Loan Amount             10000 non-null int64\n",
      "Term                            10000 non-null object\n",
      "Credit Score                    8019 non-null float64\n",
      "Annual Income                   8019 non-null float64\n",
      "Years in current job            9573 non-null object\n",
      "Home Ownership                  10000 non-null object\n",
      "Purpose                         10000 non-null object\n",
      "Monthly Debt                    10000 non-null float64\n",
      "Years of Credit History         10000 non-null float64\n",
      "Months since last delinquent    4694 non-null float64\n",
      "Number of Open Accounts         10000 non-null int64\n",
      "Number of Credit Problems       10000 non-null int64\n",
      "Current Credit Balance          10000 non-null int64\n",
      "Maximum Open Credit             10000 non-null int64\n",
      "Bankruptcies                    9978 non-null float64\n",
      "Tax Liens                       9999 non-null float64\n",
      "dtypes: float64(7), int64(5), object(6)\n",
      "memory usage: 1.4+ MB\n"
     ]
    }
   ],
   "source": [
    "import pandas as pd\n",
    "import numpy as np\n",
    "#import pandas_profiling as pp\n",
    "df=pd.read_csv('credit_test.csv')\n",
    "df.info()\n",
    "#profile=df.profile_report(title=\"bank credit\")\n",
    "#profile.to_file(output_file=\"bank_credit.html\")"
   ]
  },
  {
   "cell_type": "code",
   "execution_count": 2,
   "metadata": {},
   "outputs": [
    {
     "name": "stdout",
     "output_type": "stream",
     "text": [
      "[1 1 3 ... 3 1 1]\n"
     ]
    },
    {
     "data": {
      "text/plain": [
       "dtype('int32')"
      ]
     },
     "execution_count": 2,
     "metadata": {},
     "output_type": "execute_result"
    }
   ],
   "source": [
    "from sklearn.preprocessing import LabelEncoder\n",
    "Le=LabelEncoder()\n",
    "Le.fit(df['Home Ownership']) #to form classes of given data\n",
    "print(Le.transform(df['Home Ownership']))\n",
    "df['Home Ownership']=Le.transform(df['Home Ownership'])\n",
    "#df.head()\n",
    "df['Home Ownership'].dtype"
   ]
  },
  {
   "cell_type": "code",
   "execution_count": 3,
   "metadata": {},
   "outputs": [
    {
     "data": {
      "text/plain": [
       "Loan ID                            0\n",
       "Customer ID                        0\n",
       "Current Loan Amount                0\n",
       "Term                               0\n",
       "Credit Score                    1981\n",
       "Annual Income                   1981\n",
       "Years in current job             427\n",
       "Home Ownership                     0\n",
       "Purpose                            0\n",
       "Monthly Debt                       0\n",
       "Years of Credit History            0\n",
       "Months since last delinquent    5306\n",
       "Number of Open Accounts            0\n",
       "Number of Credit Problems          0\n",
       "Current Credit Balance             0\n",
       "Maximum Open Credit                0\n",
       "Bankruptcies                      22\n",
       "Tax Liens                          1\n",
       "dtype: int64"
      ]
     },
     "execution_count": 3,
     "metadata": {},
     "output_type": "execute_result"
    }
   ],
   "source": [
    "df.isnull().sum()"
   ]
  },
  {
   "cell_type": "code",
   "execution_count": 4,
   "metadata": {},
   "outputs": [
    {
     "data": {
      "text/plain": [
       "Loan ID                            0\n",
       "Customer ID                        0\n",
       "Current Loan Amount                0\n",
       "Term                               0\n",
       "Credit Score                       0\n",
       "Annual Income                      0\n",
       "Years in current job             427\n",
       "Home Ownership                     0\n",
       "Purpose                            0\n",
       "Monthly Debt                       0\n",
       "Years of Credit History            0\n",
       "Months since last delinquent    5306\n",
       "Number of Open Accounts            0\n",
       "Number of Credit Problems          0\n",
       "Current Credit Balance             0\n",
       "Maximum Open Credit                0\n",
       "Bankruptcies                       0\n",
       "Tax Liens                          1\n",
       "dtype: int64"
      ]
     },
     "execution_count": 4,
     "metadata": {},
     "output_type": "execute_result"
    }
   ],
   "source": [
    "df['Credit Score']=df['Credit Score'].fillna(0)\n",
    "df['Annual Income']=df['Annual Income'].fillna(100000)\n",
    "df['Bankruptcies']=df['Bankruptcies'].fillna(0)\n",
    "df.isnull().sum()"
   ]
  },
  {
   "cell_type": "code",
   "execution_count": 5,
   "metadata": {},
   "outputs": [
    {
     "name": "stdout",
     "output_type": "stream",
     "text": [
      "<class 'pandas.core.frame.DataFrame'>\n",
      "RangeIndex: 10000 entries, 0 to 9999\n",
      "Data columns (total 18 columns):\n",
      "Loan ID                         10000 non-null object\n",
      "Customer ID                     10000 non-null object\n",
      "Current Loan Amount             10000 non-null int64\n",
      "Term                            10000 non-null object\n",
      "Credit Score                    10000 non-null int32\n",
      "Annual Income                   10000 non-null int32\n",
      "Years in current job            9573 non-null object\n",
      "Home Ownership                  10000 non-null int32\n",
      "Purpose                         10000 non-null object\n",
      "Monthly Debt                    10000 non-null int32\n",
      "Years of Credit History         10000 non-null int32\n",
      "Months since last delinquent    4694 non-null float64\n",
      "Number of Open Accounts         10000 non-null int64\n",
      "Number of Credit Problems       10000 non-null int64\n",
      "Current Credit Balance          10000 non-null int64\n",
      "Maximum Open Credit             10000 non-null int64\n",
      "Bankruptcies                    10000 non-null int32\n",
      "Tax Liens                       9999 non-null float64\n",
      "dtypes: float64(2), int32(6), int64(5), object(5)\n",
      "memory usage: 1.1+ MB\n",
      "None\n"
     ]
    }
   ],
   "source": [
    "df['Monthly Debt']=df['Monthly Debt'].astype(int)\n",
    "df['Years of Credit History']=df['Years of Credit History'].astype(int)\n",
    "df['Credit Score']=df['Credit Score'].astype(int)\n",
    "df['Annual Income']=df['Annual Income'].astype(int)\n",
    "df['Home Ownership']=df['Home Ownership'].astype(int)\n",
    "df['Bankruptcies']=df['Bankruptcies'].astype(int)\n",
    "print(df.info())"
   ]
  },
  {
   "cell_type": "code",
   "execution_count": 6,
   "metadata": {},
   "outputs": [
    {
     "name": "stdout",
     "output_type": "stream",
     "text": [
      "<class 'pandas.core.frame.DataFrame'>\n",
      "RangeIndex: 10000 entries, 0 to 9999\n",
      "Data columns (total 10 columns):\n",
      "Current Loan Amount          10000 non-null int64\n",
      "Credit Score                 10000 non-null int32\n",
      "Annual Income                10000 non-null int32\n",
      "Home Ownership               10000 non-null int32\n",
      "Monthly Debt                 10000 non-null int32\n",
      "Years of Credit History      10000 non-null int32\n",
      "Number of Open Accounts      10000 non-null int64\n",
      "Number of Credit Problems    10000 non-null int64\n",
      "Current Credit Balance       10000 non-null int64\n",
      "Maximum Open Credit          10000 non-null int64\n",
      "dtypes: int32(5), int64(5)\n",
      "memory usage: 586.1 KB\n",
      "None\n"
     ]
    }
   ],
   "source": [
    "x=df.drop(columns=['Purpose','Loan ID','Customer ID','Term','Years in current job','Purpose','Tax Liens','Bankruptcies',\n",
    "'Months since last delinquent'])\n",
    "print(x.info())"
   ]
  },
  {
   "cell_type": "code",
   "execution_count": 7,
   "metadata": {},
   "outputs": [
    {
     "data": {
      "text/html": [
       "<div>\n",
       "<style scoped>\n",
       "    .dataframe tbody tr th:only-of-type {\n",
       "        vertical-align: middle;\n",
       "    }\n",
       "\n",
       "    .dataframe tbody tr th {\n",
       "        vertical-align: top;\n",
       "    }\n",
       "\n",
       "    .dataframe thead th {\n",
       "        text-align: right;\n",
       "    }\n",
       "</style>\n",
       "<table border=\"1\" class=\"dataframe\">\n",
       "  <thead>\n",
       "    <tr style=\"text-align: right;\">\n",
       "      <th></th>\n",
       "      <th>Bankruptcies</th>\n",
       "      <th>Credit Score</th>\n",
       "    </tr>\n",
       "    <tr>\n",
       "      <th>Bankruptcies</th>\n",
       "      <th></th>\n",
       "      <th></th>\n",
       "    </tr>\n",
       "  </thead>\n",
       "  <tbody>\n",
       "    <tr>\n",
       "      <td>0</td>\n",
       "      <td>0</td>\n",
       "      <td>7686974</td>\n",
       "    </tr>\n",
       "    <tr>\n",
       "      <td>1</td>\n",
       "      <td>1022</td>\n",
       "      <td>899757</td>\n",
       "    </tr>\n",
       "    <tr>\n",
       "      <td>2</td>\n",
       "      <td>92</td>\n",
       "      <td>36225</td>\n",
       "    </tr>\n",
       "    <tr>\n",
       "      <td>3</td>\n",
       "      <td>42</td>\n",
       "      <td>21458</td>\n",
       "    </tr>\n",
       "    <tr>\n",
       "      <td>5</td>\n",
       "      <td>5</td>\n",
       "      <td>0</td>\n",
       "    </tr>\n",
       "  </tbody>\n",
       "</table>\n",
       "</div>"
      ],
      "text/plain": [
       "              Bankruptcies  Credit Score\n",
       "Bankruptcies                            \n",
       "0                        0       7686974\n",
       "1                     1022        899757\n",
       "2                       92         36225\n",
       "3                       42         21458\n",
       "5                        5             0"
      ]
     },
     "execution_count": 7,
     "metadata": {},
     "output_type": "execute_result"
    }
   ],
   "source": [
    "y=df['Bankruptcies']\n",
    "df[['Bankruptcies','Credit Score']].groupby(df['Bankruptcies']).sum()"
   ]
  },
  {
   "cell_type": "code",
   "execution_count": 8,
   "metadata": {},
   "outputs": [
    {
     "data": {
      "text/plain": [
       "0       0\n",
       "1       0\n",
       "2       0\n",
       "3       1\n",
       "4       0\n",
       "       ..\n",
       "9995    0\n",
       "9996    0\n",
       "9997    1\n",
       "9998    0\n",
       "9999    0\n",
       "Name: Bankruptcies, Length: 10000, dtype: int64"
      ]
     },
     "execution_count": 8,
     "metadata": {},
     "output_type": "execute_result"
    }
   ],
   "source": [
    "df['Bankruptcies']=df['Bankruptcies'].map({0:0,1:1,2:1,3:1,5:1})\n",
    "# classification algorithm's target variable should be in categorical(0,1)\n",
    "#x.info()\n",
    "#df[['Tax Liens','Bankruptcies']].groupby(df['Tax Liens']).sum()\n",
    "df['Bankruptcies']"
   ]
  },
  {
   "cell_type": "code",
   "execution_count": 9,
   "metadata": {},
   "outputs": [
    {
     "data": {
      "text/plain": [
       "dtype('int64')"
      ]
     },
     "execution_count": 9,
     "metadata": {},
     "output_type": "execute_result"
    }
   ],
   "source": [
    "df['Bankruptcies'].dtype"
   ]
  },
  {
   "cell_type": "code",
   "execution_count": 10,
   "metadata": {},
   "outputs": [
    {
     "name": "stderr",
     "output_type": "stream",
     "text": [
      "C:\\Users\\MaheshHiremath\\Anaconda3-2019.10\\lib\\site-packages\\sklearn\\linear_model\\logistic.py:432: FutureWarning: Default solver will be changed to 'lbfgs' in 0.22. Specify a solver to silence this warning.\n",
      "  FutureWarning)\n",
      "C:\\Users\\MaheshHiremath\\Anaconda3-2019.10\\lib\\site-packages\\sklearn\\linear_model\\logistic.py:469: FutureWarning: Default multi_class will be changed to 'auto' in 0.22. Specify the multi_class option to silence this warning.\n",
      "  \"this warning.\", FutureWarning)\n"
     ]
    },
    {
     "name": "stdout",
     "output_type": "stream",
     "text": [
      "[0 0 0 ... 0 0 0]\n"
     ]
    }
   ],
   "source": [
    "# model building\n",
    "#1. Logistic Regression\n",
    "from sklearn.model_selection import train_test_split\n",
    "X_train,X_test,Y_train,Y_test=train_test_split(x,y,test_size=0.25)\n",
    "from sklearn.linear_model import LogisticRegression\n",
    "Lr = LogisticRegression()\n",
    "Lr.fit(X_train,Y_train)\n",
    "ypred = Lr.predict(X_test)\n",
    "print(ypred)"
   ]
  },
  {
   "cell_type": "code",
   "execution_count": 13,
   "metadata": {},
   "outputs": [
    {
     "name": "stderr",
     "output_type": "stream",
     "text": [
      "C:\\Users\\MaheshHiremath\\Anaconda3-2019.10\\lib\\site-packages\\sklearn\\metrics\\classification.py:1437: UndefinedMetricWarning: Precision and F-score are ill-defined and being set to 0.0 in labels with no predicted samples.\n",
      "  'precision', 'predicted', average, warn_for)\n"
     ]
    },
    {
     "name": "stdout",
     "output_type": "stream",
     "text": [
      "Model accuracy:  0.8936\n",
      "Confusion matrix:\n",
      "  [[2234    0    0    0]\n",
      " [ 254    0    0    0]\n",
      " [   9    0    0    0]\n",
      " [   3    0    0    0]]\n",
      "Classification report:\n",
      "                precision    recall  f1-score   support\n",
      "\n",
      "           0       0.89      1.00      0.94      2234\n",
      "           1       0.00      0.00      0.00       254\n",
      "           2       0.00      0.00      0.00         9\n",
      "           3       0.00      0.00      0.00         3\n",
      "\n",
      "    accuracy                           0.89      2500\n",
      "   macro avg       0.22      0.25      0.24      2500\n",
      "weighted avg       0.80      0.89      0.84      2500\n",
      "\n"
     ]
    },
    {
     "data": {
      "text/plain": [
       "<BarContainer object of 2500 artists>"
      ]
     },
     "execution_count": 13,
     "metadata": {},
     "output_type": "execute_result"
    },
    {
     "data": {
      "image/png": "[encoded data removed]",
      "text/plain": [
       "<Figure size 432x288 with 1 Axes>"
      ]
     },
     "metadata": {
      "needs_background": "dark"
     },
     "output_type": "display_data"
    }
   ],
   "source": [
    "from sklearn.metrics import accuracy_score\n",
    "acc=accuracy_score(ypred,Y_test)\n",
    "\n",
    "from sklearn.metrics import confusion_matrix\n",
    "cm = confusion_matrix(Y_test,ypred)\n",
    "\n",
    "from sklearn.metrics import classification_report\n",
    "cr = classification_report(Y_test,ypred)\n",
    "\n",
    "print('Model accuracy: ',acc)\n",
    "print('Confusion matrix:\\n ',cm)\n",
    "print('Classification report:\\n ',cr)\n",
    "\n",
    "import matplotlib.pyplot as plt\n",
    "plt.bar(ypred,np.arange(len(ypred)),color='r')"
   ]
  },
  {
   "cell_type": "code",
   "execution_count": 21,
   "metadata": {},
   "outputs": [
    {
     "name": "stdout",
     "output_type": "stream",
     "text": [
      "[0 0 0 ... 0 0 1]\n",
      "Accuracy score:  0.9564\n"
     ]
    },
    {
     "data": {
      "text/plain": [
       "<BarContainer object of 2500 artists>"
      ]
     },
     "execution_count": 21,
     "metadata": {},
     "output_type": "execute_result"
    },
    {
     "data": {
      "image/png": "[encoded data removed]",
      "text/plain": [
       "<Figure size 432x288 with 1 Axes>"
      ]
     },
     "metadata": {
      "needs_background": "dark"
     },
     "output_type": "display_data"
    }
   ],
   "source": [
    "#2. Decission Tree\n",
    "from sklearn.tree import DecisionTreeClassifier\n",
    "dt=DecisionTreeClassifier()\n",
    "dt.fit(X_train,Y_train)\n",
    "dt_predt=dt.predict(X_test)\n",
    "print(dt_predt)\n",
    "\n",
    "acc1=accuracy_score(dt_predt,Y_test)\n",
    "print(\"Accuracy score: \",acc1)\n",
    "\n",
    "plt.bar(dt_predt,Y_test,color=['r','b','w','y'])#it shows different graph every time it runs"
   ]
  },
  {
   "cell_type": "code",
   "execution_count": null,
   "metadata": {},
   "outputs": [],
   "source": [
    "#3. SVM\n",
    "# it takes all the variables in 'int64' format, convert int32 to int64\n",
    "from sklearn.svm import SVC\n",
    "sv=SVC(kernel='linear',C=0.001)\n",
    "sv.fit(X_train,Y_train)\n",
    "sv_predt=sv.predict(X_test)\n",
    "print(sv_predt)\n",
    "acc2=accuracy_score(sv_predt,Y_test)\n",
    "print(\"Accuracy score: \",acc2)"
   ]
  },
  {
   "cell_type": "code",
   "execution_count": 14,
   "metadata": {},
   "outputs": [
    {
     "name": "stdout",
     "output_type": "stream",
     "text": [
      "[0 0 0 ... 0 0 0]\n",
      "Accuracy score:  0.8796\n"
     ]
    }
   ],
   "source": [
    "#4. KNN\n",
    "from sklearn.neighbors import KNeighborsClassifier\n",
    "kn=KNeighborsClassifier()\n",
    "kn.fit(X_train,Y_train)\n",
    "kn_predt=kn.predict(X_test)\n",
    "print(kn_predt)\n",
    "acc3=accuracy_score(kn_predt,Y_test)\n",
    "print('Accuracy score: ',acc3)"
   ]
  },
  {
   "cell_type": "code",
   "execution_count": 15,
   "metadata": {},
   "outputs": [],
   "source": [
    "#df.to_csv('bank_clean.csv')"
   ]
  },
  {
   "cell_type": "code",
   "execution_count": null,
   "metadata": {},
   "outputs": [],
   "source": []
  }
 ],
 "metadata": {
  "kernelspec": {
   "display_name": "Python 3",
   "language": "python",
   "name": "python3"
  },
  "language_info": {
   "codemirror_mode": {
    "name": "ipython",
    "version": 3
   },
   "file_extension": ".py",
   "mimetype": "text/x-python",
   "name": "python",
   "nbconvert_exporter": "python",
   "pygments_lexer": "ipython3",
   "version": "3.6.9"
  }
 },
 "nbformat": 4,
 "nbformat_minor": 2
}
